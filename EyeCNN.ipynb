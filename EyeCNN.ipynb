{
  "nbformat": 4,
  "nbformat_minor": 0,
  "metadata": {
    "colab": {
      "provenance": []
    },
    "kernelspec": {
      "name": "python3",
      "display_name": "Python 3"
    },
    "language_info": {
      "name": "python"
    },
    "accelerator": "GPU",
    "gpuClass": "standard"
  },
  "cells": [
    {
      "cell_type": "code",
      "execution_count": null,
      "metadata": {
        "id": "Nlg1Y_7iOBes"
      },
      "outputs": [],
      "source": [
        " !pip install -q kaggle\n",
        " from google.colab import files"
      ]
    },
    {
      "cell_type": "code",
      "source": [
        "files.upload()"
      ],
      "metadata": {
        "id": "eqSBjaQNOOie"
      },
      "execution_count": null,
      "outputs": []
    },
    {
      "cell_type": "code",
      "source": [
        "! mkdir ~/.kaggle"
      ],
      "metadata": {
        "id": "wyYM6hI2OOmx"
      },
      "execution_count": null,
      "outputs": []
    },
    {
      "cell_type": "code",
      "source": [
        "! cp kaggle.json ~/.kaggle/"
      ],
      "metadata": {
        "id": "MK3DUEsGOOrY"
      },
      "execution_count": null,
      "outputs": []
    },
    {
      "cell_type": "code",
      "source": [
        "! chmod 600 ~/.kaggle/kaggle.json"
      ],
      "metadata": {
        "id": "0X9dgp2aOOwQ"
      },
      "execution_count": null,
      "outputs": []
    },
    {
      "cell_type": "code",
      "source": [
        "#! kaggle datasets list"
      ],
      "metadata": {
        "id": "qfiYhgePOOzc"
      },
      "execution_count": null,
      "outputs": []
    },
    {
      "cell_type": "code",
      "source": [
        "!kaggle datasets download -d gunavenkatdoddi/eye-diseases-classification"
      ],
      "metadata": {
        "colab": {
          "base_uri": "https://localhost:8080/"
        },
        "id": "5JaiHFPnOO2m",
        "outputId": "6a3496dc-6937-405c-9ffc-59e089bf1c59"
      },
      "execution_count": null,
      "outputs": [
        {
          "output_type": "stream",
          "name": "stdout",
          "text": [
            "Downloading eye-diseases-classification.zip to /content\n",
            "100% 736M/736M [00:24<00:00, 30.3MB/s]\n",
            "100% 736M/736M [00:24<00:00, 32.1MB/s]\n"
          ]
        }
      ]
    },
    {
      "cell_type": "code",
      "source": [
        "!unzip /content/eye-diseases-classification.zip"
      ],
      "metadata": {
        "id": "6dm10aXIHtz5"
      },
      "execution_count": null,
      "outputs": []
    },
    {
      "cell_type": "code",
      "source": [
        "# Importing required Libraries:\n",
        "#import cv2\n",
        "# import keras\n",
        "import tensorflow as tf\n",
        "#from tensorflow.keras.preprocessing.image import ImageDataGenerator\n",
        "from tensorflow.keras.optimizers import Adam\n",
        "from tensorflow.keras.models import Sequential\n",
        "from tensorflow.keras.layers import Conv2D, MaxPooling2D, BatchNormalization, Flatten, Dense, Dropout"
      ],
      "metadata": {
        "id": "p0upflgVRM2U"
      },
      "execution_count": null,
      "outputs": []
    },
    {
      "cell_type": "code",
      "source": [
        "import pandas as pd\n",
        "import matplotlib.pyplot as plt\n",
        "import numpy as np\n",
        "import scipy as sc\n",
        "%matplotlib inline"
      ],
      "metadata": {
        "id": "eqFjtFYSd6oO"
      },
      "execution_count": null,
      "outputs": []
    },
    {
      "cell_type": "code",
      "source": [
        "import tensorflow_hub as hub\n",
        "import os"
      ],
      "metadata": {
        "id": "VODh63KqOPL_"
      },
      "execution_count": null,
      "outputs": []
    },
    {
      "cell_type": "code",
      "source": [
        "path = '/content/dataset'\n",
        "address = []\n",
        "l1 = os.listdir(path)\n",
        "print(l1)\n",
        "for i in l1:\n",
        "  l2 = os.listdir(path +'/'+ i)\n",
        "  print(l2)\n",
        "  for n in l2:\n",
        "    address.append([path+'/'+i+'/'+n,i])"
      ],
      "metadata": {
        "colab": {
          "base_uri": "https://localhost:8080/"
        },
        "id": "5fGYX826OPOv",
        "outputId": "d549ad7e-801d-4075-8e1c-0f35cd3fa096"
      },
      "execution_count": null,
      "outputs": [
        {
          "output_type": "stream",
          "name": "stdout",
          "text": [
            "['normal', 'glaucoma', 'cataract', 'diabetic_retinopathy']\n",
            "['2790_right.jpg', '3198_left.jpg', '3144_left.jpg', '3168_left.jpg', '2944_left.jpg', '3034_right.jpg', '2369_right.jpg', '2985_left.jpg', '3353_left.jpg', '2645_right.jpg', '1253_right.jpg', '2419_left.jpg', '2761_left.jpg', '2659_right.jpg', '2432_right.jpg', '3226_right.jpg', '2393_left.jpg', '3018_right.jpg', '2858_left.jpg', '3273_left.jpg', '3317_left.jpg', '3259_right.jpg', '3001_right.jpg', '2743_left.jpg', '3411_left.jpg', '2940_left.jpg', '3050_left.jpg', '2518_right.jpg', '2647_left.jpg', '1034_right.jpg', '2878_right.jpg', '3170_right.jpg', '2675_left.jpg', '3256_right.jpg', '2563_right.jpg', '3412_right.jpg', '2829_left.jpg', '2547_right.jpg', '3275_left.jpg', '3290_right.jpg', '2470_right.jpg', '2843_right.jpg', '3355_left.jpg', '2948_left.jpg', '3145_left.jpg', '2961_left.jpg', '2808_left.jpg', '3010_left.jpg', '2897_left.jpg', '3095_right.jpg', '2685_left.jpg', '2356_left.jpg', '3172_left.jpg', '2773_right.jpg', '3026_right.jpg', '3364_right.jpg', '3155_left.jpg', '2835_right.jpg', '2542_right.jpg', '3356_left.jpg', '2367_left.jpg', '3424_left.jpg', '2617_right.jpg', '3029_left.jpg', '2354_left.jpg', '3000_left.jpg', '2881_left.jpg', '3097_left.jpg', '3203_left.jpg', '3223_right.jpg', '2862_right.jpg', '2608_right.jpg', '2975_left.jpg', '3079_left.jpg', '3179_left.jpg', '3018_left.jpg', '2911_left.jpg', '3362_left.jpg', '3004_right.jpg', '3194_right.jpg', '3169_left.jpg', '2697_right.jpg', '3373_right.jpg', '3100_right.jpg', '2438_right.jpg', '3259_left.jpg', '2437_right.jpg', '3208_left.jpg', '3183_left.jpg', '2857_left.jpg', '2980_left.jpg', '2556_right.jpg', '3242_right.jpg', '3011_right.jpg', '2869_right.jpg', '3153_right.jpg', '3207_right.jpg', '2394_right.jpg', '3217_right.jpg', '2500_left.jpg', '2713_right.jpg', '3198_right.jpg', '3304_right.jpg', '2543_right.jpg', '2974_right.jpg', '3275_right.jpg', '2512_right.jpg', '3017_left.jpg', '3244_right.jpg', '2573_right.jpg', '2653_right.jpg', '3381_left.jpg', '2658_left.jpg', '3320_right.jpg', '951_right.jpg', '2585_right.jpg', '2427_right.jpg', '3146_right.jpg', '2853_left.jpg', '3098_left.jpg', '2677_right.jpg', '2465_left.jpg', '2838_left.jpg', '2363_left.jpg', '2680_left.jpg', '2415_right.jpg', '2991_right.jpg', '3363_right.jpg', '2583_right.jpg', '2423_right.jpg', '3192_left.jpg', '3355_right.jpg', '3062_right.jpg', '2540_left.jpg', '8_right.jpg', '2486_left.jpg', '2463_right.jpg', '2852_left.jpg', '2335_right.jpg', '2359_right.jpg', '3383_right.jpg', '2834_right.jpg', '3138_left.jpg', '2435_left.jpg', '3399_right.jpg', '3304_left.jpg', '2403_right.jpg', '3068_left.jpg', '3075_right.jpg', '3209_right.jpg', '2886_right.jpg', '3077_right.jpg', '2957_right.jpg', '2798_right.jpg', '2821_right.jpg', '3109_right.jpg', '3434_right.jpg', '3013_left.jpg', '2826_right.jpg', '3414_left.jpg', '2580_right.jpg', '2441_left.jpg', '2446_left.jpg', '3305_right.jpg', '2650_left.jpg', '2558_left.jpg', '3218_right.jpg', '2728_right.jpg', '2448_left.jpg', '2466_left.jpg', '2386_left.jpg', '2850_left.jpg', '3102_right.jpg', '3063_right.jpg', '3397_left.jpg', '3184_right.jpg', '2673_left.jpg', '2587_right.jpg', '2709_left.jpg', '2798_left.jpg', '2736_left.jpg', '2515_left.jpg', '2332_right.jpg', '2586_right.jpg', '2971_right.jpg', '2345_left.jpg', '3298_left.jpg', '2523_left.jpg', '2763_left.jpg', '2838_right.jpg', '2750_left.jpg', '2886_left.jpg', '2651_left.jpg', '2777_left.jpg', '3114_left.jpg', '3252_right.jpg', '2848_left.jpg', '2837_right.jpg', '3287_right.jpg', '2737_right.jpg', '3200_left.jpg', '3367_left.jpg', '3433_left.jpg', '2372_left.jpg', '2892_right.jpg', '3262_right.jpg', '3403_left.jpg', '2331_left.jpg', '3407_right.jpg', '2833_left.jpg', '2775_right.jpg', '3354_left.jpg', '2857_right.jpg', '8_left.jpg', '3025_right.jpg', '2643_left.jpg', '3248_left.jpg', '2789_right.jpg', '2570_left.jpg', '2444_left.jpg', '3196_right.jpg', '3386_left.jpg', '2632_right.jpg', '2992_right.jpg', '2967_left.jpg', '2331_right.jpg', '3243_left.jpg', '2609_right.jpg', '2573_left.jpg', '2884_left.jpg', '3432_right.jpg', '2556_left.jpg', '2389_right.jpg', '3016_left.jpg', '3291_right.jpg', '3377_left.jpg', '3176_right.jpg', '2576_left.jpg', '2844_left.jpg', '3433_right.jpg', '2523_right.jpg', '2386_right.jpg', '2586_left.jpg', '2622_left.jpg', '2979_left.jpg', '3272_left.jpg', '3131_right.jpg', '3295_right.jpg', '2524_right.jpg', '2517_right.jpg', '2789_left.jpg', '2484_right.jpg', '2332_left.jpg', '2702_right.jpg', '2591_right.jpg', '3187_left.jpg', '2710_left.jpg', '2399_left.jpg', '3090_left.jpg', '2609_left.jpg', '1060_right.jpg', '3175_right.jpg', '2655_right.jpg', '3436_right.jpg', '2475_left.jpg', '3217_left.jpg', '3245_right.jpg', '2813_left.jpg', '2988_left.jpg', '3424_right.jpg', '2931_left.jpg', '2519_left.jpg', '2591_left.jpg', '3193_left.jpg', '2563_left.jpg', '2907_left.jpg', '3064_left.jpg', '3187_right.jpg', '2730_left.jpg', '2992_left.jpg', '2933_left.jpg', '2780_left.jpg', '2685_right.jpg', '3404_left.jpg', '2617_left.jpg', '3329_right.jpg', '2740_left.jpg', '3169_right.jpg', '2598_left.jpg', '2349_right.jpg', '3163_left.jpg', '2399_right.jpg', '3289_right.jpg', '3176_left.jpg', '3052_left.jpg', '2779_right.jpg', '3097_right.jpg', '3420_right.jpg', '3415_left.jpg', '2575_right.jpg', '2603_left.jpg', '3422_left.jpg', '2667_left.jpg', '2882_left.jpg', '2696_right.jpg', '4290_right.jpg', '2380_left.jpg', '2499_right.jpg', '2841_left.jpg', '2426_left.jpg', '3223_left.jpg', '3080_right.jpg', '3348_right.jpg', '2477_left.jpg', '2423_left.jpg', '3358_left.jpg', '2519_right.jpg', '3193_right.jpg', '2655_left.jpg', '2632_left.jpg', '3249_right.jpg', '3142_right.jpg', '2531_left.jpg', '2919_left.jpg', '3201_left.jpg', '2362_right.jpg', '3188_left.jpg', '3026_left.jpg', '3144_right.jpg', '3296_left.jpg', '2743_right.jpg', '2388_right.jpg', '3117_left.jpg', '3054_left.jpg', '2377_left.jpg', '3095_left.jpg', '2558_right.jpg', '2695_left.jpg', '2456_left.jpg', '1060_left.jpg', '3157_left.jpg', '2570_right.jpg', '2378_left.jpg', '2572_right.jpg', '3238_right.jpg', '2637_left.jpg', '2661_right.jpg', '2890_left.jpg', '2419_right.jpg', '3150_right.jpg', '2371_right.jpg', '2600_right.jpg', '3319_right.jpg', '2808_right.jpg', '3044_left.jpg', '3318_left.jpg', '3227_left.jpg', '3389_right.jpg', '2851_right.jpg', '3306_left.jpg', '2426_right.jpg', '2329_right.jpg', '3394_right.jpg', '3412_left.jpg', '2897_right.jpg', '2577_right.jpg', '2597_left.jpg', '3057_right.jpg', '2696_left.jpg', '2565_right.jpg', '3058_left.jpg', '2835_left.jpg', '2841_right.jpg', '3430_left.jpg', '2858_right.jpg', '2525_left.jpg', '3206_left.jpg', '2944_right.jpg', '2397_left.jpg', '3260_left.jpg', '2820_right.jpg', '3141_right.jpg', '3352_right.jpg', '3415_right.jpg', '3390_left.jpg', '3181_right.jpg', '3227_right.jpg', '2889_left.jpg', '3123_left.jpg', '3427_left.jpg', '2708_left.jpg', '2773_left.jpg', '2797_right.jpg', '3216_left.jpg', '3253_right.jpg', '3342_left.jpg', '2641_right.jpg', '2984_left.jpg', '3173_right.jpg', '2860_right.jpg', '3110_right.jpg', '84_right.jpg', '2996_right.jpg', '3295_left.jpg', '3419_right.jpg', '2681_right.jpg', '2880_left.jpg', '2583_left.jpg', '2506_right.jpg', '3325_left.jpg', '2428_left.jpg', '2660_left.jpg', '2985_right.jpg', '3315_right.jpg', '3083_left.jpg', '2576_right.jpg', '3406_right.jpg', '3020_left.jpg', '2811_left.jpg', '2382_left.jpg', '3122_right.jpg', '2707_left.jpg', '2850_right.jpg', '84_left.jpg', '3298_right.jpg', '3252_left.jpg', '2736_right.jpg', '2493_left.jpg', '2812_left.jpg', '2802_left.jpg', '3171_left.jpg', '2756_right.jpg', '2574_right.jpg', '2705_left.jpg', '3300_left.jpg', '2371_left.jpg', '2843_left.jpg', '2540_right.jpg', '2510_right.jpg', '3359_left.jpg', '2633_left.jpg', '3380_right.jpg', '3341_left.jpg', '2500_right.jpg', '3485_left.jpg', '2542_left.jpg', '2933_right.jpg', '3139_right.jpg', '3432_left.jpg', '2767_right.jpg', '2817_left.jpg', '2658_right.jpg', '2624_right.jpg', '3069_right.jpg', '3208_right.jpg', '2521_right.jpg', '2848_right.jpg', '2507_right.jpg', '2643_right.jpg', '2600_left.jpg', '3358_right.jpg', '2688_right.jpg', '2712_left.jpg', '2718_right.jpg', '3243_right.jpg', '2735_left.jpg', '2812_right.jpg', '2504_left.jpg', '3004_left.jpg', '2872_left.jpg', '2441_right.jpg', '2688_left.jpg', '2488_left.jpg', '2510_left.jpg', '3330_left.jpg', '2705_right.jpg', '2422_left.jpg', '3010_right.jpg', '2794_left.jpg', '3388_left.jpg', '2732_right.jpg', '3308_right.jpg', '2709_right.jpg', '3389_left.jpg', '3387_left.jpg', '2489_left.jpg', '2935_left.jpg', '3007_left.jpg', '3388_right.jpg', '2486_right.jpg', '3159_right.jpg', '3011_left.jpg', '2806_left.jpg', '3411_right.jpg', '2652_right.jpg', '3357_right.jpg', '2827_left.jpg', '2384_left.jpg', '2585_left.jpg', '2329_left.jpg', '2797_left.jpg', '2853_right.jpg', '2463_left.jpg', '3237_right.jpg', '2844_right.jpg', '3016_right.jpg', '3232_left.jpg', '2908_right.jpg', '2403_left.jpg', '2594_right.jpg', '3094_right.jpg', '3214_right.jpg', '2504_right.jpg', '2975_right.jpg', '3354_right.jpg', '2659_left.jpg', '2567_left.jpg', '3360_right.jpg', '2946_right.jpg', '2915_right.jpg', '2604_right.jpg', '2395_right.jpg', '2673_right.jpg', '2478_left.jpg', '3044_right.jpg', '3059_right.jpg', '3431_right.jpg', '2538_left.jpg', '2699_left.jpg', '2564_right.jpg', '3166_right.jpg', '3266_right.jpg', '3377_right.jpg', '2640_right.jpg', '3273_right.jpg', '2512_left.jpg', '2384_right.jpg', '2672_right.jpg', '3309_right.jpg', '2645_left.jpg', '2690_right.jpg', '2508_left.jpg', '2634_right.jpg', '2782_left.jpg', '3008_right.jpg', '3108_right.jpg', '3420_left.jpg', '2548_right.jpg', '2574_left.jpg', '2712_right.jpg', '3202_left.jpg', '3324_left.jpg', '2389_left.jpg', '2418_right.jpg', '2726_right.jpg', '2650_right.jpg', '2622_right.jpg', '2649_right.jpg', '3221_right.jpg', '3079_right.jpg', '3056_left.jpg', '3037_right.jpg', '3340_right.jpg', '2367_right.jpg', '2726_left.jpg', '2846_left.jpg', '3395_left.jpg', '3293_left.jpg', '2966_left.jpg', '3222_right.jpg', '2506_left.jpg', '2443_right.jpg', '3072_left.jpg', '2466_right.jpg', '3283_left.jpg', '3382_left.jpg', '3350_left.jpg', '3446_right.jpg', '2676_right.jpg', '3075_left.jpg', '3131_left.jpg', '2444_right.jpg', '3242_left.jpg', '3367_right.jpg', '2378_right.jpg', '3186_right.jpg', '3150_left.jpg', '3172_right.jpg', '3155_right.jpg', '3285_right.jpg', '3297_right.jpg', '3393_left.jpg', '3332_right.jpg', '2802_right.jpg', '3070_left.jpg', '2427_left.jpg', '2849_right.jpg', '3090_right.jpg', '3425_right.jpg', '3080_left.jpg', '2642_right.jpg', '2704_left.jpg', '2889_right.jpg', '3309_left.jpg', '3399_left.jpg', '2837_left.jpg', '3421_left.jpg', '3040_right.jpg', '2627_left.jpg', '3001_left.jpg', '2602_right.jpg', '2795_right.jpg', '2988_right.jpg', '2616_right.jpg', '2597_right.jpg', '2881_right.jpg', '2418_left.jpg', '2604_left.jpg', '2980_right.jpg', '3423_left.jpg', '2932_left.jpg', '3077_left.jpg', '3188_right.jpg', '2588_right.jpg', '3054_right.jpg', '2764_right.jpg', '2569_left.jpg', '3379_right.jpg', '2421_right.jpg', '3084_right.jpg', '2860_left.jpg', '2587_left.jpg', '2667_right.jpg', '2353_left.jpg', '2869_left.jpg', '2833_right.jpg', '2535_right.jpg', '2946_left.jpg', '2991_left.jpg', '3203_right.jpg', '3392_right.jpg', '2531_right.jpg', '3234_right.jpg', '3083_right.jpg', '2908_left.jpg', '3343_right.jpg', '2488_right.jpg', '2935_right.jpg', '3428_right.jpg', '2780_right.jpg', '2572_left.jpg', '2397_right.jpg', '2649_left.jpg', '2887_right.jpg', '3207_left.jpg', '3255_right.jpg', '3240_right.jpg', '2681_left.jpg', '3157_right.jpg', '1034_left.jpg', '3124_right.jpg', '3009_left.jpg', '2485_left.jpg', '2388_left.jpg', '2771_left.jpg', '2547_left.jpg', '2485_right.jpg', '2483_right.jpg', '3425_left.jpg', '3025_left.jpg', '3072_right.jpg', '2366_right.jpg', '2971_left.jpg', '2637_right.jpg', '2755_left.jpg', '4637_right.jpg', '2919_right.jpg', '2395_left.jpg', '3308_left.jpg', '2501_right.jpg', '2764_left.jpg', '3408_left.jpg', '2366_left.jpg', '2569_right.jpg', '2410_right.jpg', '2443_left.jpg', '3376_left.jpg', '3139_left.jpg', '2890_right.jpg', '2713_left.jpg', '2575_left.jpg', '3221_left.jpg', '2501_left.jpg', '2633_right.jpg', '2533_left.jpg', '2777_right.jpg', '2771_right.jpg', '3291_left.jpg', '2961_right.jpg', '3085_left.jpg', '2942_left.jpg', '3164_right.jpg', '2396_right.jpg', '2602_left.jpg', '2791_right.jpg', '2878_left.jpg', '2846_right.jpg', '2815_right.jpg', '2365_left.jpg', '2594_left.jpg', '2657_right.jpg', '3289_left.jpg', '3437_left.jpg', '2770_left.jpg', '2564_left.jpg', '2334_left.jpg', '2950_left.jpg', '2438_left.jpg', '2950_right.jpg', '2822_left.jpg', '2493_right.jpg', '2353_right.jpg', '2730_right.jpg', '2979_right.jpg', '3311_right.jpg', '695_left.jpg', '2689_left.jpg', '3307_right.jpg', '2767_left.jpg', '2662_right.jpg', '2410_left.jpg', '2365_right.jpg', '2748_left.jpg', '3398_left.jpg', '2787_left.jpg', '2882_right.jpg', '2437_left.jpg', '3008_left.jpg', '2910_left.jpg', '3222_left.jpg', '3416_right.jpg', '2527_right.jpg', '2822_right.jpg', '3305_left.jpg', '3282_right.jpg', '3237_left.jpg', '3184_left.jpg', '3057_left.jpg', '530_right.jpg', '3034_left.jpg', '3264_left.jpg', '3274_left.jpg', '3127_right.jpg', '2842_right.jpg', '2786_right.jpg', '3070_right.jpg', '3357_left.jpg', '2489_right.jpg', '2677_left.jpg', '3445_left.jpg', '3042_left.jpg', '2369_left.jpg', '2924_left.jpg', '3058_right.jpg', '2839_right.jpg', '2749_left.jpg', '2892_left.jpg', '3359_right.jpg', '2641_left.jpg', '3050_right.jpg', '2524_left.jpg', '3414_right.jpg', '2521_left.jpg', '3330_right.jpg', '2704_right.jpg', '2742_right.jpg', '3017_right.jpg', '2533_right.jpg', '3040_left.jpg', '2638_right.jpg', '2728_left.jpg', '2952_right.jpg', '3392_left.jpg', '3177_right.jpg', '3341_right.jpg', '2910_right.jpg', '951_left.jpg', '2351_left.jpg', '2383_left.jpg', '3344_right.jpg', '3153_left.jpg', '2718_left.jpg', '2355_left.jpg', '3257_right.jpg', '2962_left.jpg', '2529_left.jpg', '3038_right.jpg', '3232_right.jpg', '3248_right.jpg', '3066_right.jpg', '939_right.jpg', '3408_right.jpg', '2341_right.jpg', '2707_right.jpg', '3123_right.jpg', '3063_left.jpg', '530_left.jpg', '2657_left.jpg', '2481_left.jpg', '3094_left.jpg', '2446_right.jpg', '2465_right.jpg', '3113_right.jpg', '2475_right.jpg', '2953_right.jpg', '2334_right.jpg', '2864_left.jpg', '2543_left.jpg', '2653_left.jpg', '2345_right.jpg', '3241_left.jpg', '2817_right.jpg', '3098_right.jpg', '2538_right.jpg', '2435_right.jpg', '2499_left.jpg', '2527_left.jpg', '2981_right.jpg', '2481_right.jpg', '3390_right.jpg', '2651_right.jpg', '2380_right.jpg', '3405_left.jpg', '2662_left.jpg', '2517_left.jpg', '2589_right.jpg', '3085_right.jpg', '3020_right.jpg', '2421_left.jpg', '2834_left.jpg', '2616_left.jpg', '2368_right.jpg', '2396_left.jpg', '2820_left.jpg', '4637_left.jpg', '3441_left.jpg', '3212_left.jpg', '2697_left.jpg', '2852_right.jpg', '3069_left.jpg', '3365_left.jpg', '2507_left.jpg', '2525_right.jpg', '2829_right.jpg', '3442_left.jpg', '2469_right.jpg', '2699_right.jpg', '3405_right.jpg', '3186_left.jpg', '2567_right.jpg', '3255_left.jpg', '2942_right.jpg', '3142_left.jpg', '3059_left.jpg', '3108_left.jpg', '2768_left.jpg', '3267_left.jpg', '2349_left.jpg', '2884_right.jpg', '2335_left.jpg', '3434_left.jpg', '2742_left.jpg', '2915_left.jpg', '2883_left.jpg', '2752_right.jpg', '3426_right.jpg', '3191_right.jpg', '2469_left.jpg', '2548_left.jpg', '2895_right.jpg', '2786_left.jpg', '3306_right.jpg', '3246_left.jpg', '3375_left.jpg', '2967_right.jpg', '2827_right.jpg', '3214_left.jpg', '2748_right.jpg', '3138_right.jpg', '3244_left.jpg', '2640_left.jpg', '2529_right.jpg', '2610_right.jpg', '3417_right.jpg', '2652_left.jpg', '3122_left.jpg', '3102_left.jpg', '2577_left.jpg', '2422_right.jpg', '2518_left.jpg', '3066_left.jpg', '2456_right.jpg', '3369_left.jpg', '3110_left.jpg', '2761_right.jpg', '2826_left.jpg', '3119_left.jpg', '3204_left.jpg', '2931_right.jpg', '3029_right.jpg', '3202_right.jpg', '2911_right.jpg', '3141_left.jpg', '3100_left.jpg', '2729_left.jpg', '2535_left.jpg', '2642_left.jpg', '2554_left.jpg', '2470_left.jpg', '2372_right.jpg', '2952_left.jpg', '3175_left.jpg', '3431_left.jpg', '2807_right.jpg', '2794_right.jpg', '3194_left.jpg', '2408_right.jpg', '2790_left.jpg', '3124_left.jpg', '3418_left.jpg', '3356_right.jpg', '2638_left.jpg', '2981_left.jpg', '2382_right.jpg', '2839_left.jpg', '2351_right.jpg', '2432_left.jpg', '3438_right.jpg', '2755_right.jpg', '3321_left.jpg', '2415_left.jpg', '2732_left.jpg', '2482_right.jpg', '2974_left.jpg', '2695_right.jpg', '2966_right.jpg', '2634_left.jpg', '3109_left.jpg', '2356_right.jpg', '2484_left.jpg', '3127_left.jpg', '2710_right.jpg', '3444_right.jpg', '2984_right.jpg', '3068_right.jpg', '3154_left.jpg', '3000_right.jpg', '2675_right.jpg', '3013_right.jpg', '2779_left.jpg', '1253_left.jpg', '2346_right.jpg', '2782_right.jpg', '2795_left.jpg', '939_left.jpg', '3234_left.jpg', '2883_right.jpg', '3051_left.jpg', '2610_left.jpg', '2842_left.jpg', '2770_right.jpg', '2647_right.jpg', '3226_left.jpg', '2813_right.jpg', '3251_left.jpg', '3312_left.jpg', '3062_left.jpg', '2496_right.jpg', '2763_right.jpg', '2932_right.jpg', '2948_right.jpg', '2787_right.jpg', '2603_right.jpg', '2791_left.jpg', '3042_right.jpg', '2895_left.jpg', '2660_right.jpg', '3324_right.jpg', '2806_right.jpg', '2953_left.jpg', '2768_right.jpg', '2957_left.jpg', '2864_right.jpg', '3443_left.jpg', '3117_right.jpg', '2383_right.jpg', '2849_left.jpg', '2887_left.jpg', '3052_right.jpg', '2394_left.jpg', '2482_left.jpg', '2940_right.jpg', '2362_left.jpg', '3056_right.jpg', '2996_left.jpg', '2872_right.jpg', '2608_left.jpg', '3084_left.jpg', '2359_left.jpg', '3007_right.jpg', '3410_left.jpg', '2598_right.jpg', '2690_left.jpg', '2702_left.jpg', '2408_left.jpg', '3114_right.jpg', '2821_left.jpg', '695_right.jpg', '3215_right.jpg', '3263_left.jpg', '3300_right.jpg', '2740_right.jpg', '3391_right.jpg', '2627_right.jpg', '2363_right.jpg', '3446_left.jpg', '2924_right.jpg', '2661_left.jpg', '2680_right.jpg', '3113_left.jpg', '3417_left.jpg', '2672_left.jpg', '2588_left.jpg', '2811_right.jpg', '2624_left.jpg', '3051_right.jpg', '2483_left.jpg', '2689_right.jpg', '2355_right.jpg', '2807_left.jpg', '2749_right.jpg', '2341_left.jpg', '3442_right.jpg', '3196_left.jpg', '2565_left.jpg', '2346_left.jpg', '3422_right.jpg', '3294_right.jpg', '3038_left.jpg', '3009_right.jpg', '3448_right.jpg', '2599_left.jpg', '2599_right.jpg', '3260_right.jpg', '3271_right.jpg', '2750_right.jpg', '3363_left.jpg', '2400_right.jpg', '2862_left.jpg', '2962_right.jpg', '2554_right.jpg', '3378_right.jpg', '2708_right.jpg', '2354_right.jpg', '2815_left.jpg', '2775_left.jpg', '3352_left.jpg', '2368_left.jpg', '3064_right.jpg', '2907_right.jpg', '2508_right.jpg', '2880_right.jpg', '2735_right.jpg', '2393_right.jpg']\n",
            "['_401_4906161.jpg', '_399_7128170.jpg', '1365_left.jpg', '_219_5715309.jpg', '_207_6246518.jpg', '1495_left.jpg', '_334_7538158.jpg', 'Glaucoma_039.png', '1374_left.jpg', '1226_left.jpg', 'Glaucoma_029.png', '1221_right.jpg', '_311_6101039.jpg', '_211_3554467.jpg', '_252_4705064.jpg', '_321_9678485.jpg', '_173_7165688.jpg', '_98_4213035.jpg', '1419_left.jpg', '_166_5592889.jpg', '_289_8793154.jpg', '_82_3719382.jpg', '_40_4972458.jpg', 'Glaucoma_087.png', '_246_1688391.jpg', '_318_9413163.jpg', '_340_6897424.jpg', '1222_right.jpg', '_211_3409683.jpg', 'Glaucoma_004.png', '_161_5855059.jpg', '_216_1547406.jpg', '1318_right.jpg', '1212_left.jpg', '_388_9965271.jpg', '_368_4106148.jpg', '1497_right.jpg', '_401_6044320.jpg', '_58_180622.jpg', '1290_right.jpg', '_201_9193232.jpg', '_73_1527609.jpg', '1392_left.jpg', '_212_5947972.jpg', '_47_6549840.jpg', '_304_2971672.jpg', '_83_9155730.jpg', 'Glaucoma_010.png', '_344_6025727.jpg', '_154_6297009.jpg', '1309_left.jpg', '1216_right.jpg', '_380_4081438.jpg', '_337_28720.jpg', '1491_left.jpg', 'Glaucoma_022.png', '_200_8005975.jpg', '_30_5516177.jpg', '_300_7639707.jpg', '1344_left.jpg', '_78_1065003.jpg', '_365_7365403.jpg', '_272_9782017.jpg', '_345_7680672.jpg', '_123_6574789.jpg', '_16_2996330.jpg', '_236_6447023.jpg', '1334_left.jpg', '1412_right.jpg', '_371_9609603.jpg', '_2_8820241.jpg', '1471_left.jpg', '_272_1072395.jpg', '1503_right.jpg', '_10_2555943.jpg', '_206_1459040.jpg', '_398_8823411.jpg', '1473_left.jpg', '_369_874276.jpg', '_221_5014924.jpg', '_249_5342875.jpg', '_75_820784.jpg', '1294_right.jpg', '1306_right.jpg', '_20_7421444.jpg', '1271_left.jpg', '1977_left.jpg', '_43_2637980.jpg', '1248_right.jpg', '1371_left.jpg', 'Glaucoma_025.png', '_395_3509756.jpg', '_389_5976725.jpg', '_126_6964713.jpg', '_112_6810179.jpg', 'Glaucoma_084.png', '1469_left.jpg', '_130_3806382.jpg', '1261_left.jpg', 'Glaucoma_079.png', '247_left.jpg', '1421_left.jpg', '_192_8262976.jpg', '_256_1230567.jpg', '1222_left.jpg', '1443_left.jpg', '_63_5036155.jpg', '_186_3309365.jpg', '_194_8950727.jpg', '_121_2837450.jpg', '1288_left.jpg', '_250_1327645.jpg', 'Glaucoma_011.png', '1241_left.jpg', '_206_5637335.jpg', '_191_4454313.jpg', '_348_2941106.jpg', '_362_9619377.jpg', '_213_4395697.jpg', '_316_6373643.jpg', '2006_left.jpg', 'Glaucoma_086.png', '_280_1941804.jpg', '_244_2165755.jpg', '1279_right.jpg', '1434_left.jpg', '1226_right.jpg', '_343_3651262.jpg', '_67_4921455.jpg', '_147_9123662.jpg', 'Glaucoma_050.png', '_179_5369827.jpg', 'Glaucoma_057.png', '_319_532632.jpg', '1284_left.jpg', '1494_left.jpg', '_13_8126689.jpg', '_101_9321817.jpg', '1436_left.jpg', '_120_7137220.jpg', '_39_2936171.jpg', '_177_7654905.jpg', '_75_5691617.jpg', '_271_3328342.jpg', '_197_9225516.jpg', '_88_3424776.jpg', '_387_8614768.jpg', '_35_2680315.jpg', '_283_6275047.jpg', 'Glaucoma_034.png', '_100_3108233.jpg', '_36_9662569.jpg', '1393_right.jpg', '_190_7463607.jpg', '_145_2135273.jpg', '_34_836194.jpg', '931_right.jpg', '_17_7347013.jpg', '_157_7971265.jpg', '_312_2571477.jpg', '_45_3473696.jpg', 'Glaucoma_032.png', '_403_4411201.jpg', '_230_7804467.jpg', 'Glaucoma_101.png', '1392_right.jpg', '1211_right.jpg', '_225_247208.jpg', '_196_9338682.jpg', '_151_3685359.jpg', '_329_1138512.jpg', '_85_9846035.jpg', 'Glaucoma_007.png', 'Glaucoma_080.png', '_187_6167645.jpg', '_160_3285565.jpg', '1487_right.jpg', '_81_2700389.jpg', '_330_6216079.jpg', '1301_left.jpg', '1314_left.jpg', '_204_6942835.jpg', '_383_5927182.jpg', '_106_1940079.jpg', '1408_right.jpg', 'Glaucoma_095.png', '_244_9609209.jpg', 'Glaucoma_063.png', '_204_7650115.jpg', '_29_2615629.jpg', '_60_3287251.jpg', '1228_left.jpg', '1429_left.jpg', 'Glaucoma_012.png', '_245_5517087.jpg', '_331_8594715.jpg', '1318_left.jpg', '_21_1293428.jpg', '_255_7511159.jpg', 'Glaucoma_053.png', '_131_7117664.jpg', '_336_4442986.jpg', '_1_4540560.jpg', '1209_left.jpg', '_107_1720806.jpg', '238_right.jpg', '_394_81313.jpg', '_48_5270520.jpg', '_97_139770.jpg', '1396_left.jpg', '1227_right.jpg', '_255_4450651.jpg', '1260_left.jpg', '_164_5685997.jpg', '_286_2346496.jpg', 'Glaucoma_017.png', '1220_left.jpg', '_50_8908104.jpg', '1497_left.jpg', 'Glaucoma_072.png', '_364_7596223.jpg', 'Glaucoma_024.png', '1266_left.jpg', '1470_left.jpg', '1268_left.jpg', '1272_right.jpg', '_261_1504984.jpg', '_274_7999199.jpg', 'Glaucoma_078.png', '_25_9900235.jpg', '_48_3684538.jpg', '_220_7711405.jpg', '1967_left.jpg', '1214_right.jpg', '_320_4614619.jpg', 'Glaucoma_085.png', '_237_8364169.jpg', '1369_left.jpg', '_349_5604621.jpg', 'Glaucoma_030.png', '1409_right.jpg', '_23_8081299.jpg', '_97_3920460.jpg', '1351_left.jpg', '1515_left.jpg', 'Glaucoma_061.png', '_184_7806010.jpg', '1282_right.jpg', '1431_left.jpg', '_195_8472436.jpg', '1465_right.jpg', '_253_8425650.jpg', '_315_1059988.jpg', '1281_left.jpg', '1286_left.jpg', '_0_4517448.jpg', '1362_right.jpg', '_386_8829500.jpg', '_114_4182799.jpg', '1221_left.jpg', '1270_left.jpg', '_27_8607848.jpg', '_19_6182574.jpg', '_400_1780834.jpg', '1314_right.jpg', '_310_4668441.jpg', '1243_right.jpg', 'Glaucoma_016.png', '167_left.jpg', 'Glaucoma_089.png', 'Glaucoma_049.png', '_396_2615481.jpg', '_286_579920.jpg', '_254_8727190.jpg', '1428_left.jpg', '_186_2505679.jpg', '_361_5450086.jpg', 'Glaucoma_023.png', '_382_9740496.jpg', '_100_965860.jpg', 'Glaucoma_090.png', 'Glaucoma_055.png', '_341_3030606.jpg', '_30_6734224.jpg', '_377_8059232.jpg', '1986_left.jpg', '_133_9343456.jpg', '_340_1400434.jpg', '2030_right.jpg', '_231_4877279.jpg', '_193_7700887.jpg', '1215_left.jpg', '_353_9347543.jpg', '1964_left.jpg', '_263_9514192.jpg', '_295_3084570.jpg', '_300_7433746.jpg', '_55_1027321.jpg', '_185_1242583.jpg', '_166_613935.jpg', '1302_right.jpg', '_155_1218981.jpg', '_375_1575212.jpg', '1427_right.jpg', '_390_458377.jpg', '_359_8939038.jpg', '_49_249201.jpg', '1319_right.jpg', '1325_left.jpg', '_356_2280553.jpg', '_223_380742.jpg', '365_left.jpg', '_355_9019995.jpg', '_367_403099.jpg', '_338_7660594.jpg', '1473_right.jpg', '1254_right.jpg', '_91_4030510.jpg', '_122_7081164.jpg', '_332_3900734.jpg', '1977_right.jpg', '1291_left.jpg', '_67_5997765.jpg', '_32_6299808.jpg', '_15_1523968.jpg', '_130_4811607.jpg', '_351_6945231.jpg', '2030_left.jpg', '1330_right.jpg', '625_left.jpg', '1507_right.jpg', '_329_3845498.jpg', '1334_right.jpg', '1345_right.jpg', 'Glaucoma_031.png', '1344_right.jpg', '_233_3404764.jpg', '_284_1958940.jpg', '_325_5401809.jpg', '_376_7730949.jpg', '_305_769962.jpg', '_88_3707930.jpg', '_165_6911194.jpg', '_51_5395739.jpg', '_205_310538.jpg', '_141_1074732.jpg', '1377_right.jpg', '1309_right.jpg', '_293_8683971.jpg', '_193_8669043.jpg', '_159_52965.jpg', '_296_3140840.jpg', '_371_5633932.jpg', '_188_6021497.jpg', '1291_right.jpg', 'Glaucoma_059.png', '_332_7068969.jpg', 'Glaucoma_038.png', '_146_8129711.jpg', '1477_left.jpg', '_22_8539479.jpg', '_185_7833633.jpg', '_388_7162342.jpg', '_77_7357873.jpg', '1282_left.jpg', '1386_right.jpg', 'Glaucoma_069.png', 'Glaucoma_005.png', '1210_right.jpg', '_372_153571.jpg', 'Glaucoma_097.png', '_7_5314686.jpg', '_360_4768102.jpg', '1268_right.jpg', '_80_1430822.jpg', '178_left.jpg', '746_left.jpg', '1297_right.jpg', '_3_6499308.jpg', '_108_4678854.jpg', '1480_right.jpg', '1510_right.jpg', 'Glaucoma_001.png', '_189_1240865.jpg', '_20_5240419.jpg', '1265_right.jpg', '1247_left.jpg', '_222_8813596.jpg', '_305_3318957.jpg', '1288_right.jpg', 'Glaucoma_045.png', '583_left.jpg', '_271_8149720.jpg', '_296_6754407.jpg', '_291_1967456.jpg', '_335_5326545.jpg', '1485_right.jpg', '2020_left.jpg', '_94_8906983.jpg', 'Glaucoma_092.png', '1307_right.jpg', '1488_left.jpg', '_56_7014018.jpg', '_282_487789.jpg', '1965_left.jpg', '_119_16937.jpg', '_263_9132183.jpg', 'Glaucoma_094.png', '_277_4980424.jpg', '_318_5873639.jpg', '_387_7675254.jpg', '_339_938566.jpg', 'Glaucoma_082.png', '_118_6838709.jpg', '_393_2129148.jpg', '_70_4843073.jpg', '_363_2466087.jpg', 'Glaucoma_056.png', '_41_2520996.jpg', 'Glaucoma_047.png', 'Glaucoma_009.png', '_116_5760701.jpg', '_241_994470.jpg', '1426_left.jpg', '_149_7432879.jpg', '_381_6602928.jpg', '_236_8014695.jpg', '2074_left.jpg', '_157_6473114.jpg', '1514_left.jpg', '_170_2345909.jpg', 'Glaucoma_027.png', '1478_left.jpg', '_11_7116915.jpg', '_395_9075896.jpg', '_74_2774709.jpg', '1458_left.jpg', '1411_right.jpg', '_28_7296137.jpg', '_2_5194189.jpg', '1267_right.jpg', '_46_2760814.jpg', '_15_5946153.jpg', '_205_8557164.jpg', '_138_2633578.jpg', '_106_4788402.jpg', '1231_left.jpg', '_105_3766522.jpg', '_121_1901719.jpg', '_248_1971812.jpg', '_60_6481590.jpg', 'Glaucoma_074.png', '_393_7224423.jpg', '_357_2893291.jpg', 'Glaucoma_054.png', '_167_1325871.jpg', '1234_left.jpg', '_114_6608378.jpg', '_128_2241332.jpg', 'Glaucoma_071.png', '_389_1548771.jpg', '1289_left.jpg', '_73_2704407.jpg', '_202_7508135.jpg', '_46_8083273.jpg', '_290_5672201.jpg', '_104_9271975.jpg', '_143_7392909.jpg', '_259_7069358.jpg', '_64_3530889.jpg', '1213_right.jpg', '_406_3482388.jpg', '_150_5894989.jpg', '_52_3659415.jpg', 'Glaucoma_015.png', '_171_4736817.jpg', '1256_left.jpg', '_92_2709771.jpg', 'Glaucoma_033.png', '_77_3641818.jpg', '_260_4814230.jpg', '_366_3572426.jpg', '_95_6242980.jpg', '_115_501708.jpg', '1239_left.jpg', '_24_5854972.jpg', 'Glaucoma_068.png', '_182_6536787.jpg', '1345_left.jpg', '1218_right.jpg', '_41_7018471.jpg', '_303_8778566.jpg', 'Glaucoma_075.png', '_61_1340813.jpg', '_326_7155812.jpg', '1353_right.jpg', '_42_6738302.jpg', '_234_5883794.jpg', '_380_3524868.jpg', '1967_right.jpg', '1232_left.jpg', '_328_7261567.jpg', '_93_8742749.jpg', '_57_1814825.jpg', '1302_left.jpg', '1255_left.jpg', '_191_6264437.jpg', 'Glaucoma_058.png', '_327_1055218.jpg', '_18_2435759.jpg', '_298_4611384.jpg', '_292_3819069.jpg', '1470_right.jpg', '_163_6292807.jpg', '_293_1537842.jpg', '_241_1530591.jpg', '_162_6327245.jpg', '_148_3847249.jpg', '_317_2537690.jpg', '_307_9597397.jpg', '1270_right.jpg', '1420_right.jpg', '247_right.jpg', '_385_2935625.jpg', '_226_4398457.jpg', '_399_8219023.jpg', '_257_1527283.jpg', '1402_left.jpg', '_259_9254323.jpg', '_99_5348098.jpg', '1284_right.jpg', '_278_5245975.jpg', '_66_8732996.jpg', '1287_right.jpg', '_156_1243799.jpg', 'Glaucoma_060.png', '_324_1040139.jpg', '1239_right.jpg', '_277_6049716.jpg', '1255_right.jpg', '1231_right.jpg', 'Glaucoma_064.png', '_254_5059705.jpg', '_199_7083786.jpg', '_308_7087674.jpg', '_192_1534346.jpg', '1307_left.jpg', '_129_2098170.jpg', '1975_left.jpg', '_242_9104523.jpg', '1410_left.jpg', '_405_2674974.jpg', '1414_left.jpg', '_288_5661981.jpg', '_158_2390292.jpg', '1237_right.jpg', '_4_1717111.jpg', '_203_5167688.jpg', '1259_right.jpg', '_207_7240075.jpg', '_86_1386374.jpg', '_289_9163087.jpg', '_333_5771277.jpg', '_123_2897373.jpg', '_218_8917311.jpg', 'Glaucoma_020.png', '_288_1071282.jpg', '_12_5295071.jpg', '_333_8764431.jpg', '_71_5256438.jpg', '_377_2444638.jpg', '1261_right.jpg', '_144_611038.jpg', '1493_left.jpg', '1453_right.jpg', '_104_4154423.jpg', '153_left.jpg', '1234_right.jpg', '1217_left.jpg', '_59_1911492.jpg', '_124_11722.jpg', 'Glaucoma_026.png', '_313_8583918.jpg', '1276_left.jpg', '_62_731940.jpg', '1498_left.jpg', '_279_2768381.jpg', '1230_right.jpg', '1352_right.jpg', '_35_369215.jpg', '1273_right.jpg', '1237_left.jpg', '1411_left.jpg', 'Glaucoma_041.png', '1279_left.jpg', '_14_3746939.jpg', '_373_2349363.jpg', '_284_1723608.jpg', '_290_306861.jpg', '_54_4840369.jpg', '_163_4618487.jpg', '_44_8455804.jpg', '_4_5317326.jpg', '_356_7024951.jpg', '_91_8145296.jpg', '1256_right.jpg', '_292_3590459.jpg', '_370_7370377.jpg', '1488_right.jpg', '_189_3602727.jpg', '_299_8359089.jpg', '_96_982046.jpg', '1990_right.jpg', '365_right.jpg', '_177_4666662.jpg', '1405_left.jpg', '_139_2849264.jpg', '_242_5062809.jpg', '1487_left.jpg', '1434_right.jpg', '_172_4383599.jpg', '1495_right.jpg', '1433_left.jpg', '_238_9493538.jpg', '1230_left.jpg', '_214_6540926.jpg', '_22_1469685.jpg', '_160_6175019.jpg', '_210_840898.jpg', '1959_right.jpg', 'Glaucoma_070.png', '1281_right.jpg', '_358_8144492.jpg', '_147_9725919.jpg', '_282_8545700.jpg', '_58_8721967.jpg', 'Glaucoma_018.png', '_221_3079640.jpg', '_142_682945.jpg', '_378_1725232.jpg', '1280_left.jpg', '1258_left.jpg', '_249_6890690.jpg', '1462_left.jpg', '_10_1472170.jpg', '_9_9966988.jpg', '_281_5653321.jpg', '_311_7054330.jpg', '_316_4359949.jpg', '_184_4892495.jpg', '167_right.jpg', '1330_left.jpg', '1246_left.jpg', '_267_2376228.jpg', '_124_7084348.jpg', '_220_1375140.jpg', '_392_9636183.jpg', '_127_5473291.jpg', '_134_8496063.jpg', '1277_left.jpg', '_301_6075675.jpg', '1486_left.jpg', '_188_1477185.jpg', '_72_3474284.jpg', '_280_7239687.jpg', '1436_right.jpg', 'Glaucoma_003.png', '1327_left.jpg', '_54_1709440.jpg', '1389_left.jpg', '1440_left.jpg', '1286_right.jpg', '_182_8751077.jpg', '_152_3014051.jpg', '95_left.jpg', '1327_right.jpg', '_145_9843041.jpg', '1450_left.jpg', '_168_211365.jpg', '_199_1326301.jpg', '_232_7378783.jpg', '_367_7784563.jpg', '_273_4238500.jpg', '_287_8369950.jpg', '1217_right.jpg', '_278_2942123.jpg', '_178_2720223.jpg', 'Glaucoma_073.png', '_176_88942.jpg', '1447_left.jpg', '1963_right.jpg', '1442_left.jpg', '_358_2954052.jpg', '1458_right.jpg', 'Glaucoma_043.png', '_38_3483571.jpg', '_298_2374039.jpg', '_264_8423794.jpg', '_243_5417546.jpg', '1881_left.jpg', '_113_3440509.jpg', '_402_8604384.jpg', '1306_left.jpg', '_28_7928893.jpg', '_307_4576620.jpg', '1287_left.jpg', '_315_4482636.jpg', 'Glaucoma_037.png', 'Glaucoma_044.png', '_117_8186757.jpg', '1353_left.jpg', '_224_5329904.jpg', '_285_2727990.jpg', '_90_7427306.jpg', '1215_right.jpg', 'Glaucoma_076.png', '_107_7535300.jpg', '1362_left.jpg', '_52_3379279.jpg', '1383_left.jpg', '2063_right.jpg', '_34_2817660.jpg', '_26_8418608.jpg', '_155_4972319.jpg', '_198_8291898.jpg', '_140_1036922.jpg', '_203_5093586.jpg', '1378_right.jpg', '1212_right.jpg', '_37_8813329.jpg', '_320_5280427.jpg', '_69_5362173.jpg', '_108_9870998.jpg', '_366_5412727.jpg', '1020_left.jpg', '_76_8587652.jpg', '1441_left.jpg', '_354_1214126.jpg', '1417_right.jpg', '_228_775182.jpg', '_174_2440424.jpg', '_324_9547288.jpg', '_275_5075268.jpg', '_143_7549980.jpg', '_384_1145376.jpg', '_153_9723315.jpg', 'Glaucoma_006.png', '2063_left.jpg', '_8_5210275.jpg', 'Glaucoma_077.png', 'Glaucoma_036.png', '1225_right.jpg', '1294_left.jpg', '1258_right.jpg', '1266_right.jpg', '_62_3878139.jpg', '_148_9432356.jpg', '1881_right.jpg', '_391_1332495.jpg', '1297_left.jpg', 'Glaucoma_013.png', '1229_left.jpg', 'Glaucoma_052.png', '_187_9314717.jpg', '_346_7643111.jpg', '_164_2916527.jpg', '1269_left.jpg', '_375_3812551.jpg', '_125_8676573.jpg', '_369_4797724.jpg', '_276_4038569.jpg', 'Glaucoma_067.png', '_79_266127.jpg', '_12_3840622.jpg', '_79_7226209.jpg', '_87_9110812.jpg', '1985_left.jpg', '_306_2695664.jpg', '_265_1562215.jpg', '_133_3238309.jpg', 'Glaucoma_002.png', '_90_4845886.jpg', '_353_6531128.jpg', '_39_2691222.jpg', '_16_8305794.jpg', '_357_7848484.jpg', '_283_8286295.jpg', '1351_right.jpg', '1479_left.jpg', '_404_5918559.jpg', '_258_6391320.jpg', '_179_3204648.jpg', '2048_right.jpg', '_266_8920656.jpg', '_5_5487582.jpg', 'Glaucoma_040.png', '_111_1685203.jpg', '2010_left.jpg', '_84_2885250.jpg', '_354_7736360.jpg', '_297_2792482.jpg', '_165_3717126.jpg', '_269_7481383.jpg', 'Glaucoma_042.png', '1404_left.jpg', '_196_3505519.jpg', '1227_left.jpg', '_13_697490.jpg', '1277_right.jpg', '_342_3907815.jpg', '_223_2293487.jpg', 'Glaucoma_099.png', '_261_6037248.jpg', '_390_5579051.jpg', '_334_2912159.jpg', '_169_5017005.jpg', '_229_5944044.jpg', '746_right.jpg', '_314_8127541.jpg', '_361_9282542.jpg', '1248_left.jpg', '1418_left.jpg', 'Glaucoma_048.png', '1959_left.jpg', '1496_right.jpg', '_215_6808791.jpg', '_336_783196.jpg', '1260_right.jpg', '_310_6988275.jpg', '1272_left.jpg', '_109_7080739.jpg', '_64_4692255.jpg', '_347_1718283.jpg', '1229_right.jpg', '1388_right.jpg', '1325_right.jpg', '1386_left.jpg', '1241_right.jpg', '_227_1784248.jpg', '1413_right.jpg', '_197_5727246.jpg', '_240_968094.jpg', 'Glaucoma_062.png', '_132_989976.jpg', '1225_left.jpg', '_350_3536071.jpg', '1406_left.jpg', '_175_9511671.jpg', '_352_8525027.jpg', '_309_4110303.jpg', '_231_7452050.jpg', '2032_right.jpg', '_105_9159338.jpg', '_33_7463078.jpg', '_136_9296374.jpg', '_134_3244278.jpg', 'Glaucoma_091.png', '_227_2716085.jpg', '1397_left.jpg', '1216_left.jpg', '_213_2572866.jpg', '_330_6332138.jpg', '_209_6790686.jpg', '1220_right.jpg', '_264_1649776.jpg', '1443_right.jpg', '1433_right.jpg', '1251_left.jpg', 'Glaucoma_019.png', '_383_1676788.jpg', '_304_434670.jpg', '_267_8024092.jpg', '_120_7704110.jpg', '1439_left.jpg', '1289_right.jpg', '_45_7744209.jpg', '_43_5688154.jpg', '1424_left.jpg', '1482_left.jpg', '1232_right.jpg', '1263_right.jpg', '_110_8391204.jpg', '1440_right.jpg', '_24_3870780.jpg', '_135_2706541.jpg', '_379_852244.jpg', '_181_552191.jpg', '_195_1040294.jpg', '_116_1943666.jpg', '_65_9130585.jpg', '_27_4220822.jpg', '1269_right.jpg', '_217_6214632.jpg', '_402_3641116.jpg', 'Glaucoma_021.png', '1416_right.jpg', '_201_387458.jpg', '1238_right.jpg', '_161_1354200.jpg', '_341_3343251.jpg', 'Glaucoma_093.png', 'Glaucoma_100.png', '_323_8497084.jpg', '_171_8366749.jpg', '1374_right.jpg', '_302_4887010.jpg', '_6_2143075.jpg', '1415_right.jpg', '1290_left.jpg', '_257_3895456.jpg', '_359_2481818.jpg', 'Glaucoma_081.png', '_113_8738972.jpg', '_397_9607497.jpg', '1431_right.jpg', '_276_1824789.jpg', '1389_right.jpg', '2041_left.jpg', '_71_9012457.jpg', '_102_5502806.jpg', 'Glaucoma_088.png', '1209_right.jpg', '_219_4035148.jpg', '_301_8474971.jpg', '_317_5485211.jpg', '_268_5781265.jpg', 'Glaucoma_065.png', '_110_299285.jpg', '43_right.jpg', '_239_5512637.jpg', '_374_8172135.jpg', '1489_left.jpg', '_158_8802624.jpg', '_89_751322.jpg', '1971_left.jpg', '583_right.jpg', '_262_3994169.jpg', '1276_right.jpg', '_325_4867292.jpg', '1210_left.jpg', '_180_6449017.jpg', 'Glaucoma_051.png', '_53_1457470.jpg', '_235_1365390.jpg', '1365_right.jpg', '_386_7977995.jpg', '1301_right.jpg', '_109_6854077.jpg', '_198_4839828.jpg', '1271_right.jpg', '1267_left.jpg', 'Glaucoma_066.png', '_322_2070844.jpg', '1247_right.jpg', '_95_5759614.jpg', '1425_right.jpg', '1970_left.jpg', '931_left.jpg', '1265_left.jpg', '1492_left.jpg', '1371_right.jpg', 'Glaucoma_028.png', '1259_left.jpg', '_103_1487378.jpg', '1352_left.jpg', '_376_8893491.jpg', '_294_5527908.jpg', '_8_4875579.jpg', 'Glaucoma_035.png', '1492_right.jpg', 'Glaucoma_083.png', '_11_6435526.jpg', '_137_1824460.jpg', 'Glaucoma_098.png', '_322_4870398.jpg', '_47_787901.jpg', '_146_6435949.jpg', '_59_9153525.jpg', '_19_7932720.jpg', '1218_left.jpg', '1303_left.jpg', 'Glaucoma_008.png', '_251_8769594.jpg', '_31_1950556.jpg', '1213_left.jpg', 'Glaucoma_096.png', '_208_7827214.jpg', '_270_6223143.jpg', '1999_right.jpg', 'Glaucoma_014.png', '_99_9780664.jpg', '_232_9030219.jpg', '_68_7591745.jpg', '_98_763638.jpg', '1477_right.jpg', '_183_3784240.jpg', '1246_right.jpg', '1469_right.jpg', '_247_651494.jpg', '1474_left.jpg', '1423_left.jpg', '_251_5505179.jpg', '_172_2814012.jpg', 'Glaucoma_046.png', '_243_95702.jpg', '1476_right.jpg', '_235_7683512.jpg']\n",
            "['_20_6629557.jpg', 'cataract_043.png', '_275_3439882.jpg', '_111_9826667.jpg', '477_right.jpg', '_66_625523.jpg', 'cataract_005.png', '_100_334408.jpg', '_313_6548836.jpg', '_352_2938767.jpg', '2239_left.jpg', '_85_2405112.jpg', '_209_4208693.jpg', '_281_5275221.jpg', '_121_3847336.jpg', '_46_7308563.jpg', '_117_6521529.jpg', '_356_8261086.jpg', '_296_3277370.jpg', '_135_5639464.jpg', '_201_841062.jpg', '2118_right.jpg', '_205_1775772.jpg', '_151_4262050.jpg', '2234_right.jpg', '_214_5569507.jpg', '_158_6990173.jpg', '_96_6290965.jpg', '_386_4269538.jpg', '81_left.jpg', '_89_6878178.jpg', '_143_1247400.jpg', '_34_2290989.jpg', '2184_left.jpg', '_242_7073642.jpg', '2128_right.jpg', '_95_592187.jpg', 'cataract_013.png', '_88_7869628.jpg', '_247_9509040.jpg', '_378_2183024.jpg', '_253_1359558.jpg', '_199_2279189.jpg', 'cataract_066.png', '_182_8895927.jpg', '_42_7486921.jpg', '_67_2701502.jpg', '_181_2009794.jpg', 'cataract_024.png', '_101_5139882.jpg', '_159_1399279.jpg', '_7_2330751.jpg', '_198_3243264.jpg', '_2_5883027.jpg', '2184_right.jpg', '_115_6901151.jpg', '_126_1745653.jpg', '_238_5389628.jpg', '2122_left.jpg', '2177_right.jpg', '_236_9551809.jpg', '_163_6979961.jpg', '2126_right.jpg', '2095_right.jpg', '_139_583821.jpg', '_295_558295.jpg', '_374_3493833.jpg', 'cataract_068.png', '_244_5451565.jpg', '2187_right.jpg', '_277_9501088.jpg', '_251_1089143.jpg', 'cataract_086.png', '2240_right.jpg', '_60_2561089.jpg', '_44_6970984.jpg', '2116_left.jpg', '_112_3727502.jpg', '2127_right.jpg', '_293_1732996.jpg', '2125_left.jpg', 'cataract_096.png', '354_right.jpg', '_391_2115124.jpg', '_347_6987666.jpg', '_358_1004212.jpg', '_135_7789155.jpg', '_381_5407671.jpg', 'cataract_048.png', '_105_5646774.jpg', '1452_left.jpg', '_363_2736933.jpg', 'cataract_047.png', '2100_right.jpg', '2134_left.jpg', '_195_1750450.jpg', '_232_6943070.jpg', '_177_2299576.jpg', '2232_left.jpg', 'cataract_018.png', '2247_right.jpg', '_241_7236668.jpg', '_356_7744260.jpg', '2243_left.jpg', 'cataract_087.png', 'cataract_093.png', '_224_4837152.jpg', '2248_left.jpg', '2183_right.jpg', '2223_left.jpg', 'cataract_064.png', '_27_6695157.jpg', '_83_8570399.jpg', '1102_left.jpg', '_48_7953833.jpg', '_204_5979635.jpg', '_322_2685252.jpg', '_182_9646286.jpg', '_252_5300307.jpg', 'cataract_045.png', 'cataract_044.png', '2262_left.jpg', '2217_right.jpg', '_41_6704276.jpg', '_273_7267841.jpg', '_186_7038738.jpg', '_33_692344.jpg', '_5_9005506.jpg', '_31_5635423.jpg', '2243_right.jpg', '2211_right.jpg', '_184_5733369.jpg', '_350_7541734.jpg', '2150_right.jpg', '2200_left.jpg', 'cataract_069.png', '_120_3067914.jpg', '2244_right.jpg', '2206_right.jpg', '_215_3764172.jpg', '_385_4113427.jpg', '_23_4636959.jpg', '2209_right.jpg', '_220_2113285.jpg', '_384_4668888.jpg', 'cataract_017.png', '2219_left.jpg', 'cataract_008.png', 'cataract_056.png', '_50_1920746.jpg', '_375_8898265.jpg', '_156_6418009.jpg', '_129_5296959.jpg', '_140_1534199.jpg', '2161_right.jpg', '_75_6801378.jpg', 'cataract_034.png', '_362_4801225.jpg', '_70_3464173.jpg', '_314_8133392.jpg', '_179_3417628.jpg', '_241_6604562.jpg', '970_left.jpg', '_359_2555267.jpg', '2114_left.jpg', '2130_left.jpg', '2134_right.jpg', '2176_left.jpg', '_144_4907178.jpg', '2121_left.jpg', '2166_left.jpg', '_300_1946959.jpg', '_180_8003252.jpg', '_295_4841360.jpg', '_259_9554919.jpg', 'cataract_033.png', '_250_4727436.jpg', '_326_1274700.jpg', '_312_2776118.jpg', '2191_right.jpg', '_159_5245707.jpg', '2157_left.jpg', '_335_9176239.jpg', '2139_right.jpg', '_252_4692803.jpg', '_276_1796806.jpg', '_289_7475172.jpg', '_204_6939524.jpg', '_167_2873590.jpg', '2123_left.jpg', '_9_1244013.jpg', '2164_left.jpg', '_165_8028203.jpg', '_169_5886938.jpg', '_147_3796034.jpg', '_197_2029104.jpg', '_79_1123955.jpg', '_345_8957256.jpg', '769_right.jpg', '_380_8765246.jpg', '_337_6800255.jpg', 'cataract_100.png', '594_left.jpg', '2195_left.jpg', '_77_2197698.jpg', '2117_left.jpg', '2129_right.jpg', '_282_3209093.jpg', '2226_right.jpg', '_367_9940827.jpg', '2222_left.jpg', '2152_left.jpg', '_382_1061054.jpg', '_150_2517277.jpg', '_245_789720.jpg', '_50_3163122.jpg', '_335_2109396.jpg', '_302_822867.jpg', 'cataract_001.png', '1084_right.jpg', '_184_5953446.jpg', '_0_4015166.jpg', '2227_right.jpg', '2144_right.jpg', '2126_left.jpg', '_40_3866061.jpg', '2167_right.jpg', '1164_left.jpg', '_265_7470675.jpg', '_399_6667595.jpg', '_126_4964568.jpg', '_325_168910.jpg', '_23_9533792.jpg', '809_left.jpg', '_355_6490108.jpg', '2180_left.jpg', 'cataract_089.png', '_90_4763455.jpg', 'cataract_097.png', '_339_9106724.jpg', '2223_right.jpg', '2143_right.jpg', '2242_left.jpg', '_2_8900343.jpg', '_340_3239094.jpg', '_237_9130201.jpg', '_88_1858467.jpg', '_11_7158929.jpg', '_158_2964657.jpg', '_113_1734230.jpg', '_212_8423506.jpg', '_202_4720633.jpg', '2158_left.jpg', '_374_8613138.jpg', '2150_left.jpg', '_351_5778657.jpg', 'cataract_084.png', 'cataract_091.png', '_330_7361630.jpg', '_164_4857097.jpg', '1062_right.jpg', 'cataract_052.png', '_53_8912600.jpg', '_110_5076150.jpg', '2181_left.jpg', '_365_6266228.jpg', '2162_right.jpg', '2103_right.jpg', '_112_9621689.jpg', '_181_5482893.jpg', '_125_6571967.jpg', '2106_right.jpg', '2132_left.jpg', '_346_6209704.jpg', '2163_left.jpg', '_14_7805520.jpg', '_34_2026427.jpg', '_143_9392801.jpg', 'cataract_071.png', '2052_left.jpg', '_375_9227285.jpg', 'cataract_075.png', 'cataract_037.png', '2216_right.jpg', '_94_5517058.jpg', '2183_left.jpg', '_283_6068531.jpg', '_157_2679833.jpg', '2198_left.jpg', '_198_6027510.jpg', '2201_right.jpg', '_40_4103987.jpg', '_221_6907746.jpg', '_255_7810419.jpg', '_370_1424453.jpg', '_29_5190417.jpg', '1167_right.jpg', '2221_left.jpg', 'cataract_073.png', '_278_248700.jpg', '2182_right.jpg', '_66_9729796.jpg', '_149_9419457.jpg', '_68_132563.jpg', 'cataract_027.png', '2182_left.jpg', '_332_9730811.jpg', '_253_643151.jpg', '726_left.jpg', 'cataract_023.png', '1484_left.jpg', '_381_6039460.jpg', '_82_1805923.jpg', '_324_9920354.jpg', 'cataract_046.png', '_289_683957.jpg', '_264_4584815.jpg', '_230_7976367.jpg', '_130_3561448.jpg', '_168_4661031.jpg', '_291_9986876.jpg', '2189_right.jpg', '2098_right.jpg', '_136_4030185.jpg', '_206_4468888.jpg', '_62_9491665.jpg', '_321_6270889.jpg', '294_left.jpg', '_280_7714585.jpg', '_42_9949990.jpg', '560_right.jpg', '560_left.jpg', '_243_1070648.jpg', 'cataract_049.png', '2169_right.jpg', '2194_right.jpg', '_109_2655056.jpg', '2197_right.jpg', '_208_2337200.jpg', '625_left.jpg', 'cataract_094.png', '1968_left.jpg', '_192_7851600.jpg', '2221_right.jpg', '218_right.jpg', '_178_8645920.jpg', '2140_right.jpg', '2236_left.jpg', '_154_6316287.jpg', '254_left.jpg', '2234_left.jpg', 'cataract_029.png', '_174_2373322.jpg', '2098_left.jpg', '2229_left.jpg', '_150_8876899.jpg', '2120_right.jpg', '_72_6009084.jpg', '_103_5897328.jpg', '2246_left.jpg', 'cataract_055.png', '_141_3457945.jpg', '_282_3503490.jpg', '2232_right.jpg', '2228_right.jpg', '_357_8304812.jpg', '_245_498355.jpg', '2206_left.jpg', '_130_7837321.jpg', '955_right.jpg', '_64_5229674.jpg', '_203_3825515.jpg', '2145_left.jpg', '949_right.jpg', '_268_8496846.jpg', '2173_right.jpg', '_193_4841605.jpg', '_263_7022799.jpg', '_105_5956883.jpg', '_245_5686342.jpg', '_311_3993772.jpg', '1444_left.jpg', '_170_4585047.jpg', '_86_8666413.jpg', '2210_left.jpg', '_298_9693365.jpg', 'cataract_031.png', '_80_2744347.jpg', 'cataract_062.png', '_85_5757077.jpg', '2138_left.jpg', '_258_9144081.jpg', '_400_7591244.jpg', '2246_right.jpg', '_207_8213037.jpg', '_323_2492245.jpg', '2146_right.jpg', '_54_6540326.jpg', 'cataract_011.png', '465_left.jpg', '2172_left.jpg', '_347_7413999.jpg', '_311_4402042.jpg', '_48_1110786.jpg', '2141_right.jpg', 'cataract_095.png', '_12_5233869.jpg', 'cataract_076.png', '_400_7969437.jpg', '_361_423366.jpg', '_96_5515894.jpg', '2226_left.jpg', '1115_left.jpg', '_394_1321417.jpg', '_193_6483689.jpg', '2128_left.jpg', 'cataract_006.png', '_373_4029422.jpg', '_129_3024383.jpg', '2155_right.jpg', '_63_7923836.jpg', '_26_2782553.jpg', '_319_3184825.jpg', '_163_2414975.jpg', '1083_left.jpg', '477_left.jpg', 'cataract_090.png', '_120_2375814.jpg', '_176_2398738.jpg', '_244_3481752.jpg', '2219_right.jpg', '_91_7118539.jpg', '_142_7918627.jpg', '_285_4325184.jpg', '2211_left.jpg', '_259_2170334.jpg', 'cataract_003.png', '_152_8894820.jpg', '2216_left.jpg', '2164_right.jpg', '_183_2695432.jpg', '_359_6265965.jpg', '_248_3607543.jpg', '2155_left.jpg', '2151_left.jpg', '2111_left.jpg', '_68_6182618.jpg', '2176_right.jpg', '_195_3247880.jpg', '_144_7061237.jpg', '_203_6969732.jpg', 'cataract_083.png', '1460_right.jpg', '_168_2726147.jpg', '_114_9773152.jpg', '_299_8679417.jpg', '_379_3919297.jpg', '_67_7544085.jpg', '_175_2515467.jpg', '726_right.jpg', '_260_4628277.jpg', '_390_5561281.jpg', '_367_2864412.jpg', '_107_5060742.jpg', '2120_left.jpg', '_342_2775386.jpg', '2233_right.jpg', '_270_58393.jpg', '_348_8120738.jpg', 'cataract_041.png', '_81_5591649.jpg', '_295_8218216.jpg', 'cataract_035.png', '_36_1799809.jpg', '_43_5838123.jpg', '_49_2405371.jpg', '_64_2615880.jpg', '_56_3359017.jpg', '_228_4231065.jpg', '_338_6734383.jpg', '_77_938150.jpg', '_243_5311552.jpg', '_171_4298450.jpg', '_270_9344899.jpg', '2167_left.jpg', '_246_8777337.jpg', '_226_4234312.jpg', 'cataract_038.png', '_334_6427863.jpg', '81_right.jpg', '_358_2608507.jpg', '_262_7895370.jpg', 'cataract_057.png', '999_right.jpg', '_257_9976187.jpg', '_90_4479779.jpg', '2231_right.jpg', 'cataract_067.png', '_306_8888195.jpg', '_273_9043733.jpg', '_235_2122461.jpg', '_280_4533213.jpg', '2103_left.jpg', 'cataract_077.png', '_175_4238344.jpg', '_233_8101340.jpg', '2212_right.jpg', '_326_3940502.jpg', '_305_58584.jpg', '_391_3026815.jpg', '_240_4981563.jpg', '_173_6477739.jpg', '2192_left.jpg', '2153_left.jpg', '2170_right.jpg', '2179_left.jpg', '_23_5187079.jpg', '_187_5549549.jpg', '2199_left.jpg', '_1_7703314.jpg', '_254_9630074.jpg', '2147_left.jpg', 'cataract_059.png', '_288_9182789.jpg', '2099_left.jpg', '_115_1763401.jpg', '_227_9889754.jpg', '_351_7651498.jpg', '2247_left.jpg', '_366_1717014.jpg', '345_right.jpg', 'cataract_063.png', 'cataract_070.png', '_18_3816222.jpg', '_278_8657701.jpg', '_124_496149.jpg', '_22_9724179.jpg', 'cataract_061.png', '2151_right.jpg', 'cataract_098.png', '2113_right.jpg', '_160_9986895.jpg', '_198_3804403.jpg', '_298_5577948.jpg', '_333_4052700.jpg', '2135_left.jpg', '_343_2631213.jpg', '_122_7237312.jpg', '_332_7698256.jpg', '112_right.jpg', 'cataract_065.png', '2137_left.jpg', '_274_8144937.jpg', '_71_7808711.jpg', '_86_4443360.jpg', '2135_right.jpg', '_371_8717830.jpg', 'cataract_009.png', 'cataract_081.png', '_200_9649683.jpg', '_393_746807.jpg', '2198_right.jpg', '_329_5467190.jpg', '_118_6296686.jpg', '2282_right.jpg', '_227_498752.jpg', '_17_6538881.jpg', '2179_right.jpg', '2104_left.jpg', '_213_1709362.jpg', '_310_7977481.jpg', '2137_right.jpg', 'cataract_074.png', '_97_761368.jpg', '_146_5945090.jpg', '_174_1289707.jpg', '_277_8311217.jpg', '_185_1841552.jpg', '_87_635890.jpg', '_176_4641501.jpg', '_302_3915909.jpg', '_45_6457682.jpg', '553_right.jpg', '_283_4908640.jpg', '_70_6811978.jpg', '_16_8423210.jpg', '_6_4834075.jpg', '_15_7471583.jpg', 'cataract_025.png', '2110_right.jpg', '2101_left.jpg', '2158_right.jpg', '_22_2368616.jpg', '2104_right.jpg', 'cataract_058.png', '625_right.jpg', '_71_5079718.jpg', '2210_right.jpg', 'cataract_030.png', '_60_7070159.jpg', '2108_left.jpg', '_214_267241.jpg', 'cataract_010.png', 'cataract_022.png', '_256_5928804.jpg', '_376_9321900.jpg', '2108_right.jpg', '_218_2512305.jpg', '2107_left.jpg', '_223_4290439.jpg', '_292_4314144.jpg', '_219_4968838.jpg', '_390_1354382.jpg', '2113_left.jpg', '_24_8522038.jpg', '_163_6585488.jpg', '_394_4972049.jpg', '_389_2605189.jpg', '_379_8385603.jpg', '_4_1244424.jpg', '2203_right.jpg', '_216_7774590.jpg', '_144_6424765.jpg', '_248_8765348.jpg', '_228_2229739.jpg', '2181_right.jpg', '_308_4657236.jpg', '_187_1814280.jpg', 'cataract_002.png', '2168_right.jpg', '1490_right.jpg', '2163_right.jpg', '_312_2543225.jpg', '_21_4533748.jpg', '_145_6931784.jpg', '_108_8917257.jpg', '_62_4386293.jpg', '24_right.jpg', '_99_746342.jpg', '_392_7918570.jpg', '_131_863673.jpg', '_147_3710804.jpg', '2209_left.jpg', '2203_left.jpg', '2154_left.jpg', '_1_5346540.jpg', '_7_1388234.jpg', '2130_right.jpg', '_172_4553386.jpg', '2124_left.jpg', '_59_8958387.jpg', '_330_5478095.jpg', '_59_2574195.jpg', '_2_1600849.jpg', '2204_left.jpg', '2196_right.jpg', '_46_4314985.jpg', '2136_left.jpg', '_191_9356535.jpg', '_36_5599796.jpg', '_162_3096677.jpg', '_57_8463167.jpg', '_10_3215668.jpg', '330_left.jpg', '_35_3480407.jpg', '_315_3140714.jpg', '_251_6299381.jpg', '1144_right.jpg', '_54_2420057.jpg', '_114_5711178.jpg', '_30_4231084.jpg', '_271_8355519.jpg', 'cataract_054.png', 'cataract_053.png', '2142_right.jpg', '_76_3327192.jpg', '_16_1907643.jpg', '2215_left.jpg', '_72_8796984.jpg', '2239_right.jpg', '_398_8365643.jpg', '_333_2805221.jpg', '_396_6097231.jpg', '_113_2699140.jpg', '_39_9936846.jpg', '_18_952924.jpg', '2207_left.jpg', '_372_5630593.jpg', '_146_4268935.jpg', '_74_5402652.jpg', '_188_5482423.jpg', '_258_1685319.jpg', '2133_right.jpg', '_90_3742626.jpg', '_329_4545620.jpg', '_161_3798587.jpg', '_269_5232883.jpg', '_197_5321234.jpg', '_172_1350351.jpg', '_44_8713938.jpg', '_262_2214906.jpg', '_55_8463221.jpg', '_230_9762004.jpg', '_397_8948757.jpg', '2174_right.jpg', '_272_7270483.jpg', '_84_9231607.jpg', '_152_9176638.jpg', '2170_left.jpg', '_309_9754398.jpg', '_6_6261868.jpg', '_92_5284437.jpg', '_114_3613830.jpg', '_222_7343969.jpg', '1994_left.jpg', '_377_1993330.jpg', '2194_left.jpg', '2149_right.jpg', '_134_4903477.jpg', '_341_8692985.jpg', '_128_4502689.jpg', '_63_4246818.jpg', '_327_3715152.jpg', '_387_449073.jpg', '2138_right.jpg', '_209_2468249.jpg', 'cataract_042.png', '2178_right.jpg', '_13_3987009.jpg', '_366_983964.jpg', '_320_6448598.jpg', '_336_8535989.jpg', '_141_9740629.jpg', '_238_9445598.jpg', '_350_1666948.jpg', '_332_5964742.jpg', '_19_9976222.jpg', '_217_8865645.jpg', '2178_left.jpg', '_288_8210584.jpg', '_104_4607170.jpg', '_378_7653956.jpg', '_326_3620282.jpg', '2233_left.jpg', 'cataract_028.png', '_307_2047689.jpg', '2144_left.jpg', 'cataract_026.png', '2133_left.jpg', '_363_7332544.jpg', '_388_2242538.jpg', '_290_9207731.jpg', '_345_2495680.jpg', '1483_right.jpg', 'cataract_019.png', '_315_1312896.jpg', '2122_right.jpg', '_314_3594023.jpg', '_151_5293593.jpg', 'cataract_092.png', '2129_left.jpg', '2180_right.jpg', '_328_3269333.jpg', '2119_right.jpg', '_368_8153741.jpg', '_210_8722439.jpg', '_57_3959793.jpg', 'cataract_014.png', '2101_right.jpg', '1144_left.jpg', '_294_4497450.jpg', '_398_329081.jpg', '_294_2444042.jpg', '2127_left.jpg', '_318_4106741.jpg', 'cataract_016.png', '_303_1474676.jpg', '2171_left.jpg', '_247_7009710.jpg', '_30_8983681.jpg', '_21_8755311.jpg', '2146_left.jpg', '_155_2004552.jpg', '2096_right.jpg', '750_left.jpg', '_368_3722136.jpg', 'cataract_050.png', '_361_2261122.jpg', '_78_8248707.jpg', '2240_left.jpg', '_261_1001819.jpg', '_239_3022913.jpg', '_39_9762209.jpg', '_317_4205093.jpg', '2236_right.jpg', '2192_right.jpg', '_297_3925010.jpg', '_349_4292233.jpg', '_176_7840976.jpg', '_138_1949117.jpg', '_137_7856304.jpg', '629_left.jpg', '_305_9499345.jpg', '119_left.jpg', '_234_579953.jpg', '_365_8356754.jpg', '2242_right.jpg', 'cataract_099.png', '_162_3770706.jpg', '2213_right.jpg', '2218_right.jpg', '_185_7271854.jpg', '_26_1879474.jpg', '_38_5463921.jpg', '_362_9739218.jpg', '_97_6398110.jpg', '_62_4939088.jpg', 'cataract_060.png', '_369_7001529.jpg', '2205_right.jpg', '_370_5205357.jpg', '_190_7244239.jpg', 'cataract_004.png', '_227_1163752.jpg', '_211_3296609.jpg', '_217_6662129.jpg', '_353_3624065.jpg', '_51_7561724.jpg', '2142_left.jpg', '_292_2084855.jpg', 'cataract_051.png', 'cataract_072.png', '_201_2875079.jpg', '2195_right.jpg', '_121_5210506.jpg', '_149_3115900.jpg', '2213_left.jpg', '2248_right.jpg', '2116_right.jpg', 'cataract_021.png', '_37_8896673.jpg', '1484_right.jpg', '_116_4683353.jpg', '_190_3033991.jpg', '_212_7340392.jpg', '_49_1539697.jpg', '824_left.jpg', '_183_2869065.jpg', '2052_right.jpg', 'cataract_079.png', '970_right.jpg', '_292_8455118.jpg', '_173_9178799.jpg', '_287_401023.jpg', '_334_1360238.jpg', '_170_5458800.jpg', '_284_7380745.jpg', 'cataract_036.png', '_229_5185520.jpg', '_263_9418780.jpg', '_131_7587386.jpg', '2109_right.jpg', '_287_8846352.jpg', '_58_7683562.jpg', '_8_7059542.jpg', '2175_left.jpg', '_73_1828688.jpg', '_304_4376168.jpg', '1454_right.jpg', '_264_422425.jpg', 'cataract_039.png', '_61_3633947.jpg', 'cataract_012.png', '1285_left.jpg', '_194_6438145.jpg', '_65_5167591.jpg', '_49_7277741.jpg', '_153_5085382.jpg', '_224_4070697.jpg', '2220_right.jpg', '_160_9941636.jpg', 'cataract_080.png', '1435_left.jpg', '448_left.jpg', '2165_right.jpg', '2207_right.jpg', '_221_9234991.jpg', '_32_9062172.jpg', '_37_7526265.jpg', '907_left.jpg', '_159_8564797.jpg', '_69_3198217.jpg', '_396_4783302.jpg', '2212_left.jpg', '_98_9687825.jpg', '_270_651748.jpg', '874_left.jpg', '2156_left.jpg', '_238_358899.jpg', '_352_5217565.jpg', '2114_right.jpg', '_133_1300923.jpg', '_267_7559168.jpg', '1987_left.jpg', '1456_left.jpg', '_189_1773149.jpg', '103_left.jpg', '2251_right.jpg', '_286_6140741.jpg', '_279_4656331.jpg', '_254_1206508.jpg', '_108_750835.jpg', '2208_right.jpg', '820_left.jpg', '_132_7102134.jpg', '2157_right.jpg', 'cataract_007.png', '_316_2112344.jpg', '_127_2102071.jpg', '_344_5181730.jpg', '2097_right.jpg', '_364_9397731.jpg', '_211_9288352.jpg', '_272_4578328.jpg', '_323_1448180.jpg', '_154_1054490.jpg', '2169_left.jpg', '_249_4807123.jpg', '_157_8093661.jpg', '_307_7425412.jpg', '_101_709333.jpg', '2241_left.jpg', '691_left.jpg', '1126_right.jpg', '_267_6890587.jpg', '_237_8444315.jpg', '_31_8523261.jpg', '_166_7102152.jpg', '_123_8135331.jpg', '1102_right.jpg', '1415_right.jpg', '2235_left.jpg', '_206_6210252.jpg', '_109_2006348.jpg', '2105_right.jpg', 'cataract_032.png', '_41_7645755.jpg', '_233_9763374.jpg', '611_left.jpg', '_196_4818116.jpg', '2185_left.jpg', 'cataract_088.png', '_25_4707227.jpg', '_81_6384668.jpg', '2227_left.jpg', '2217_left.jpg', '2225_right.jpg', '_3_4674992.jpg', 'cataract_015.png', '2074_right.jpg', '_47_4608506.jpg', '2168_left.jpg', '_119_9887385.jpg', '_24_6096407.jpg', '_89_450120.jpg', '_93_7584804.jpg', 'cataract_078.png', '_218_687151.jpg', 'cataract_040.png', '_102_1024926.jpg', '_257_8575584.jpg', '_319_3822227.jpg', '_4_7491150.jpg', '2153_right.jpg', '_331_2978484.jpg', '1415_left.jpg', '999_left.jpg', '_274_6913203.jpg', '_106_5284713.jpg', '_172_5595526.jpg', '_354_5293531.jpg', '_360_3983039.jpg', '_231_3245768.jpg', '_395_8303850.jpg', '_279_2310498.jpg', '_61_2475173.jpg', '_69_4758198.jpg', '2225_left.jpg', '553_left.jpg', '_208_168871.jpg', '_166_6232447.jpg', '_28_8675632.jpg', '_268_113112.jpg', '_321_2144914.jpg', '_380_7004130.jpg', '_207_6945490.jpg', 'cataract_082.png', '_266_5676850.jpg', '_314_8935717.jpg', '_119_6929742.jpg', '2115_right.jpg', 'cataract_085.png', '_78_267330.jpg', '_180_5849178.jpg', '2109_left.jpg', '_353_8002933.jpg', '1468_left.jpg', '_102_3990401.jpg', '_17_1497593.jpg', '_80_8675414.jpg', '2190_right.jpg', '2159_left.jpg', '2189_left.jpg', '_89_2075481.jpg', '_52_3704655.jpg', '2193_right.jpg', '2160_right.jpg', '_349_2751142.jpg', '_392_3084035.jpg', '_148_6795884.jpg', '_196_6946219.jpg', '2237_right.jpg', '2110_left.jpg', '0_left.jpg', '188_right.jpg', '_301_5387162.jpg', '_52_7569766.jpg', '2105_left.jpg', 'cataract_020.png', '_383_4165819.jpg', '_170_1001041.jpg', '_269_2821321.jpg', '_225_8520.jpg', '_32_9153320.jpg', '_242_3038184.jpg', '2140_left.jpg', '_189_5910645.jpg', '_171_5903297.jpg']\n",
            "['10272_left.jpeg', '10149_left.jpeg', '10790_left.jpeg', '11040_left.jpeg', '1042_left.jpeg', '10260_left.jpeg', '10975_left.jpeg', '10359_left.jpeg', '1070_right.jpeg', '11182_left.jpeg', '10608_left.jpeg', '10884_right.jpeg', '10814_right.jpeg', '10212_left.jpeg', '11187_left.jpeg', '10415_right.jpeg', '10945_left.jpeg', '10585_right.jpeg', '10701_left.jpeg', '10207_right.jpeg', '11057_left.jpeg', '1123_right.jpeg', '10126_left.jpeg', '11198_right.jpeg', '10339_left.jpeg', '10255_left.jpeg', '11181_left.jpeg', '11165_right.jpeg', '11496_left.jpeg', '10426_right.jpeg', '10723_left.jpeg', '11003_left.jpeg', '10785_left.jpeg', '11335_left.jpeg', '10907_right.jpeg', '11152_right.jpeg', '11265_left.jpeg', '10562_right.jpeg', '11037_left.jpeg', '10263_right.jpeg', '11087_left.jpeg', '1093_right.jpeg', '10010_right.jpeg', '10409_left.jpeg', '10748_right.jpeg', '11008_right.jpeg', '10511_left.jpeg', '10761_right.jpeg', '10962_right.jpeg', '1111_right.jpeg', '10481_left.jpeg', '10851_left.jpeg', '10568_right.jpeg', '1077_right.jpeg', '10745_left.jpeg', '11397_right.jpeg', '10115_left.jpeg', '10752_left.jpeg', '10779_right.jpeg', '11222_left.jpeg', '10913_right.jpeg', '11155_left.jpeg', '1170_left.jpeg', '10657_right.jpeg', '11197_right.jpeg', '10874_left.jpeg', '11341_right.jpeg', '11432_left.jpeg', '10029_left.jpeg', '10325_left.jpeg', '1199_left.jpeg', '11310_left.jpeg', '10279_right.jpeg', '11445_right.jpeg', '10310_right.jpeg', '10061_left.jpeg', '11147_left.jpeg', '10548_right.jpeg', '10551_left.jpeg', '11114_right.jpeg', '10135_right.jpeg', '10244_right.jpeg', '10230_left.jpeg', '11437_right.jpeg', '10305_left.jpeg', '10085_right.jpeg', '1027_right.jpeg', '11392_left.jpeg', '10723_right.jpeg', '11234_left.jpeg', '11098_right.jpeg', '11579_right.jpeg', '11527_left.jpeg', '1272_right.jpeg', '11123_right.jpeg', '1111_left.jpeg', '1030_right.jpeg', '10919_left.jpeg', '10660_left.jpeg', '1049_right.jpeg', '1179_left.jpeg', '11301_right.jpeg', '11550_right.jpeg', '11388_right.jpeg', '10100_right.jpeg', '11421_left.jpeg', '1056_left.jpeg', '1011_left.jpeg', '10729_right.jpeg', '11026_left.jpeg', '11408_left.jpeg', '10444_left.jpeg', '10941_left.jpeg', '10510_right.jpeg', '10166_left.jpeg', '1057_left.jpeg', '10705_left.jpeg', '10081_left.jpeg', '11407_right.jpeg', '11476_right.jpeg', '11037_right.jpeg', '11364_right.jpeg', '11164_right.jpeg', '10674_left.jpeg', '10623_left.jpeg', '1100_left.jpeg', '10644_right.jpeg', '10457_right.jpeg', '1266_right.jpeg', '11340_right.jpeg', '10058_right.jpeg', '10610_right.jpeg', '10585_left.jpeg', '10295_right.jpeg', '11080_left.jpeg', '11117_right.jpeg', '11293_right.jpeg', '1084_right.jpeg', '1096_right.jpeg', '11388_left.jpeg', '11446_right.jpeg', '10241_right.jpeg', '1206_right.jpeg', '11504_right.jpeg', '1131_left.jpeg', '10629_left.jpeg', '11183_right.jpeg', '11271_left.jpeg', '11551_left.jpeg', '10032_right.jpeg', '11196_right.jpeg', '11136_right.jpeg', '10340_left.jpeg', '11007_right.jpeg', '10952_right.jpeg', '10153_right.jpeg', '10177_right.jpeg', '10419_right.jpeg', '1002_left.jpeg', '10257_right.jpeg', '11067_left.jpeg', '11241_left.jpeg', '10646_right.jpeg', '11594_left.jpeg', '10823_left.jpeg', '11289_left.jpeg', '11313_left.jpeg', '10061_right.jpeg', '10377_left.jpeg', '10624_right.jpeg', '10279_left.jpeg', '10777_right.jpeg', '10886_right.jpeg', '11113_right.jpeg', '10941_right.jpeg', '10339_right.jpeg', '11271_right.jpeg', '10015_right.jpeg', '10940_left.jpeg', '10827_left.jpeg', '11219_right.jpeg', '10226_right.jpeg', '1196_right.jpeg', '1056_right.jpeg', '10109_left.jpeg', '10234_right.jpeg', '1188_right.jpeg', '1113_right.jpeg', '11005_right.jpeg', '11221_right.jpeg', '11529_right.jpeg', '1017_right.jpeg', '11164_left.jpeg', '11378_left.jpeg', '10619_left.jpeg', '1138_left.jpeg', '10940_right.jpeg', '10266_right.jpeg', '11371_right.jpeg', '11261_right.jpeg', '11574_left.jpeg', '10622_right.jpeg', '11516_right.jpeg', '10969_right.jpeg', '10842_right.jpeg', '11432_right.jpeg', '11500_left.jpeg', '10865_left.jpeg', '10377_right.jpeg', '1049_left.jpeg', '11273_left.jpeg', '1182_right.jpeg', '11438_left.jpeg', '10218_right.jpeg', '11364_left.jpeg', '10141_left.jpeg', '11023_left.jpeg', '10694_left.jpeg', '10838_right.jpeg', '11304_right.jpeg', '10484_left.jpeg', '11553_left.jpeg', '1096_left.jpeg', '11541_right.jpeg', '11584_left.jpeg', '1275_right.jpeg', '1277_right.jpeg', '11267_left.jpeg', '1192_right.jpeg', '1206_left.jpeg', '10726_right.jpeg', '1098_left.jpeg', '11292_left.jpeg', '10770_left.jpeg', '11216_right.jpeg', '10095_right.jpeg', '11087_right.jpeg', '11299_right.jpeg', '10945_right.jpeg', '11013_right.jpeg', '10966_left.jpeg', '10241_left.jpeg', '10359_right.jpeg', '10124_right.jpeg', '10232_right.jpeg', '11243_right.jpeg', '10672_left.jpeg', '10934_right.jpeg', '10808_right.jpeg', '10782_right.jpeg', '10814_left.jpeg', '10815_right.jpeg', '1305_left.jpeg', '10660_right.jpeg', '122_left.jpeg', '11527_right.jpeg', '11385_left.jpeg', '11176_left.jpeg', '10810_right.jpeg', '11053_left.jpeg', '10458_right.jpeg', '11159_left.jpeg', '10265_right.jpeg', '129_right.jpeg', '10233_right.jpeg', '11293_left.jpeg', '11249_right.jpeg', '11496_right.jpeg', '11058_left.jpeg', '1093_left.jpeg', '11152_left.jpeg', '10842_left.jpeg', '10587_right.jpeg', '10221_right.jpeg', '10009_left.jpeg', '11428_right.jpeg', '10438_right.jpeg', '10782_left.jpeg', '11247_left.jpeg', '11305_right.jpeg', '10306_left.jpeg', '11471_left.jpeg', '11370_right.jpeg', '10751_right.jpeg', '11317_left.jpeg', '10326_right.jpeg', '10489_left.jpeg', '11157_right.jpeg', '10166_right.jpeg', '1285_right.jpeg', '11520_right.jpeg', '10464_left.jpeg', '122_right.jpeg', '10534_left.jpeg', '11241_right.jpeg', '11519_left.jpeg', '10851_right.jpeg', '11120_right.jpeg', '10626_right.jpeg', '10017_right.jpeg', '1211_left.jpeg', '10838_left.jpeg', '10177_left.jpeg', '10653_left.jpeg', '10416_right.jpeg', '11165_left.jpeg', '11417_left.jpeg', '10772_right.jpeg', '10570_right.jpeg', '11370_left.jpeg', '10861_left.jpeg', '11444_right.jpeg', '10293_right.jpeg', '10977_right.jpeg', '10839_right.jpeg', '10833_left.jpeg', '10587_left.jpeg', '11244_left.jpeg', '1277_left.jpeg', '10156_left.jpeg', '11244_right.jpeg', '10297_right.jpeg', '11593_right.jpeg', '10523_left.jpeg', '1260_left.jpeg', '10184_left.jpeg', '1084_left.jpeg', '10284_left.jpeg', '11387_right.jpeg', '10515_right.jpeg', '11593_left.jpeg', '1305_right.jpeg', '10758_right.jpeg', '11115_left.jpeg', '11023_right.jpeg', '1037_right.jpeg', '1077_left.jpeg', '10317_left.jpeg', '11314_right.jpeg', '11425_left.jpeg', '1059_right.jpeg', '1139_left.jpeg', '11482_left.jpeg', '1272_left.jpeg', '10007_right.jpeg', '11409_right.jpeg', '10175_right.jpeg', '11474_left.jpeg', '11581_left.jpeg', '10284_right.jpeg', '10966_right.jpeg', '10058_left.jpeg', '11231_left.jpeg', '10583_left.jpeg', '1242_left.jpeg', '10050_right.jpeg', '10762_right.jpeg', '1297_left.jpeg', '11349_right.jpeg', '11455_left.jpeg', '10233_left.jpeg', '10908_left.jpeg', '10513_left.jpeg', '10276_left.jpeg', '1165_left.jpeg', '1167_left.jpeg', '10170_left.jpeg', '10368_left.jpeg', '10426_left.jpeg', '1100_right.jpeg', '11584_right.jpeg', '11474_right.jpeg', '1242_right.jpeg', '10303_left.jpeg', '1057_right.jpeg', '10568_left.jpeg', '10975_right.jpeg', '10042_right.jpeg', '11546_right.jpeg', '10431_right.jpeg', '10722_right.jpeg', '11397_left.jpeg', '11573_left.jpeg', '11310_right.jpeg', '11231_right.jpeg', '11007_left.jpeg', '10207_left.jpeg', '10479_right.jpeg', '1012_right.jpeg', '11120_left.jpeg', '11161_left.jpeg', '10645_left.jpeg', '10650_left.jpeg', '1073_right.jpeg', '1294_left.jpeg', '1138_right.jpeg', '11114_left.jpeg', '10013_left.jpeg', '11156_left.jpeg', '10221_left.jpeg', '10243_left.jpeg', '10452_right.jpeg', '11080_right.jpeg', '10232_left.jpeg', '11246_left.jpeg', '10184_right.jpeg', '11203_left.jpeg', '1196_left.jpeg', '10319_left.jpeg', '10389_right.jpeg', '1059_left.jpeg', '1188_left.jpeg', '11315_left.jpeg', '10827_right.jpeg', '10616_left.jpeg', '10610_left.jpeg', '11219_left.jpeg', '1267_left.jpeg', '11169_right.jpeg', '10688_left.jpeg', '1076_right.jpeg', '10566_right.jpeg', '1302_right.jpeg', '10675_left.jpeg', '10787_left.jpeg', '10987_left.jpeg', '1020_left.jpeg', '10149_right.jpeg', '10319_right.jpeg', '10722_left.jpeg', '10095_left.jpeg', '10397_left.jpeg', '1266_left.jpeg', '10650_right.jpeg', '10126_right.jpeg', '10212_right.jpeg', '10743_left.jpeg', '10169_left.jpeg', '11049_left.jpeg', '10244_left.jpeg', '10970_left.jpeg', '10844_left.jpeg', '10947_left.jpeg', '11008_left.jpeg', '10183_right.jpeg', '10960_left.jpeg', '11455_right.jpeg', '11490_left.jpeg', '10099_right.jpeg', '10312_right.jpeg', '10085_left.jpeg', '10183_left.jpeg', '10175_left.jpeg', '10942_right.jpeg', '1139_right.jpeg', '10272_right.jpeg', '10135_left.jpeg', '1259_left.jpeg', '11487_left.jpeg', '1098_right.jpeg', '10398_right.jpeg', '10644_left.jpeg', '10015_left.jpeg', '10116_left.jpeg', '10920_right.jpeg', '11394_right.jpeg', '1017_left.jpeg', '10153_left.jpeg', '10415_left.jpeg', '11319_left.jpeg', '11341_left.jpeg', '10563_left.jpeg', '10606_left.jpeg', '11408_right.jpeg', '10734_right.jpeg', '10124_left.jpeg', '10622_left.jpeg', '10003_right.jpeg', '10865_right.jpeg', '10954_right.jpeg', '11590_left.jpeg', '10403_right.jpeg', '10551_right.jpeg', '1055_left.jpeg', '11124_right.jpeg', '10786_left.jpeg', '10409_right.jpeg', '11574_right.jpeg', '10182_left.jpeg', '10886_left.jpeg', '10542_left.jpeg', '11159_right.jpeg', '10170_right.jpeg', '11026_right.jpeg', '10047_right.jpeg', '11216_left.jpeg', '11197_left.jpeg', '10761_left.jpeg', '11187_right.jpeg', '10734_left.jpeg', '10444_right.jpeg', '10007_left.jpeg', '1204_right.jpeg', '1172_left.jpeg', '1180_right.jpeg', '10014_right.jpeg', '10210_left.jpeg', '11229_right.jpeg', '11407_left.jpeg', '10976_left.jpeg', '1102_right.jpeg', '125_left.jpeg', '10680_right.jpeg', '1055_right.jpeg', '11091_right.jpeg', '11013_left.jpeg', '11117_left.jpeg', '1092_right.jpeg', '10448_left.jpeg', '1024_right.jpeg', '11443_left.jpeg', '11326_left.jpeg', '10014_left.jpeg', '11206_left.jpeg', '10763_left.jpeg', '1292_right.jpeg', '10924_right.jpeg', '10031_right.jpeg', '11438_right.jpeg', '10915_left.jpeg', '1240_right.jpeg', '11391_right.jpeg', '10137_right.jpeg', '10710_right.jpeg', '11136_left.jpeg', '10987_right.jpeg', '10407_left.jpeg', '10475_right.jpeg', '10562_left.jpeg', '10120_left.jpeg', '11435_right.jpeg', '11545_left.jpeg', '11425_right.jpeg', '10936_right.jpeg', '10943_left.jpeg', '11181_right.jpeg', '10310_left.jpeg', '1145_right.jpeg', '10810_left.jpeg', '1146_left.jpeg', '11142_right.jpeg', '10755_left.jpeg', '10606_right.jpeg', '11123_left.jpeg', '10481_right.jpeg', '11393_right.jpeg', '10210_right.jpeg', '10903_right.jpeg', '10976_right.jpeg', '10952_left.jpeg', '11232_left.jpeg', '11316_left.jpeg', '108_left.jpeg', '10115_right.jpeg', '10879_right.jpeg', '1180_left.jpeg', '1075_left.jpeg', '1008_right.jpeg', '10431_left.jpeg', '10916_left.jpeg', '11448_left.jpeg', '11232_right.jpeg', '10913_left.jpeg', '11183_left.jpeg', '1199_right.jpeg', '11288_right.jpeg', '10732_right.jpeg', '11122_right.jpeg', '10325_right.jpeg', '10608_right.jpeg', '11161_right.jpeg', '11304_left.jpeg', '10367_right.jpeg', '10808_left.jpeg', '125_right.jpeg', '1204_left.jpeg', '10230_right.jpeg', '10419_left.jpeg', '1146_right.jpeg', '1000_right.jpeg', '11313_right.jpeg', '10883_left.jpeg', '11243_left.jpeg', '10031_left.jpeg', '1092_left.jpeg', '10908_right.jpeg', '10989_right.jpeg', '10891_left.jpeg', '1296_left.jpeg', '11581_right.jpeg', '10844_right.jpeg', '11519_right.jpeg', '11435_left.jpeg', '11234_right.jpeg', '10163_right.jpeg', '10763_right.jpeg', '10429_left.jpeg', '10368_right.jpeg', '11321_left.jpeg', '1131_right.jpeg', '11464_left.jpeg', '10386_left.jpeg', '10854_right.jpeg', '10255_right.jpeg', '10657_left.jpeg', '10924_left.jpeg', '10017_left.jpeg', '10163_left.jpeg', '1002_right.jpeg', '10748_left.jpeg', '10398_left.jpeg', '11147_right.jpeg', '11005_left.jpeg', '10579_right.jpeg', '10367_left.jpeg', '11371_left.jpeg', '1123_left.jpeg', '10833_right.jpeg', '1172_right.jpeg', '10266_left.jpeg', '10695_right.jpeg', '10790_right.jpeg', '10321_left.jpeg', '10994_right.jpeg', '11228_left.jpeg', '11421_right.jpeg', '11270_left.jpeg', '11053_right.jpeg', '1073_left.jpeg', '10305_right.jpeg', '11579_left.jpeg', '11500_right.jpeg', '10050_left.jpeg', '10794_right.jpeg', '10936_left.jpeg', '10504_left.jpeg', '10242_right.jpeg', '10550_right.jpeg', '11115_right.jpeg', '11057_right.jpeg', '10452_left.jpeg', '1294_right.jpeg', '11420_left.jpeg', '11270_right.jpeg', '1197_left.jpeg', '10977_left.jpeg', '11417_right.jpeg', '11385_right.jpeg', '10988_right.jpeg', '11542_left.jpeg', '10874_right.jpeg', '1289_left.jpeg', '11249_left.jpeg', '11598_right.jpeg', '11267_right.jpeg', '10779_left.jpeg', '10303_right.jpeg', '11247_right.jpeg', '10053_right.jpeg', '11155_right.jpeg', '10003_left.jpeg', '10250_right.jpeg', '10710_left.jpeg', '10688_right.jpeg', '10883_right.jpeg', '10873_right.jpeg', '1197_right.jpeg', '11292_right.jpeg', '10919_right.jpeg', '10154_left.jpeg', '1275_left.jpeg', '11314_left.jpeg', '10569_right.jpeg', '11265_right.jpeg', '10182_right.jpeg', '11228_right.jpeg', '11345_left.jpeg', '11127_right.jpeg', '10640_left.jpeg', '1024_left.jpeg', '10295_left.jpeg', '1020_right.jpeg', '11534_right.jpeg', '10732_left.jpeg', '10294_left.jpeg', '10333_left.jpeg', '129_left.jpeg', '10046_left.jpeg', '10636_left.jpeg', '11516_left.jpeg', '11113_left.jpeg', '10646_left.jpeg', '11495_left.jpeg', '11288_left.jpeg', '11443_right.jpeg', '11598_left.jpeg', '1296_right.jpeg', '10489_right.jpeg', '10429_right.jpeg', '10226_left.jpeg', '10154_right.jpeg', '10438_left.jpeg', '10675_right.jpeg', '10794_left.jpeg', '11003_right.jpeg', '10897_left.jpeg', '10317_right.jpeg', '1147_left.jpeg', '10861_right.jpeg', '10755_right.jpeg', '11476_left.jpeg', '10306_right.jpeg', '10854_left.jpeg', '1297_right.jpeg', '10104_right.jpeg', '10515_left.jpeg', '10081_right.jpeg', '100_left.jpeg', '10864_right.jpeg', '11127_left.jpeg', '10403_left.jpeg', '1170_right.jpeg', '11490_right.jpeg', '10408_right.jpeg', '10751_left.jpeg', '111_left.jpeg', '117_left.jpeg', '10727_left.jpeg', '11049_right.jpeg', '11541_left.jpeg', '111_right.jpeg', '10251_right.jpeg', '10032_left.jpeg', '10321_right.jpeg', '10069_left.jpeg', '10404_right.jpeg', '10141_right.jpeg', '10772_left.jpeg', '10969_left.jpeg', '1011_right.jpeg', '10994_left.jpeg', '10337_left.jpeg', '11393_left.jpeg', '10752_right.jpeg', '10276_right.jpeg', '1136_left.jpeg', '11196_left.jpeg', '11283_right.jpeg', '1058_right.jpeg', '10312_left.jpeg', '10695_left.jpeg', '10407_right.jpeg', '11495_right.jpeg', '11206_right.jpeg', '10458_left.jpeg', '11553_right.jpeg', '11382_left.jpeg', '10903_left.jpeg', '11444_left.jpeg', '11439_right.jpeg', '10479_left.jpeg', '10130_right.jpeg', '10640_right.jpeg', '11261_left.jpeg', '11305_left.jpeg', '10616_right.jpeg', '1161_right.jpeg', '11551_right.jpeg', '11119_left.jpeg', '10369_left.jpeg', '119_right.jpeg', '11122_left.jpeg', '10988_left.jpeg', '10510_left.jpeg', '1021_left.jpeg', '10343_right.jpeg', '11392_right.jpeg', '10120_right.jpeg', '1179_right.jpeg', '10147_right.jpeg', '11283_left.jpeg', '11420_right.jpeg', '10010_left.jpeg', '10521_left.jpeg', '10629_right.jpeg', '10294_right.jpeg', '11437_left.jpeg', '108_right.jpeg', '10194_right.jpeg', '1285_left.jpeg', '1302_left.jpeg', '10579_left.jpeg', '1034_left.jpeg', '11153_left.jpeg', '10694_right.jpeg', '10612_right.jpeg', '1136_right.jpeg', '11382_right.jpeg', '11573_right.jpeg', '11428_left.jpeg', '10448_right.jpeg', '11050_left.jpeg', '1076_left.jpeg', '1037_left.jpeg', '1178_left.jpeg', '10218_left.jpeg', '10129_right.jpeg', '11032_right.jpeg', '10206_right.jpeg', '10278_right.jpeg', '11504_left.jpeg', '10009_right.jpeg', '11365_right.jpeg', '1182_left.jpeg', '11387_left.jpeg', '10104_left.jpeg', '10934_left.jpeg', '10853_left.jpeg', '10293_left.jpeg', '1030_left.jpeg', '11529_left.jpeg', '11156_right.jpeg', '1052_left.jpeg', '11222_right.jpeg', '10873_left.jpeg', '10416_left.jpeg', '10343_left.jpeg', '10439_right.jpeg', '10930_left.jpeg', '10150_right.jpeg', '10047_left.jpeg', '11119_right.jpeg', '10651_left.jpeg', '10260_right.jpeg', '10492_right.jpeg', '10787_right.jpeg', '11032_left.jpeg', '10150_left.jpeg', '10242_left.jpeg', '1113_left.jpeg', '10078_right.jpeg', '10487_left.jpeg', '10252_right.jpeg', '10265_left.jpeg', '10653_right.jpeg', '10492_left.jpeg', '102_left.jpeg', '10758_left.jpeg', '11448_right.jpeg', '10930_right.jpeg', '11058_right.jpeg', '10278_left.jpeg', '11520_left.jpeg', '100_right.jpeg', '11203_right.jpeg', '1035_left.jpeg', '10169_right.jpeg', '10674_right.jpeg', '11291_right.jpeg', '10770_right.jpeg', '11391_left.jpeg', '11446_left.jpeg', '10680_left.jpeg', '11575_left.jpeg', '10989_left.jpeg', '1012_left.jpeg', '10962_left.jpeg', '117_right.jpeg', '10363_right.jpeg', '11157_left.jpeg', '11169_left.jpeg', '11040_right.jpeg', '10297_left.jpeg', '1269_right.jpeg', '10623_right.jpeg', '10970_right.jpeg', '10974_left.jpeg', '1161_left.jpeg', '10592_left.jpeg', '10954_left.jpeg', '10534_right.jpeg', '10397_right.jpeg', '10916_right.jpeg', '10129_left.jpeg', '10130_left.jpeg', '1259_right.jpeg', '10879_left.jpeg', '10619_right.jpeg', '10729_left.jpeg', '11229_left.jpeg', '10521_right.jpeg', '10603_right.jpeg', '10457_left.jpeg', '10160_left.jpeg', '10983_right.jpeg', '1145_left.jpeg', '10942_left.jpeg', '10029_right.jpeg', '11317_right.jpeg', '1000_left.jpeg', '10160_right.jpeg', '10720_right.jpeg', '10078_left.jpeg', '10548_left.jpeg', '11487_right.jpeg', '1292_left.jpeg', '10391_right.jpeg', '10960_right.jpeg', '11409_left.jpeg', '10109_right.jpeg', '10626_left.jpeg', '11546_left.jpeg', '10570_left.jpeg', '11153_right.jpeg', '10030_left.jpeg', '10720_left.jpeg', '10439_left.jpeg', '10137_left.jpeg', '10194_left.jpeg', '10920_left.jpeg', '10701_right.jpeg', '10475_left.jpeg', '10651_right.jpeg', '10943_right.jpeg', '10404_left.jpeg', '11121_right.jpeg', '10328_left.jpeg', '11273_right.jpeg', '10743_right.jpeg', '10389_left.jpeg', '11594_right.jpeg', '11321_right.jpeg', '11142_left.jpeg', '10727_right.jpeg', '11298_left.jpeg', '10672_right.jpeg', '1034_right.jpeg', '10605_right.jpeg', '11130_right.jpeg', '11121_left.jpeg', '10503_right.jpeg', '11439_left.jpeg', '10864_left.jpeg', '10059_left.jpeg', '11315_right.jpeg', '10262_left.jpeg', '102_right.jpeg', '1267_right.jpeg', '10839_left.jpeg', '11365_left.jpeg', '10550_left.jpeg', '10503_left.jpeg', '1035_right.jpeg', '1147_right.jpeg', '10523_right.jpeg', '1260_right.jpeg', '10042_left.jpeg', '10832_right.jpeg', '11345_right.jpeg', '10252_left.jpeg', '10603_left.jpeg', '10363_left.jpeg', '10781_left.jpeg', '10974_right.jpeg', '10464_right.jpeg', '11464_right.jpeg', '10726_left.jpeg', '10566_left.jpeg', '10262_right.jpeg', '10333_right.jpeg', '1167_right.jpeg', '1269_left.jpeg', '10815_left.jpeg', '11340_left.jpeg', '1289_right.jpeg', '10243_right.jpeg', '11124_left.jpeg', '10781_right.jpeg', '11542_right.jpeg', '10504_right.jpeg', '10513_right.jpeg', '11221_left.jpeg', '11298_right.jpeg', '10251_left.jpeg', '1027_left.jpeg', '10792_left.jpeg', '10592_right.jpeg', '11246_right.jpeg', '10762_left.jpeg', '11091_left.jpeg', '11098_left.jpeg', '10891_right.jpeg', '10053_left.jpeg', '10391_left.jpeg', '10035_left.jpeg', '11335_right.jpeg', '10823_right.jpeg', '10569_left.jpeg', '10915_right.jpeg', '1102_left.jpeg', '1133_left.jpeg', '11394_left.jpeg', '10832_left.jpeg', '10369_right.jpeg', '10250_left.jpeg', '10059_right.jpeg', '11534_left.jpeg', '1211_right.jpeg', '10786_right.jpeg', '10386_right.jpeg', '10624_left.jpeg', '10234_left.jpeg', '10046_right.jpeg', '11378_right.jpeg', '10147_left.jpeg', '10013_right.jpeg', '11182_right.jpeg', '10612_left.jpeg', '10983_left.jpeg', '10961_right.jpeg', '10116_right.jpeg', '1165_right.jpeg', '10777_left.jpeg', '11326_right.jpeg', '1240_left.jpeg', '10853_right.jpeg', '10069_right.jpeg', '119_left.jpeg', '10636_right.jpeg', '11291_left.jpeg', '1058_left.jpeg', '10705_right.jpeg', '1178_right.jpeg', '11299_left.jpeg', '10961_left.jpeg', '11550_left.jpeg', '1021_right.jpeg', '11445_left.jpeg', '10785_right.jpeg', '11130_left.jpeg', '10745_right.jpeg', '1192_left.jpeg', '10035_right.jpeg', '1133_right.jpeg', '10030_right.jpeg', '1052_right.jpeg', '11067_right.jpeg', '10156_right.jpeg', '11471_right.jpeg', '10100_left.jpeg', '10645_right.jpeg', '11289_right.jpeg', '10907_left.jpeg', '11316_right.jpeg', '10337_right.jpeg', '11319_right.jpeg', '10897_right.jpeg', '10487_right.jpeg', '10792_right.jpeg', '1075_right.jpeg', '10947_right.jpeg', '1008_left.jpeg', '11198_left.jpeg', '10326_left.jpeg', '11482_right.jpeg', '10563_right.jpeg', '11050_right.jpeg', '10884_left.jpeg', '10484_right.jpeg', '10583_right.jpeg', '10511_right.jpeg', '1070_left.jpeg', '11545_right.jpeg', '11575_right.jpeg', '10542_right.jpeg', '1042_right.jpeg', '10340_right.jpeg', '10605_left.jpeg', '11301_left.jpeg', '11176_right.jpeg', '10328_right.jpeg', '11349_left.jpeg', '11590_right.jpeg', '10257_left.jpeg', '10263_left.jpeg', '10206_left.jpeg', '10408_left.jpeg', '10099_left.jpeg']\n"
          ]
        }
      ]
    },
    {
      "cell_type": "code",
      "source": [
        "df = pd.DataFrame(address,columns = ['address', 'group'])\n",
        "df.head()"
      ],
      "metadata": {
        "colab": {
          "base_uri": "https://localhost:8080/",
          "height": 206
        },
        "id": "FIefXKKTOPR4",
        "outputId": "314335e9-3854-4c85-e3ec-a97f7cece0c1"
      },
      "execution_count": null,
      "outputs": [
        {
          "output_type": "execute_result",
          "data": {
            "text/plain": [
              "                                  address   group\n",
              "0  /content/dataset/normal/2790_right.jpg  normal\n",
              "1   /content/dataset/normal/3198_left.jpg  normal\n",
              "2   /content/dataset/normal/3144_left.jpg  normal\n",
              "3   /content/dataset/normal/3168_left.jpg  normal\n",
              "4   /content/dataset/normal/2944_left.jpg  normal"
            ],
            "text/html": [
              "\n",
              "  <div id=\"df-814ae610-f007-4bd6-a096-3bb453a91a8e\">\n",
              "    <div class=\"colab-df-container\">\n",
              "      <div>\n",
              "<style scoped>\n",
              "    .dataframe tbody tr th:only-of-type {\n",
              "        vertical-align: middle;\n",
              "    }\n",
              "\n",
              "    .dataframe tbody tr th {\n",
              "        vertical-align: top;\n",
              "    }\n",
              "\n",
              "    .dataframe thead th {\n",
              "        text-align: right;\n",
              "    }\n",
              "</style>\n",
              "<table border=\"1\" class=\"dataframe\">\n",
              "  <thead>\n",
              "    <tr style=\"text-align: right;\">\n",
              "      <th></th>\n",
              "      <th>address</th>\n",
              "      <th>group</th>\n",
              "    </tr>\n",
              "  </thead>\n",
              "  <tbody>\n",
              "    <tr>\n",
              "      <th>0</th>\n",
              "      <td>/content/dataset/normal/2790_right.jpg</td>\n",
              "      <td>normal</td>\n",
              "    </tr>\n",
              "    <tr>\n",
              "      <th>1</th>\n",
              "      <td>/content/dataset/normal/3198_left.jpg</td>\n",
              "      <td>normal</td>\n",
              "    </tr>\n",
              "    <tr>\n",
              "      <th>2</th>\n",
              "      <td>/content/dataset/normal/3144_left.jpg</td>\n",
              "      <td>normal</td>\n",
              "    </tr>\n",
              "    <tr>\n",
              "      <th>3</th>\n",
              "      <td>/content/dataset/normal/3168_left.jpg</td>\n",
              "      <td>normal</td>\n",
              "    </tr>\n",
              "    <tr>\n",
              "      <th>4</th>\n",
              "      <td>/content/dataset/normal/2944_left.jpg</td>\n",
              "      <td>normal</td>\n",
              "    </tr>\n",
              "  </tbody>\n",
              "</table>\n",
              "</div>\n",
              "      <button class=\"colab-df-convert\" onclick=\"convertToInteractive('df-814ae610-f007-4bd6-a096-3bb453a91a8e')\"\n",
              "              title=\"Convert this dataframe to an interactive table.\"\n",
              "              style=\"display:none;\">\n",
              "        \n",
              "  <svg xmlns=\"http://www.w3.org/2000/svg\" height=\"24px\"viewBox=\"0 0 24 24\"\n",
              "       width=\"24px\">\n",
              "    <path d=\"M0 0h24v24H0V0z\" fill=\"none\"/>\n",
              "    <path d=\"M18.56 5.44l.94 2.06.94-2.06 2.06-.94-2.06-.94-.94-2.06-.94 2.06-2.06.94zm-11 1L8.5 8.5l.94-2.06 2.06-.94-2.06-.94L8.5 2.5l-.94 2.06-2.06.94zm10 10l.94 2.06.94-2.06 2.06-.94-2.06-.94-.94-2.06-.94 2.06-2.06.94z\"/><path d=\"M17.41 7.96l-1.37-1.37c-.4-.4-.92-.59-1.43-.59-.52 0-1.04.2-1.43.59L10.3 9.45l-7.72 7.72c-.78.78-.78 2.05 0 2.83L4 21.41c.39.39.9.59 1.41.59.51 0 1.02-.2 1.41-.59l7.78-7.78 2.81-2.81c.8-.78.8-2.07 0-2.86zM5.41 20L4 18.59l7.72-7.72 1.47 1.35L5.41 20z\"/>\n",
              "  </svg>\n",
              "      </button>\n",
              "      \n",
              "  <style>\n",
              "    .colab-df-container {\n",
              "      display:flex;\n",
              "      flex-wrap:wrap;\n",
              "      gap: 12px;\n",
              "    }\n",
              "\n",
              "    .colab-df-convert {\n",
              "      background-color: #E8F0FE;\n",
              "      border: none;\n",
              "      border-radius: 50%;\n",
              "      cursor: pointer;\n",
              "      display: none;\n",
              "      fill: #1967D2;\n",
              "      height: 32px;\n",
              "      padding: 0 0 0 0;\n",
              "      width: 32px;\n",
              "    }\n",
              "\n",
              "    .colab-df-convert:hover {\n",
              "      background-color: #E2EBFA;\n",
              "      box-shadow: 0px 1px 2px rgba(60, 64, 67, 0.3), 0px 1px 3px 1px rgba(60, 64, 67, 0.15);\n",
              "      fill: #174EA6;\n",
              "    }\n",
              "\n",
              "    [theme=dark] .colab-df-convert {\n",
              "      background-color: #3B4455;\n",
              "      fill: #D2E3FC;\n",
              "    }\n",
              "\n",
              "    [theme=dark] .colab-df-convert:hover {\n",
              "      background-color: #434B5C;\n",
              "      box-shadow: 0px 1px 3px 1px rgba(0, 0, 0, 0.15);\n",
              "      filter: drop-shadow(0px 1px 2px rgba(0, 0, 0, 0.3));\n",
              "      fill: #FFFFFF;\n",
              "    }\n",
              "  </style>\n",
              "\n",
              "      <script>\n",
              "        const buttonEl =\n",
              "          document.querySelector('#df-814ae610-f007-4bd6-a096-3bb453a91a8e button.colab-df-convert');\n",
              "        buttonEl.style.display =\n",
              "          google.colab.kernel.accessAllowed ? 'block' : 'none';\n",
              "\n",
              "        async function convertToInteractive(key) {\n",
              "          const element = document.querySelector('#df-814ae610-f007-4bd6-a096-3bb453a91a8e');\n",
              "          const dataTable =\n",
              "            await google.colab.kernel.invokeFunction('convertToInteractive',\n",
              "                                                     [key], {});\n",
              "          if (!dataTable) return;\n",
              "\n",
              "          const docLinkHtml = 'Like what you see? Visit the ' +\n",
              "            '<a target=\"_blank\" href=https://colab.research.google.com/notebooks/data_table.ipynb>data table notebook</a>'\n",
              "            + ' to learn more about interactive tables.';\n",
              "          element.innerHTML = '';\n",
              "          dataTable['output_type'] = 'display_data';\n",
              "          await google.colab.output.renderOutput(dataTable, element);\n",
              "          const docLink = document.createElement('div');\n",
              "          docLink.innerHTML = docLinkHtml;\n",
              "          element.appendChild(docLink);\n",
              "        }\n",
              "      </script>\n",
              "    </div>\n",
              "  </div>\n",
              "  "
            ]
          },
          "metadata": {},
          "execution_count": 12
        }
      ]
    },
    {
      "cell_type": "code",
      "source": [
        "df['group'].value_counts()"
      ],
      "metadata": {
        "colab": {
          "base_uri": "https://localhost:8080/"
        },
        "id": "5yb0ykxHOPV4",
        "outputId": "f4a925fd-cd9f-4830-91c1-b667c3653d63"
      },
      "execution_count": null,
      "outputs": [
        {
          "output_type": "execute_result",
          "data": {
            "text/plain": [
              "diabetic_retinopathy    1098\n",
              "normal                  1074\n",
              "cataract                1038\n",
              "glaucoma                1007\n",
              "Name: group, dtype: int64"
            ]
          },
          "metadata": {},
          "execution_count": 13
        }
      ]
    },
    {
      "cell_type": "code",
      "source": [
        "img = plt.imread(df['address'][0])\n",
        "plt.title(df['group'][0])\n",
        "plt.imshow(img)"
      ],
      "metadata": {
        "colab": {
          "base_uri": "https://localhost:8080/",
          "height": 298
        },
        "id": "GJYNFGYTOPZQ",
        "outputId": "3d39eab8-0efd-48b0-a269-43774ce5a0bb"
      },
      "execution_count": null,
      "outputs": [
        {
          "output_type": "execute_result",
          "data": {
            "text/plain": [
              "<matplotlib.image.AxesImage at 0x7f811a1c5a60>"
            ]
          },
          "metadata": {},
          "execution_count": 14
        },
        {
          "output_type": "display_data",
          "data": {
            "text/plain": [
              "<Figure size 432x288 with 1 Axes>"
            ],
            "image/png": "[encoded data removed]"
          },
          "metadata": {
            "needs_background": "light"
          }
        }
      ]
    },
    {
      "cell_type": "code",
      "source": [
        "img.shape"
      ],
      "metadata": {
        "colab": {
          "base_uri": "https://localhost:8080/"
        },
        "id": "e_Tq4SbXOPcX",
        "outputId": "4e85f912-ac7d-42bf-8755-552c946ed600"
      },
      "execution_count": null,
      "outputs": [
        {
          "output_type": "execute_result",
          "data": {
            "text/plain": [
              "(512, 512, 3)"
            ]
          },
          "metadata": {},
          "execution_count": 15
        }
      ]
    },
    {
      "cell_type": "code",
      "source": [
        "df['label'] = df['group'].map({'cataract': 1,  'normal' : 0 , 'diabetic_retinopathy' : 2,'glaucoma': 3})"
      ],
      "metadata": {
        "id": "RQBIQEg7OPf3"
      },
      "execution_count": null,
      "outputs": []
    },
    {
      "cell_type": "code",
      "source": [
        "len(df)"
      ],
      "metadata": {
        "colab": {
          "base_uri": "https://localhost:8080/"
        },
        "id": "6__YLyDHOPjm",
        "outputId": "bbecc421-db0e-41a7-b48f-1adab584fe91"
      },
      "execution_count": null,
      "outputs": [
        {
          "output_type": "execute_result",
          "data": {
            "text/plain": [
              "4217"
            ]
          },
          "metadata": {},
          "execution_count": 17
        }
      ]
    },
    {
      "cell_type": "code",
      "source": [
        "df.head()"
      ],
      "metadata": {
        "colab": {
          "base_uri": "https://localhost:8080/",
          "height": 206
        },
        "id": "NndjGhPKOPnQ",
        "outputId": "e07553bd-06ee-4b4f-8203-12d504487da6"
      },
      "execution_count": null,
      "outputs": [
        {
          "output_type": "execute_result",
          "data": {
            "text/plain": [
              "                                  address   group  label\n",
              "0  /content/dataset/normal/2790_right.jpg  normal      0\n",
              "1   /content/dataset/normal/3198_left.jpg  normal      0\n",
              "2   /content/dataset/normal/3144_left.jpg  normal      0\n",
              "3   /content/dataset/normal/3168_left.jpg  normal      0\n",
              "4   /content/dataset/normal/2944_left.jpg  normal      0"
            ],
            "text/html": [
              "\n",
              "  <div id=\"df-4f999869-998c-427c-b307-6a835e644716\">\n",
              "    <div class=\"colab-df-container\">\n",
              "      <div>\n",
              "<style scoped>\n",
              "    .dataframe tbody tr th:only-of-type {\n",
              "        vertical-align: middle;\n",
              "    }\n",
              "\n",
              "    .dataframe tbody tr th {\n",
              "        vertical-align: top;\n",
              "    }\n",
              "\n",
              "    .dataframe thead th {\n",
              "        text-align: right;\n",
              "    }\n",
              "</style>\n",
              "<table border=\"1\" class=\"dataframe\">\n",
              "  <thead>\n",
              "    <tr style=\"text-align: right;\">\n",
              "      <th></th>\n",
              "      <th>address</th>\n",
              "      <th>group</th>\n",
              "      <th>label</th>\n",
              "    </tr>\n",
              "  </thead>\n",
              "  <tbody>\n",
              "    <tr>\n",
              "      <th>0</th>\n",
              "      <td>/content/dataset/normal/2790_right.jpg</td>\n",
              "      <td>normal</td>\n",
              "      <td>0</td>\n",
              "    </tr>\n",
              "    <tr>\n",
              "      <th>1</th>\n",
              "      <td>/content/dataset/normal/3198_left.jpg</td>\n",
              "      <td>normal</td>\n",
              "      <td>0</td>\n",
              "    </tr>\n",
              "    <tr>\n",
              "      <th>2</th>\n",
              "      <td>/content/dataset/normal/3144_left.jpg</td>\n",
              "      <td>normal</td>\n",
              "      <td>0</td>\n",
              "    </tr>\n",
              "    <tr>\n",
              "      <th>3</th>\n",
              "      <td>/content/dataset/normal/3168_left.jpg</td>\n",
              "      <td>normal</td>\n",
              "      <td>0</td>\n",
              "    </tr>\n",
              "    <tr>\n",
              "      <th>4</th>\n",
              "      <td>/content/dataset/normal/2944_left.jpg</td>\n",
              "      <td>normal</td>\n",
              "      <td>0</td>\n",
              "    </tr>\n",
              "  </tbody>\n",
              "</table>\n",
              "</div>\n",
              "      <button class=\"colab-df-convert\" onclick=\"convertToInteractive('df-4f999869-998c-427c-b307-6a835e644716')\"\n",
              "              title=\"Convert this dataframe to an interactive table.\"\n",
              "              style=\"display:none;\">\n",
              "        \n",
              "  <svg xmlns=\"http://www.w3.org/2000/svg\" height=\"24px\"viewBox=\"0 0 24 24\"\n",
              "       width=\"24px\">\n",
              "    <path d=\"M0 0h24v24H0V0z\" fill=\"none\"/>\n",
              "    <path d=\"M18.56 5.44l.94 2.06.94-2.06 2.06-.94-2.06-.94-.94-2.06-.94 2.06-2.06.94zm-11 1L8.5 8.5l.94-2.06 2.06-.94-2.06-.94L8.5 2.5l-.94 2.06-2.06.94zm10 10l.94 2.06.94-2.06 2.06-.94-2.06-.94-.94-2.06-.94 2.06-2.06.94z\"/><path d=\"M17.41 7.96l-1.37-1.37c-.4-.4-.92-.59-1.43-.59-.52 0-1.04.2-1.43.59L10.3 9.45l-7.72 7.72c-.78.78-.78 2.05 0 2.83L4 21.41c.39.39.9.59 1.41.59.51 0 1.02-.2 1.41-.59l7.78-7.78 2.81-2.81c.8-.78.8-2.07 0-2.86zM5.41 20L4 18.59l7.72-7.72 1.47 1.35L5.41 20z\"/>\n",
              "  </svg>\n",
              "      </button>\n",
              "      \n",
              "  <style>\n",
              "    .colab-df-container {\n",
              "      display:flex;\n",
              "      flex-wrap:wrap;\n",
              "      gap: 12px;\n",
              "    }\n",
              "\n",
              "    .colab-df-convert {\n",
              "      background-color: #E8F0FE;\n",
              "      border: none;\n",
              "      border-radius: 50%;\n",
              "      cursor: pointer;\n",
              "      display: none;\n",
              "      fill: #1967D2;\n",
              "      height: 32px;\n",
              "      padding: 0 0 0 0;\n",
              "      width: 32px;\n",
              "    }\n",
              "\n",
              "    .colab-df-convert:hover {\n",
              "      background-color: #E2EBFA;\n",
              "      box-shadow: 0px 1px 2px rgba(60, 64, 67, 0.3), 0px 1px 3px 1px rgba(60, 64, 67, 0.15);\n",
              "      fill: #174EA6;\n",
              "    }\n",
              "\n",
              "    [theme=dark] .colab-df-convert {\n",
              "      background-color: #3B4455;\n",
              "      fill: #D2E3FC;\n",
              "    }\n",
              "\n",
              "    [theme=dark] .colab-df-convert:hover {\n",
              "      background-color: #434B5C;\n",
              "      box-shadow: 0px 1px 3px 1px rgba(0, 0, 0, 0.15);\n",
              "      filter: drop-shadow(0px 1px 2px rgba(0, 0, 0, 0.3));\n",
              "      fill: #FFFFFF;\n",
              "    }\n",
              "  </style>\n",
              "\n",
              "      <script>\n",
              "        const buttonEl =\n",
              "          document.querySelector('#df-4f999869-998c-427c-b307-6a835e644716 button.colab-df-convert');\n",
              "        buttonEl.style.display =\n",
              "          google.colab.kernel.accessAllowed ? 'block' : 'none';\n",
              "\n",
              "        async function convertToInteractive(key) {\n",
              "          const element = document.querySelector('#df-4f999869-998c-427c-b307-6a835e644716');\n",
              "          const dataTable =\n",
              "            await google.colab.kernel.invokeFunction('convertToInteractive',\n",
              "                                                     [key], {});\n",
              "          if (!dataTable) return;\n",
              "\n",
              "          const docLinkHtml = 'Like what you see? Visit the ' +\n",
              "            '<a target=\"_blank\" href=https://colab.research.google.com/notebooks/data_table.ipynb>data table notebook</a>'\n",
              "            + ' to learn more about interactive tables.';\n",
              "          element.innerHTML = '';\n",
              "          dataTable['output_type'] = 'display_data';\n",
              "          await google.colab.output.renderOutput(dataTable, element);\n",
              "          const docLink = document.createElement('div');\n",
              "          docLink.innerHTML = docLinkHtml;\n",
              "          element.appendChild(docLink);\n",
              "        }\n",
              "      </script>\n",
              "    </div>\n",
              "  </div>\n",
              "  "
            ]
          },
          "metadata": {},
          "execution_count": 18
        }
      ]
    },
    {
      "cell_type": "code",
      "source": [
        "unique = np.unique(df['label'])\n",
        "print(unique)\n",
        "boolean_labels = [label == unique for label in df['label']]\n",
        "boolean_labels[:2]"
      ],
      "metadata": {
        "colab": {
          "base_uri": "https://localhost:8080/"
        },
        "id": "XdCFCabssfW5",
        "outputId": "5194f699-e00e-4952-8c81-9fa3bc216d47"
      },
      "execution_count": null,
      "outputs": [
        {
          "output_type": "stream",
          "name": "stdout",
          "text": [
            "[0 1 2 3]\n"
          ]
        },
        {
          "output_type": "execute_result",
          "data": {
            "text/plain": [
              "[array([ True, False, False, False]), array([ True, False, False, False])]"
            ]
          },
          "metadata": {},
          "execution_count": 19
        }
      ]
    },
    {
      "cell_type": "code",
      "source": [],
      "metadata": {
        "id": "E6QsdSJMsfan"
      },
      "execution_count": null,
      "outputs": []
    },
    {
      "cell_type": "code",
      "source": [
        "X = df['address']\n",
        "y = boolean_labels"
      ],
      "metadata": {
        "id": "Z-lWszVRsfd5"
      },
      "execution_count": null,
      "outputs": []
    },
    {
      "cell_type": "code",
      "source": [
        "NUM_IMAGES = len(df)"
      ],
      "metadata": {
        "id": "na0NyRt6sfhG"
      },
      "execution_count": null,
      "outputs": []
    },
    {
      "cell_type": "code",
      "source": [
        "from sklearn.model_selection import train_test_split\n",
        "\n",
        "X_train,X_test,y_train,y_test = train_test_split(X[:NUM_IMAGES],\n",
        "                                                 y[:NUM_IMAGES],\n",
        "                                                 test_size = 0.20,\n",
        "                                                 random_state =42,\n",
        "                                                 shuffle =True,\n",
        "                                                 stratify = y[:NUM_IMAGES])"
      ],
      "metadata": {
        "id": "yX-GMD5Wsfkb"
      },
      "execution_count": null,
      "outputs": []
    },
    {
      "cell_type": "code",
      "source": [
        "X_train,X_val,y_train,y_val = train_test_split(X_train,y_train,test_size = 0.20,random_state = 42)"
      ],
      "metadata": {
        "id": "XsWkTue4sfoE"
      },
      "execution_count": null,
      "outputs": []
    },
    {
      "cell_type": "code",
      "source": [
        "len(X_train), len(X_val), len(X_test)"
      ],
      "metadata": {
        "colab": {
          "base_uri": "https://localhost:8080/"
        },
        "id": "K7TskbYpsfrZ",
        "outputId": "ef1bd5cc-bcb9-48e1-bd64-23e23915297b"
      },
      "execution_count": null,
      "outputs": [
        {
          "output_type": "execute_result",
          "data": {
            "text/plain": [
              "(2698, 675, 844)"
            ]
          },
          "metadata": {},
          "execution_count": 24
        }
      ]
    },
    {
      "cell_type": "code",
      "source": [],
      "metadata": {
        "id": "-dMW-k6ksfus"
      },
      "execution_count": null,
      "outputs": []
    },
    {
      "cell_type": "code",
      "source": [
        "img_size = 224\n",
        "def process_images(image_path, img_size = img_size):\n",
        "\n",
        "  img = tf.io.read_file(image_path)\n",
        "  img = tf.image.decode_jpeg(img, channels = 3)\n",
        "  img = tf.image.convert_image_dtype(img,tf.float32)\n",
        "  img = tf.image.resize(img, size = [img_size,img_size])\n",
        "\n",
        "  return img"
      ],
      "metadata": {
        "id": "14FKN3uRsfy5"
      },
      "execution_count": null,
      "outputs": []
    },
    {
      "cell_type": "code",
      "source": [
        "def get_image_label(image_path, label):\n",
        "  image = process_images(image_path)\n",
        "\n",
        "  return image,label"
      ],
      "metadata": {
        "id": "jnJmySIvsf2I"
      },
      "execution_count": null,
      "outputs": []
    },
    {
      "cell_type": "code",
      "source": [
        "tf.data.Dataset.from_tensor_slices(tf.constant(X_test))"
      ],
      "metadata": {
        "colab": {
          "base_uri": "https://localhost:8080/"
        },
        "id": "-BVBEYobtPM8",
        "outputId": "c83a4341-2e57-4e4c-944a-ff2d0b4a0e00"
      },
      "execution_count": null,
      "outputs": [
        {
          "output_type": "execute_result",
          "data": {
            "text/plain": [
              "<TensorSliceDataset element_spec=TensorSpec(shape=(), dtype=tf.string, name=None)>"
            ]
          },
          "metadata": {},
          "execution_count": 27
        }
      ]
    },
    {
      "cell_type": "code",
      "source": [
        "\n",
        "batch_size = 16\n",
        "\n",
        "def create_data_batches(X,y=None,batch_size=batch_size,valid_data=False,test_data=False):\n",
        "  if test_data:\n",
        "    print('Creating test data batches....')\n",
        "    data = tf.data.Dataset.from_tensor_slices((tf.constant(X)))\n",
        "    data_batch = data.map(process_images).batch(batch_size)\n",
        "    return data_batch\n",
        "\n",
        "  elif valid_data:\n",
        "    print('Creating valiation data batches....')\n",
        "    data = tf.data.Dataset.from_tensor_slices((tf.constant(X),tf.constant(y)))\n",
        "    data_batch = data.map(get_image_label).batch(batch_size)\n",
        "    return data_batch\n",
        "\n",
        "  else:\n",
        "    print(\"Creating training data batches....\")\n",
        "    data = tf.data.Dataset.from_tensor_slices((tf.constant(X),tf.constant(y)))\n",
        "    data = data.shuffle(buffer_size = len(X))\n",
        "    data = data.map(get_image_label)\n",
        "    data_batch = data.batch(batch_size)\n",
        "  return data_batch"
      ],
      "metadata": {
        "id": "rJG3ma1ztPXE"
      },
      "execution_count": null,
      "outputs": []
    },
    {
      "cell_type": "code",
      "source": [
        "train_data = create_data_batches(X_train,y_train)\n",
        "val_data = create_data_batches(X_val,y_val,valid_data = True)"
      ],
      "metadata": {
        "colab": {
          "base_uri": "https://localhost:8080/"
        },
        "id": "Gq5khRcotPgp",
        "outputId": "7d9c32aa-c256-4b38-d230-7170d5efb4ea"
      },
      "execution_count": null,
      "outputs": [
        {
          "output_type": "stream",
          "name": "stdout",
          "text": [
            "Creating training data batches....\n",
            "Creating valiation data batches....\n"
          ]
        }
      ]
    },
    {
      "cell_type": "code",
      "source": [
        "test_data = create_data_batches(X_test,test_data = True)"
      ],
      "metadata": {
        "colab": {
          "base_uri": "https://localhost:8080/"
        },
        "id": "8TUJ4DkCtPtX",
        "outputId": "a4a2b33e-703d-4d47-cfb2-3e934239ee90"
      },
      "execution_count": null,
      "outputs": [
        {
          "output_type": "stream",
          "name": "stdout",
          "text": [
            "Creating test data batches....\n"
          ]
        }
      ]
    },
    {
      "cell_type": "code",
      "source": [
        "train_data.element_spec,val_data.element_spec,test_data.element_spec"
      ],
      "metadata": {
        "colab": {
          "base_uri": "https://localhost:8080/"
        },
        "id": "q36U8z8xtP3k",
        "outputId": "2a7c85bc-93d2-4172-add1-d0f6b75b697a"
      },
      "execution_count": null,
      "outputs": [
        {
          "output_type": "execute_result",
          "data": {
            "text/plain": [
              "((TensorSpec(shape=(None, 224, 224, 3), dtype=tf.float32, name=None),\n",
              "  TensorSpec(shape=(None, 4), dtype=tf.bool, name=None)),\n",
              " (TensorSpec(shape=(None, 224, 224, 3), dtype=tf.float32, name=None),\n",
              "  TensorSpec(shape=(None, 4), dtype=tf.bool, name=None)),\n",
              " TensorSpec(shape=(None, 224, 224, 3), dtype=tf.float32, name=None))"
            ]
          },
          "metadata": {},
          "execution_count": 31
        }
      ]
    },
    {
      "cell_type": "code",
      "source": [
        "train_data"
      ],
      "metadata": {
        "colab": {
          "base_uri": "https://localhost:8080/"
        },
        "id": "s7a9M1jvtoy9",
        "outputId": "e8212251-c544-4c47-92c6-dca6e05328f8"
      },
      "execution_count": null,
      "outputs": [
        {
          "output_type": "execute_result",
          "data": {
            "text/plain": [
              "<BatchDataset element_spec=(TensorSpec(shape=(None, 224, 224, 3), dtype=tf.float32, name=None), TensorSpec(shape=(None, 4), dtype=tf.bool, name=None))>"
            ]
          },
          "metadata": {},
          "execution_count": 32
        }
      ]
    },
    {
      "cell_type": "code",
      "source": [],
      "metadata": {
        "id": "oPVLjcewtpBf"
      },
      "execution_count": null,
      "outputs": []
    },
    {
      "cell_type": "code",
      "source": [
        "img_size = 224\n",
        "\n",
        "input_size = [None,img_size,img_size,3]\n",
        "\n",
        "output_size = len(unique)"
      ],
      "metadata": {
        "id": "7G2eVAoNtpEq"
      },
      "execution_count": null,
      "outputs": []
    },
    {
      "cell_type": "code",
      "source": [
        "# # Creating model:\n",
        "# model = Sequential()\n",
        "\n",
        "# # Convolutional layer:\n",
        "# model.add(Conv2D(input_shape = (224,224,3), activation = 'relu', filters = 32, kernel_size = (3,3), strides = (1,1), padding = 'same', kernel_initializer='he_normal'))\n",
        "\n",
        "# # BatchNormalization\n",
        "# model.add(BatchNormalization())\n",
        "\n",
        "# # MaxPooling layer:\n",
        "# model.add(MaxPooling2D(pool_size = (2,2)))\n",
        "\n",
        "# # Convolutional layer:\n",
        "# model.add(Conv2D(filters =128, activation = 'relu', kernel_size = (3,3), strides = (2,2), padding = 'same', kernel_initializer='he_normal'))\n",
        "\n",
        "# # BatchNormalization\n",
        "# model.add(BatchNormalization())\n",
        "\n",
        "# # MaxPooling layer:\n",
        "# model.add(MaxPooling2D(pool_size = (2,2)))\n",
        "# model.add(Dropout(0.5))\n",
        "# # Convolutional layer:\n",
        "# model.add(Conv2D(filters = 256, activation = 'relu', kernel_size = (3,3), strides = (1,1), padding = 'same', kernel_initializer='he_normal'))\n",
        "# # Convolutional layer:\n",
        "# model.add(Conv2D(filters = 256, activation = 'relu', kernel_size = (5,5), strides = (1,1), padding = 'same', kernel_initializer='he_normal'))\n",
        "\n",
        "# # MaxPooling layer:\n",
        "# model.add(MaxPooling2D(pool_size = (3,3)))\n",
        "\n",
        "# model.add(Conv2D(filters = 1024, activation = 'relu', kernel_size = (3,3), strides = (1,1), padding = 'same', kernel_initializer='he_normal'))\n",
        "\n",
        "# # MaxPooling layer:\n",
        "# model.add(MaxPooling2D(pool_size = (2,2)))\n",
        "\n",
        "# model.add(Conv2D(filters = 2048, activation = 'relu', kernel_size = (5,5), strides = (1,1), padding = 'same', kernel_initializer='he_normal'))\n",
        "\n",
        "# # MaxPooling layer:\n",
        "# model.add(MaxPooling2D(pool_size = (2,2)))\n",
        "\n",
        "# # Flatten layer:\n",
        "# model.add(Flatten())\n",
        "\n",
        "# # Dense layer:\n",
        "# model.add(Dense(512, activation = 'relu'))\n",
        "\n",
        "# # Dropout layer:\n",
        "\n",
        "\n",
        "# # Dense layer:\n",
        "# model.add(Dense(512, activation = 'relu'))\n",
        "\n",
        "# # Dropout layer:\n",
        "# model.add(Dropout(0.2))\n",
        "\n",
        "# # Dense layer:\n",
        "# model.add(Dense(128, activation = 'relu'))\n",
        "# model.add(Dense(128, activation = 'relu'))\n",
        "\n",
        "# # Dropout layer:\n",
        "# model.add(Dropout(0.3))\n",
        "\n",
        "# # Output layer:\n",
        "# model.add(Dense(4, activation = 'softmax'))"
      ],
      "metadata": {
        "id": "DkTJxVK5tpJp"
      },
      "execution_count": null,
      "outputs": []
    },
    {
      "cell_type": "code",
      "source": [
        "model = Sequential()\n",
        "model.add(Conv2D(input_shape = (224,224,3),filters = 16,kernel_size = (3,3),padding = 'same'))\n",
        "model.add(Conv2D(filters = 16,kernel_size= (3,3)))\n",
        "model.add(MaxPooling2D((2,2)))\n",
        "\n",
        "model.add(Conv2D(filters = 32,kernel_size = (3,3)))\n",
        "model.add(Conv2D(filters = 32,kernel_size= (3,3)))\n",
        "model.add(MaxPooling2D((2,2)))\n",
        "model.add(Dropout(0.25))\n",
        "\n",
        "\n",
        "model.add(Conv2D(filters =64,kernel_size = (3,3)))\n",
        "model.add(Conv2D(filters = 64,kernel_size= (3,3)))\n",
        "model.add(MaxPooling2D((2,2)))\n",
        "\n",
        "model.add(Conv2D(filters = 128,kernel_size = (3,3)))\n",
        "model.add(Conv2D(filters = 128,kernel_size= (3,3)))\n",
        "model.add(MaxPooling2D((2,2)))\n",
        "\n",
        "\n",
        "model.add(Conv2D(filters = 256,kernel_size = (3,3)))\n",
        "model.add(Conv2D(filters = 256,kernel_size= (3,3)))\n",
        "model.add(MaxPooling2D((2,2)))\n",
        "\n",
        "model.add(Conv2D(filters = 256,kernel_size = (3,3)))\n",
        "\n",
        "\n",
        "model.add(Flatten())\n",
        "model.add(Dense(128,activation = 'relu'))\n",
        "model.add(Dropout(0.3))\n",
        "model.add(Dense(64,activation = 'relu'))\n",
        "model.add(Dense(64,activation = 'relu'))\n",
        "\n",
        "model.add(Dense(4,activation = 'softmax'))"
      ],
      "metadata": {
        "id": "Vof3gEM_MfMS"
      },
      "execution_count": null,
      "outputs": []
    },
    {
      "cell_type": "code",
      "source": [
        "# model summary:\n",
        "model.summary()"
      ],
      "metadata": {
        "colab": {
          "base_uri": "https://localhost:8080/"
        },
        "id": "_-056mnI33DN",
        "outputId": "c73ae82a-4abf-4683-fb2e-958bc7db34c3"
      },
      "execution_count": null,
      "outputs": [
        {
          "output_type": "stream",
          "name": "stdout",
          "text": [
            "Model: \"sequential_2\"\n",
            "_________________________________________________________________\n",
            " Layer (type)                Output Shape              Param #   \n",
            "=================================================================\n",
            " conv2d_17 (Conv2D)          (None, 224, 224, 16)      448       \n",
            "                                                                 \n",
            " conv2d_18 (Conv2D)          (None, 222, 222, 16)      2320      \n",
            "                                                                 \n",
            " max_pooling2d_10 (MaxPoolin  (None, 111, 111, 16)     0         \n",
            " g2D)                                                            \n",
            "                                                                 \n",
            " conv2d_19 (Conv2D)          (None, 109, 109, 32)      4640      \n",
            "                                                                 \n",
            " conv2d_20 (Conv2D)          (None, 107, 107, 32)      9248      \n",
            "                                                                 \n",
            " max_pooling2d_11 (MaxPoolin  (None, 53, 53, 32)       0         \n",
            " g2D)                                                            \n",
            "                                                                 \n",
            " dropout_5 (Dropout)         (None, 53, 53, 32)        0         \n",
            "                                                                 \n",
            " conv2d_21 (Conv2D)          (None, 51, 51, 64)        18496     \n",
            "                                                                 \n",
            " conv2d_22 (Conv2D)          (None, 49, 49, 64)        36928     \n",
            "                                                                 \n",
            " max_pooling2d_12 (MaxPoolin  (None, 24, 24, 64)       0         \n",
            " g2D)                                                            \n",
            "                                                                 \n",
            " conv2d_23 (Conv2D)          (None, 22, 22, 128)       73856     \n",
            "                                                                 \n",
            " conv2d_24 (Conv2D)          (None, 20, 20, 128)       147584    \n",
            "                                                                 \n",
            " max_pooling2d_13 (MaxPoolin  (None, 10, 10, 128)      0         \n",
            " g2D)                                                            \n",
            "                                                                 \n",
            " conv2d_25 (Conv2D)          (None, 8, 8, 256)         295168    \n",
            "                                                                 \n",
            " conv2d_26 (Conv2D)          (None, 6, 6, 256)         590080    \n",
            "                                                                 \n",
            " max_pooling2d_14 (MaxPoolin  (None, 3, 3, 256)        0         \n",
            " g2D)                                                            \n",
            "                                                                 \n",
            " conv2d_27 (Conv2D)          (None, 1, 1, 256)         590080    \n",
            "                                                                 \n",
            " flatten_2 (Flatten)         (None, 256)               0         \n",
            "                                                                 \n",
            " dense_9 (Dense)             (None, 128)               32896     \n",
            "                                                                 \n",
            " dropout_6 (Dropout)         (None, 128)               0         \n",
            "                                                                 \n",
            " dense_10 (Dense)            (None, 64)                8256      \n",
            "                                                                 \n",
            " dense_11 (Dense)            (None, 64)                4160      \n",
            "                                                                 \n",
            " dense_12 (Dense)            (None, 4)                 260       \n",
            "                                                                 \n",
            "=================================================================\n",
            "Total params: 1,814,420\n",
            "Trainable params: 1,814,420\n",
            "Non-trainable params: 0\n",
            "_________________________________________________________________\n"
          ]
        }
      ]
    },
    {
      "cell_type": "code",
      "source": [
        "# compile the model:\n",
        "model.compile(\n",
        "              optimizer = Adam(learning_rate = 0.0005),\n",
        "              loss = 'categorical_crossentropy',\n",
        "              metrics = ['accuracy']\n",
        "              )"
      ],
      "metadata": {
        "id": "fRDIANu133LQ"
      },
      "execution_count": null,
      "outputs": []
    },
    {
      "cell_type": "code",
      "source": [
        "# Used Early stopping to avoid overfitting\n",
        "callback = tf.keras.callbacks.EarlyStopping(\n",
        "                                            monitor='val_loss',\n",
        "                                            mode = 'min',\n",
        "                                            patience=3\n",
        "                                           )"
      ],
      "metadata": {
        "id": "ZVWKEhNFtpf0"
      },
      "execution_count": null,
      "outputs": []
    },
    {
      "cell_type": "code",
      "source": [
        "epoc =101 #@param {type:\"slider\", min:20,max:1000}"
      ],
      "metadata": {
        "id": "U9DSKLcnw9hA"
      },
      "execution_count": null,
      "outputs": []
    },
    {
      "cell_type": "code",
      "source": [
        "history = model.fit(x=train_data,\n",
        "            epochs = epoc,\n",
        "            validation_data = val_data,\n",
        "            validation_freq = 1,\n",
        "            callbacks = [callback])"
      ],
      "metadata": {
        "colab": {
          "base_uri": "https://localhost:8080/"
        },
        "id": "IN0-FePivMuh",
        "outputId": "51968fd7-3bfe-457b-eea4-db648bd4e1cc"
      },
      "execution_count": null,
      "outputs": [
        {
          "output_type": "stream",
          "name": "stdout",
          "text": [
            "Epoch 1/101\n",
            "169/169 [==============================] - 30s 144ms/step - loss: 1.3769 - accuracy: 0.3013 - val_loss: 1.4621 - val_accuracy: 0.2904\n",
            "Epoch 2/101\n",
            "169/169 [==============================] - 24s 142ms/step - loss: 1.3827 - accuracy: 0.2921 - val_loss: 1.3361 - val_accuracy: 0.3037\n",
            "Epoch 3/101\n",
            "169/169 [==============================] - 25s 148ms/step - loss: 1.3779 - accuracy: 0.2984 - val_loss: 1.3378 - val_accuracy: 0.3185\n",
            "Epoch 4/101\n",
            "169/169 [==============================] - 25s 148ms/step - loss: 1.2169 - accuracy: 0.4359 - val_loss: 0.9669 - val_accuracy: 0.5600\n",
            "Epoch 5/101\n",
            "169/169 [==============================] - 26s 153ms/step - loss: 0.8708 - accuracy: 0.6312 - val_loss: 0.6821 - val_accuracy: 0.7259\n",
            "Epoch 6/101\n",
            "169/169 [==============================] - 24s 139ms/step - loss: 0.6650 - accuracy: 0.7309 - val_loss: 0.5290 - val_accuracy: 0.7822\n",
            "Epoch 7/101\n",
            "169/169 [==============================] - 26s 155ms/step - loss: 0.5420 - accuracy: 0.7691 - val_loss: 0.5068 - val_accuracy: 0.7852\n",
            "Epoch 8/101\n",
            "169/169 [==============================] - 24s 141ms/step - loss: 0.4999 - accuracy: 0.7958 - val_loss: 0.5001 - val_accuracy: 0.8059\n",
            "Epoch 9/101\n",
            "169/169 [==============================] - 29s 171ms/step - loss: 0.4295 - accuracy: 0.8277 - val_loss: 0.7450 - val_accuracy: 0.7778\n",
            "Epoch 10/101\n",
            "169/169 [==============================] - 23s 138ms/step - loss: 0.4593 - accuracy: 0.8128 - val_loss: 0.5190 - val_accuracy: 0.8148\n",
            "Epoch 11/101\n",
            "169/169 [==============================] - 24s 142ms/step - loss: 0.3866 - accuracy: 0.8510 - val_loss: 0.5010 - val_accuracy: 0.8148\n"
          ]
        }
      ]
    },
    {
      "cell_type": "code",
      "source": [
        "model.save('/content/model/eyeCNN.h5')"
      ],
      "metadata": {
        "id": "v0d8353CvNH1"
      },
      "execution_count": null,
      "outputs": []
    },
    {
      "cell_type": "code",
      "source": [
        "model = tf.keras.models.load_model('/content/model/efficientnet.h5',custom_objects={'KerasLayer': hub.KerasLayer})"
      ],
      "metadata": {
        "id": "PXNl98yBvNRc"
      },
      "execution_count": null,
      "outputs": []
    },
    {
      "cell_type": "code",
      "source": [
        "y_preds = model.predict(test_data,verbose = 1)"
      ],
      "metadata": {
        "id": "KqHSSR2XvNdM",
        "colab": {
          "base_uri": "https://localhost:8080/"
        },
        "outputId": "105ff36e-5435-45df-c91f-a90d5b54418e"
      },
      "execution_count": null,
      "outputs": [
        {
          "output_type": "stream",
          "name": "stdout",
          "text": [
            "53/53 [==============================] - 32s 119ms/step\n"
          ]
        }
      ]
    },
    {
      "cell_type": "code",
      "source": [
        "def get_pred_label(prediction_probabilities):\n",
        "  \"\"\"\n",
        "   Turns an array of prediction probabilities into a label.\n",
        "  \"\"\"\n",
        "  return unique[np.argmax(prediction_probabilities)]"
      ],
      "metadata": {
        "id": "QqLCN_mHxdwv"
      },
      "execution_count": null,
      "outputs": []
    },
    {
      "cell_type": "code",
      "source": [
        "custom_pred_labels = [get_pred_label(y_preds[i]) for i in range(len(y_preds))]"
      ],
      "metadata": {
        "id": "B5SpOUyGxd3D"
      },
      "execution_count": null,
      "outputs": []
    },
    {
      "cell_type": "code",
      "source": [
        "custom_test = [get_pred_label(y_test[i]) for i in range(len(y_test))]"
      ],
      "metadata": {
        "id": "n82AOKlIxd-l"
      },
      "execution_count": null,
      "outputs": []
    },
    {
      "cell_type": "code",
      "source": [
        "from sklearn.metrics import accuracy_score, precision_score, recall_score, confusion_matrix,classification_report"
      ],
      "metadata": {
        "id": "GjZTxRZJxeDQ"
      },
      "execution_count": null,
      "outputs": []
    },
    {
      "cell_type": "code",
      "source": [
        "confusion_matrix(custom_test, custom_pred_labels)"
      ],
      "metadata": {
        "id": "sLtndYwOxeHg",
        "colab": {
          "base_uri": "https://localhost:8080/"
        },
        "outputId": "fa864796-aefa-4e04-82a0-38e9ea98b6c5"
      },
      "execution_count": null,
      "outputs": [
        {
          "output_type": "execute_result",
          "data": {
            "text/plain": [
              "array([[182,  11,   4,  18],\n",
              "       [  6, 165,   0,  37],\n",
              "       [  0,   0, 220,   0],\n",
              "       [ 53,  16,   3, 129]])"
            ]
          },
          "metadata": {},
          "execution_count": 61
        }
      ]
    },
    {
      "cell_type": "code",
      "source": [],
      "metadata": {
        "id": "-zSS4JATxeLl"
      },
      "execution_count": null,
      "outputs": []
    },
    {
      "cell_type": "code",
      "source": [
        "print(accuracy_score(custom_test,custom_pred_labels))\n",
        "print(precision_score(custom_test,custom_pred_labels,average = None))\n",
        "print(recall_score(custom_test,custom_pred_labels, average = None))"
      ],
      "metadata": {
        "id": "m--_klTryoCM",
        "colab": {
          "base_uri": "https://localhost:8080/"
        },
        "outputId": "565d1233-a646-4c15-c1c2-585cc50bf71a"
      },
      "execution_count": null,
      "outputs": [
        {
          "output_type": "stream",
          "name": "stdout",
          "text": [
            "0.8246445497630331\n",
            "[0.75518672 0.859375   0.969163   0.70108696]\n",
            "[0.84651163 0.79326923 1.         0.64179104]\n"
          ]
        }
      ]
    }
  ]
}