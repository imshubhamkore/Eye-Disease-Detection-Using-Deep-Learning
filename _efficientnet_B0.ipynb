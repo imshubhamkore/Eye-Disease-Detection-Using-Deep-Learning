{
  "nbformat": 4,
  "nbformat_minor": 0,
  "metadata": {
    "colab": {
      "provenance": [],
      "include_colab_link": true
    },
    "kernelspec": {
      "name": "python3",
      "display_name": "Python 3"
    },
    "language_info": {
      "name": "python"
    },
    "gpuClass": "standard",
    "accelerator": "GPU"
  },
  "cells": [
    {
      "cell_type": "markdown",
      "metadata": {
        "id": "view-in-github",
        "colab_type": "text"
      },
      "source": [
        "<a href=\"https://colab.research.google.com/github/imshubhamkore/Eye-Disease-Detection-Using-Deep-Learning/blob/main/_efficientnet_B0.ipynb\" target=\"_parent\"><img src=\"https://colab.research.google.com/assets/colab-badge.svg\" alt=\"Open In Colab\"/></a>"
      ]
    },
    {
      "cell_type": "code",
      "source": [
        "#Installing the Kaggle API client library through pip"
      ],
      "metadata": {
        "id": "aeujE_j5ViGd"
      },
      "execution_count": null,
      "outputs": []
    },
    {
      "cell_type": "code",
      "execution_count": null,
      "metadata": {
        "id": "H9PL7Sps9UUw"
      },
      "outputs": [],
      "source": [
        " !pip install -q kaggle\n",
        " from google.colab import files"
      ]
    },
    {
      "cell_type": "code",
      "source": [
        "files.upload()  #for uploading the files"
      ],
      "metadata": {
        "colab": {
          "base_uri": "https://localhost:8080/",
          "height": 90
        },
        "id": "3TAMD2DYAPF8",
        "outputId": "497bbae1-d7fd-4880-d1e2-e6222e0252bb"
      },
      "execution_count": null,
      "outputs": [
        {
          "output_type": "display_data",
          "data": {
            "text/plain": [
              "<IPython.core.display.HTML object>"
            ],
            "text/html": [
              "\n",
              "     <input type=\"file\" id=\"files-63733332-4073-48bd-93d2-92e50138eba9\" name=\"files[]\" multiple disabled\n",
              "        style=\"border:none\" />\n",
              "     <output id=\"result-63733332-4073-48bd-93d2-92e50138eba9\">\n",
              "      Upload widget is only available when the cell has been executed in the\n",
              "      current browser session. Please rerun this cell to enable.\n",
              "      </output>\n",
              "      <script>// Copyright 2017 Google LLC\n",
              "//\n",
              "// Licensed under the Apache License, Version 2.0 (the \"License\");\n",
              "// you may not use this file except in compliance with the License.\n",
              "// You may obtain a copy of the License at\n",
              "//\n",
              "//      http://www.apache.org/licenses/LICENSE-2.0\n",
              "//\n",
              "// Unless required by applicable law or agreed to in writing, software\n",
              "// distributed under the License is distributed on an \"AS IS\" BASIS,\n",
              "// WITHOUT WARRANTIES OR CONDITIONS OF ANY KIND, either express or implied.\n",
              "// See the License for the specific language governing permissions and\n",
              "// limitations under the License.\n",
              "\n",
              "/**\n",
              " * @fileoverview Helpers for google.colab Python module.\n",
              " */\n",
              "(function(scope) {\n",
              "function span(text, styleAttributes = {}) {\n",
              "  const element = document.createElement('span');\n",
              "  element.textContent = text;\n",
              "  for (const key of Object.keys(styleAttributes)) {\n",
              "    element.style[key] = styleAttributes[key];\n",
              "  }\n",
              "  return element;\n",
              "}\n",
              "\n",
              "// Max number of bytes which will be uploaded at a time.\n",
              "const MAX_PAYLOAD_SIZE = 100 * 1024;\n",
              "\n",
              "function _uploadFiles(inputId, outputId) {\n",
              "  const steps = uploadFilesStep(inputId, outputId);\n",
              "  const outputElement = document.getElementById(outputId);\n",
              "  // Cache steps on the outputElement to make it available for the next call\n",
              "  // to uploadFilesContinue from Python.\n",
              "  outputElement.steps = steps;\n",
              "\n",
              "  return _uploadFilesContinue(outputId);\n",
              "}\n",
              "\n",
              "// This is roughly an async generator (not supported in the browser yet),\n",
              "// where there are multiple asynchronous steps and the Python side is going\n",
              "// to poll for completion of each step.\n",
              "// This uses a Promise to block the python side on completion of each step,\n",
              "// then passes the result of the previous step as the input to the next step.\n",
              "function _uploadFilesContinue(outputId) {\n",
              "  const outputElement = document.getElementById(outputId);\n",
              "  const steps = outputElement.steps;\n",
              "\n",
              "  const next = steps.next(outputElement.lastPromiseValue);\n",
              "  return Promise.resolve(next.value.promise).then((value) => {\n",
              "    // Cache the last promise value to make it available to the next\n",
              "    // step of the generator.\n",
              "    outputElement.lastPromiseValue = value;\n",
              "    return next.value.response;\n",
              "  });\n",
              "}\n",
              "\n",
              "/**\n",
              " * Generator function which is called between each async step of the upload\n",
              " * process.\n",
              " * @param {string} inputId Element ID of the input file picker element.\n",
              " * @param {string} outputId Element ID of the output display.\n",
              " * @return {!Iterable<!Object>} Iterable of next steps.\n",
              " */\n",
              "function* uploadFilesStep(inputId, outputId) {\n",
              "  const inputElement = document.getElementById(inputId);\n",
              "  inputElement.disabled = false;\n",
              "\n",
              "  const outputElement = document.getElementById(outputId);\n",
              "  outputElement.innerHTML = '';\n",
              "\n",
              "  const pickedPromise = new Promise((resolve) => {\n",
              "    inputElement.addEventListener('change', (e) => {\n",
              "      resolve(e.target.files);\n",
              "    });\n",
              "  });\n",
              "\n",
              "  const cancel = document.createElement('button');\n",
              "  inputElement.parentElement.appendChild(cancel);\n",
              "  cancel.textContent = 'Cancel upload';\n",
              "  const cancelPromise = new Promise((resolve) => {\n",
              "    cancel.onclick = () => {\n",
              "      resolve(null);\n",
              "    };\n",
              "  });\n",
              "\n",
              "  // Wait for the user to pick the files.\n",
              "  const files = yield {\n",
              "    promise: Promise.race([pickedPromise, cancelPromise]),\n",
              "    response: {\n",
              "      action: 'starting',\n",
              "    }\n",
              "  };\n",
              "\n",
              "  cancel.remove();\n",
              "\n",
              "  // Disable the input element since further picks are not allowed.\n",
              "  inputElement.disabled = true;\n",
              "\n",
              "  if (!files) {\n",
              "    return {\n",
              "      response: {\n",
              "        action: 'complete',\n",
              "      }\n",
              "    };\n",
              "  }\n",
              "\n",
              "  for (const file of files) {\n",
              "    const li = document.createElement('li');\n",
              "    li.append(span(file.name, {fontWeight: 'bold'}));\n",
              "    li.append(span(\n",
              "        `(${file.type || 'n/a'}) - ${file.size} bytes, ` +\n",
              "        `last modified: ${\n",
              "            file.lastModifiedDate ? file.lastModifiedDate.toLocaleDateString() :\n",
              "                                    'n/a'} - `));\n",
              "    const percent = span('0% done');\n",
              "    li.appendChild(percent);\n",
              "\n",
              "    outputElement.appendChild(li);\n",
              "\n",
              "    const fileDataPromise = new Promise((resolve) => {\n",
              "      const reader = new FileReader();\n",
              "      reader.onload = (e) => {\n",
              "        resolve(e.target.result);\n",
              "      };\n",
              "      reader.readAsArrayBuffer(file);\n",
              "    });\n",
              "    // Wait for the data to be ready.\n",
              "    let fileData = yield {\n",
              "      promise: fileDataPromise,\n",
              "      response: {\n",
              "        action: 'continue',\n",
              "      }\n",
              "    };\n",
              "\n",
              "    // Use a chunked sending to avoid message size limits. See b/62115660.\n",
              "    let position = 0;\n",
              "    do {\n",
              "      const length = Math.min(fileData.byteLength - position, MAX_PAYLOAD_SIZE);\n",
              "      const chunk = new Uint8Array(fileData, position, length);\n",
              "      position += length;\n",
              "\n",
              "      const base64 = btoa(String.fromCharCode.apply(null, chunk));\n",
              "      yield {\n",
              "        response: {\n",
              "          action: 'append',\n",
              "          file: file.name,\n",
              "          data: base64,\n",
              "        },\n",
              "      };\n",
              "\n",
              "      let percentDone = fileData.byteLength === 0 ?\n",
              "          100 :\n",
              "          Math.round((position / fileData.byteLength) * 100);\n",
              "      percent.textContent = `${percentDone}% done`;\n",
              "\n",
              "    } while (position < fileData.byteLength);\n",
              "  }\n",
              "\n",
              "  // All done.\n",
              "  yield {\n",
              "    response: {\n",
              "      action: 'complete',\n",
              "    }\n",
              "  };\n",
              "}\n",
              "\n",
              "scope.google = scope.google || {};\n",
              "scope.google.colab = scope.google.colab || {};\n",
              "scope.google.colab._files = {\n",
              "  _uploadFiles,\n",
              "  _uploadFilesContinue,\n",
              "};\n",
              "})(self);\n",
              "</script> "
            ]
          },
          "metadata": {}
        },
        {
          "output_type": "stream",
          "name": "stdout",
          "text": [
            "Saving kaggle.json to kaggle.json\n"
          ]
        },
        {
          "output_type": "execute_result",
          "data": {
            "text/plain": [
              "{'kaggle.json': b'{\"username\":\"shubhamkore18\",\"key\":\"66870e24edeb6d1ac5e52320395f36d4\"}'}"
            ]
          },
          "metadata": {},
          "execution_count": 2
        }
      ]
    },
    {
      "cell_type": "code",
      "source": [
        "! mkdir ~/.kaggle"
      ],
      "metadata": {
        "id": "pJ06GumtASQm"
      },
      "execution_count": null,
      "outputs": []
    },
    {
      "cell_type": "code",
      "source": [
        "! cp kaggle.json ~/.kaggle/"
      ],
      "metadata": {
        "id": "HGGlaauGASTx"
      },
      "execution_count": null,
      "outputs": []
    },
    {
      "cell_type": "code",
      "source": [
        "! chmod 600 ~/.kaggle/kaggle.json"
      ],
      "metadata": {
        "id": "PxG7p7YnASXF"
      },
      "execution_count": null,
      "outputs": []
    },
    {
      "cell_type": "code",
      "source": [
        "! kaggle datasets list    #to list the datasets in kaggle"
      ],
      "metadata": {
        "id": "Nn7_yTVLASaH",
        "colab": {
          "base_uri": "https://localhost:8080/"
        },
        "outputId": "276c4227-29b3-4e7d-e278-bd71b7348735"
      },
      "execution_count": null,
      "outputs": [
        {
          "output_type": "stream",
          "name": "stdout",
          "text": [
            "ref                                                      title                                     size  lastUpdated          downloadCount  voteCount  usabilityRating  \n",
            "-------------------------------------------------------  ---------------------------------------  -----  -------------------  -------------  ---------  ---------------  \n",
            "themrityunjaypathak/covid-cases-and-deaths-worldwide     Covid Cases and Deaths WorldWide           8KB  2023-02-01 12:22:51          11536        382  1.0              \n",
            "naveenkumar20bps1137/walmart-sales-analysis              WALMART SALES ANALYSIS                   119KB  2023-03-03 18:02:11           1919         53  0.9411765        \n",
            "datascientistanna/customers-dataset                      Shop Customer Data                        23KB  2023-02-07 18:42:21           9940        226  1.0              \n",
            "ulrikthygepedersen/co2-emissions-by-country              CO2 Emissions                            114KB  2023-02-28 12:39:49            913         29  1.0              \n",
            "amaanansari09/most-streamed-songs-all-time               Most Streamed Songs (All Time)             8KB  2023-03-08 10:56:24           1004         31  1.0              \n",
            "ulrikthygepedersen/populations                           Populations                              124KB  2023-02-28 12:43:44            636         26  1.0              \n",
            "thedevastator/airbnb-prices-in-european-cities           Airbnb Prices in European Cities           4MB  2023-02-20 09:48:04           3459         69  1.0              \n",
            "rkiattisak/student-performance-in-mathematics            Student performance prediction             9KB  2023-03-12 04:32:56            870         30  0.8235294        \n",
            "sunayanagawde/countrywise-covid-cases                    Countrywise COVID cases                    4KB  2023-02-23 15:07:35            977         24  1.0              \n",
            "amaanansari09/top-100-songs                              Top 100 songs                              6KB  2023-03-12 10:06:03           2968         90  1.0              \n",
            "rkiattisak/mobile-phone-price                            Mobile Phone Price                         5KB  2023-03-09 04:15:24            723         27  1.0              \n",
            "iabdulw/co2-emissions-uk                                 CO2 Emissions UK                          935B  2023-03-09 01:02:40            262         22  1.0              \n",
            "justin2028/unemployment-in-america-per-us-state          Unemployment in America, Per US State    826KB  2023-03-02 07:26:03           1014         48  1.0              \n",
            "cdeotte/census-data-for-godaddy                          Census Data for GoDaddy                   14MB  2023-02-21 07:59:53            968        125  0.47058824       \n",
            "rajugc/imdb-top-250-movies-dataset                       IMDB Top 250 Movies Dataset               52KB  2023-02-11 16:02:01           3953         88  1.0              \n",
            "shrikrishnaparab/forbes-billionaires-and-companies-2022  Forbes Billionaires and Companies 2022   735KB  2023-02-17 06:15:43           1214         27  1.0              \n",
            "karkavelrajaj/amazon-sales-dataset                       Amazon Sales Dataset                       2MB  2023-01-17 06:21:15          11863        173  1.0              \n",
            "warcoder/earthquake-dataset                              Earthquake dataset                        35KB  2023-02-26 09:59:04           1158         36  1.0              \n",
            "rkiattisak/salaly-prediction-for-beginer                 Salary Prediction dataset                  3KB  2023-03-07 02:45:11            663         30  1.0              \n",
            "anas123siddiqui/mobiles                                  Mobiles                                   59KB  2023-02-18 16:37:24           1680         48  1.0              \n"
          ]
        }
      ]
    },
    {
      "cell_type": "code",
      "source": [
        "#!kaggle datasets download -d gunavenkatdoddi/eye-diseases-classification\n",
        "  #download the required dataset\n",
        "!kaggle datasets download -d gunavenkatdoddi/eye-diseases-classification"
      ],
      "metadata": {
        "colab": {
          "base_uri": "https://localhost:8080/"
        },
        "id": "AOZtoYENASdn",
        "outputId": "4d95ed28-ade7-4311-f924-4670144ef25a"
      },
      "execution_count": null,
      "outputs": [
        {
          "output_type": "stream",
          "name": "stdout",
          "text": [
            "Downloading eye-diseases-classification.zip to /content\n",
            " 97% 714M/736M [00:05<00:00, 113MB/s]\n",
            "100% 736M/736M [00:05<00:00, 135MB/s]\n"
          ]
        }
      ]
    },
    {
      "cell_type": "code",
      "source": [
        "#Commands are used to extract the downloaded dataset archive file\n",
        "\n",
        "import zipfile\n",
        "zip_ref=zipfile.ZipFile('/content/eye-diseases-classification.zip','r')\n",
        "zip_ref.extractall('/content')\n",
        "zip_ref.close()"
      ],
      "metadata": {
        "id": "-yrYD_tnASg2"
      },
      "execution_count": null,
      "outputs": []
    },
    {
      "cell_type": "code",
      "source": [],
      "metadata": {
        "id": "eEvBlm6_ASkB"
      },
      "execution_count": null,
      "outputs": []
    },
    {
      "cell_type": "code",
      "source": [
        "#importing required libraries\n",
        "\n",
        "\n",
        "import pandas as pd\n",
        "import matplotlib.pyplot as plt\n",
        "import numpy as np\n",
        "import scipy as sc\n",
        "import tensorflow as tf\n",
        "%matplotlib inline"
      ],
      "metadata": {
        "id": "BHvMGgOTASnk"
      },
      "execution_count": null,
      "outputs": []
    },
    {
      "cell_type": "code",
      "source": [
        "import tensorflow_hub as hub\n",
        "import os"
      ],
      "metadata": {
        "id": "K-J7zjhVASql"
      },
      "execution_count": null,
      "outputs": []
    },
    {
      "cell_type": "code",
      "source": [
        "# To create a list of image file paths and their corresponding labels based on the directory structure of the \"dataset\" folder.\n",
        "\n",
        "path = '/content/dataset'\n",
        "address = []\n",
        "l1 = os.listdir(path)\n",
        "print(l1)\n",
        "for i in l1:\n",
        "  l2 = os.listdir(path +'/'+ i)\n",
        "  print(l2)\n",
        "  for n in l2:\n",
        "    address.append([path+'/'+i+'/'+n,i])"
      ],
      "metadata": {
        "colab": {
          "base_uri": "https://localhost:8080/"
        },
        "id": "By57JSX4ASt4",
        "outputId": "9c50acac-8837-431f-8b63-b90076e10082"
      },
      "execution_count": null,
      "outputs": [
        {
          "output_type": "stream",
          "name": "stdout",
          "text": [
            "['glaucoma', 'diabetic_retinopathy', 'normal', 'cataract']\n",
            "['1412_right.jpg', '1414_left.jpg', '1217_left.jpg', '_123_6574789.jpg', '_184_7806010.jpg', '_107_7535300.jpg', '_8_5210275.jpg', '_376_8893491.jpg', '1496_right.jpg', '_296_3140840.jpg', '_2_8820241.jpg', 'Glaucoma_025.png', '_271_3328342.jpg', '_72_3474284.jpg', 'Glaucoma_067.png', '1495_right.jpg', '_264_8423794.jpg', '1458_right.jpg', '_255_4450651.jpg', '_77_7357873.jpg', '_314_8127541.jpg', '_398_8823411.jpg', '1431_right.jpg', '1237_left.jpg', 'Glaucoma_081.png', '_389_5976725.jpg', '_316_4359949.jpg', '_185_1242583.jpg', '_28_7928893.jpg', '_207_6246518.jpg', '_372_153571.jpg', '_31_1950556.jpg', '_83_9155730.jpg', '_320_5280427.jpg', '_383_5927182.jpg', '2006_left.jpg', '_254_5059705.jpg', '_251_5505179.jpg', 'Glaucoma_008.png', '1302_left.jpg', 'Glaucoma_091.png', '1423_left.jpg', '_318_9413163.jpg', '1374_left.jpg', '1277_right.jpg', '_289_9163087.jpg', 'Glaucoma_086.png', '_35_2680315.jpg', '1231_left.jpg', '_236_8014695.jpg', '_207_7240075.jpg', '_231_7452050.jpg', 'Glaucoma_056.png', '_224_5329904.jpg', '_189_1240865.jpg', '_177_7654905.jpg', '_186_3309365.jpg', '1365_left.jpg', '167_right.jpg', '_71_9012457.jpg', '_286_2346496.jpg', '_127_5473291.jpg', '1214_right.jpg', '_161_5855059.jpg', '_192_1534346.jpg', '_85_9846035.jpg', 'Glaucoma_041.png', '1986_left.jpg', '_165_6911194.jpg', '_330_6332138.jpg', '1215_left.jpg', '_303_8778566.jpg', 'Glaucoma_044.png', '_114_6608378.jpg', '2048_right.jpg', 'Glaucoma_021.png', '_243_95702.jpg', '1418_left.jpg', 'Glaucoma_060.png', '_395_9075896.jpg', '1465_right.jpg', '_300_7433746.jpg', '_277_6049716.jpg', '_183_3784240.jpg', '_155_1218981.jpg', '1420_right.jpg', '_113_8738972.jpg', '_333_8764431.jpg', '_107_1720806.jpg', '_21_1293428.jpg', '_45_3473696.jpg', '_25_9900235.jpg', '1277_left.jpg', '_341_3343251.jpg', '_46_2760814.jpg', '_229_5944044.jpg', '_324_1040139.jpg', '1352_right.jpg', '_317_5485211.jpg', 'Glaucoma_018.png', '_374_8172135.jpg', '1334_right.jpg', '1494_left.jpg', '_238_9493538.jpg', '_256_1230567.jpg', '1408_right.jpg', '1970_left.jpg', '1306_left.jpg', '_186_2505679.jpg', '1261_left.jpg', '_359_2481818.jpg', '_204_7650115.jpg', '_108_9870998.jpg', '_28_7296137.jpg', '_384_1145376.jpg', '_161_1354200.jpg', '_272_9782017.jpg', '_79_7226209.jpg', '1325_right.jpg', '_93_8742749.jpg', '_232_9030219.jpg', '1492_left.jpg', '_24_5854972.jpg', '1411_left.jpg', '_232_7378783.jpg', '_278_2942123.jpg', '_159_52965.jpg', '_304_2971672.jpg', '_34_836194.jpg', '1248_right.jpg', '_350_3536071.jpg', '_100_3108233.jpg', '_235_1365390.jpg', '1282_right.jpg', '_115_501708.jpg', 'Glaucoma_052.png', '_388_9965271.jpg', '_294_5527908.jpg', '1247_right.jpg', '_301_6075675.jpg', '_116_1943666.jpg', '_99_9780664.jpg', 'Glaucoma_023.png', '_285_2727990.jpg', '_316_6373643.jpg', '_92_2709771.jpg', '_110_8391204.jpg', 'Glaucoma_077.png', '_10_2555943.jpg', '1314_right.jpg', 'Glaucoma_022.png', '1351_right.jpg', '1377_right.jpg', '1259_right.jpg', 'Glaucoma_090.png', '_143_7392909.jpg', '_62_3878139.jpg', '2032_right.jpg', '_312_2571477.jpg', '1232_right.jpg', '_77_3641818.jpg', '_291_1967456.jpg', '_346_7643111.jpg', '1362_right.jpg', '_129_2098170.jpg', '1284_right.jpg', '_53_1457470.jpg', '_124_11722.jpg', '_185_7833633.jpg', '_363_2466087.jpg', 'Glaucoma_047.png', '_400_1780834.jpg', '1479_left.jpg', '1229_left.jpg', '1220_right.jpg', '_30_6734224.jpg', '1286_left.jpg', '_368_4106148.jpg', '1396_left.jpg', '_334_2912159.jpg', '_258_6391320.jpg', '1489_left.jpg', '1234_left.jpg', '1409_right.jpg', '746_left.jpg', '1389_right.jpg', '_264_1649776.jpg', '_67_4921455.jpg', '1302_right.jpg', '_97_139770.jpg', '_71_5256438.jpg', '_151_3685359.jpg', 'Glaucoma_094.png', '_213_4395697.jpg', '1470_right.jpg', '_263_9132183.jpg', '_278_5245975.jpg', '1881_left.jpg', '1458_left.jpg', '_239_5512637.jpg', '_310_4668441.jpg', '_220_7711405.jpg', '1216_right.jpg', '1406_left.jpg', '_252_4705064.jpg', 'Glaucoma_092.png', '_359_8939038.jpg', '_62_731940.jpg', '_134_3244278.jpg', '_95_5759614.jpg', '_347_1718283.jpg', '_340_6897424.jpg', '_405_2674974.jpg', '_301_8474971.jpg', '1429_left.jpg', '_32_6299808.jpg', '1436_right.jpg', 'Glaucoma_030.png', '1248_left.jpg', '1450_left.jpg', '1344_right.jpg', '_304_434670.jpg', 'Glaucoma_014.png', '_280_7239687.jpg', '1497_right.jpg', '_292_3590459.jpg', '_307_9597397.jpg', '1212_left.jpg', 'Glaucoma_004.png', '_214_6540926.jpg', '1218_right.jpg', '_165_3717126.jpg', '1397_left.jpg', '_369_4797724.jpg', '1272_right.jpg', '1247_left.jpg', '_179_5369827.jpg', '_103_1487378.jpg', '_378_1725232.jpg', '_174_2440424.jpg', '_223_2293487.jpg', 'Glaucoma_038.png', '_133_3238309.jpg', '_104_9271975.jpg', '_69_5362173.jpg', '1410_left.jpg', '_231_4877279.jpg', '_130_4811607.jpg', '_12_3840622.jpg', '1471_left.jpg', '_381_6602928.jpg', '_282_487789.jpg', '1213_left.jpg', '1230_right.jpg', '_187_6167645.jpg', '_343_3651262.jpg', '_68_7591745.jpg', '_19_7932720.jpg', '_250_1327645.jpg', '_353_9347543.jpg', '_44_8455804.jpg', 'Glaucoma_085.png', '_82_3719382.jpg', '1266_left.jpg', '_173_7165688.jpg', '_84_2885250.jpg', '365_left.jpg', '_395_3509756.jpg', '365_right.jpg', '1353_left.jpg', '_108_4678854.jpg', '1392_left.jpg', '_351_6945231.jpg', '_344_6025727.jpg', '_119_16937.jpg', '1469_left.jpg', '_354_7736360.jpg', 'Glaucoma_045.png', '1258_left.jpg', '_148_9432356.jpg', '_221_3079640.jpg', '_171_4736817.jpg', '1486_left.jpg', '_283_8286295.jpg', '625_left.jpg', '_397_9607497.jpg', '2030_left.jpg', 'Glaucoma_049.png', '_4_1717111.jpg', '1221_left.jpg', 'Glaucoma_016.png', '_225_247208.jpg', '_91_4030510.jpg', '_146_8129711.jpg', '1404_left.jpg', '1402_left.jpg', '1488_left.jpg', '1482_left.jpg', '_189_3602727.jpg', '_14_3746939.jpg', '1470_left.jpg', '1413_right.jpg', '1210_left.jpg', '_132_989976.jpg', '1419_left.jpg', 'Glaucoma_007.png', '_221_5014924.jpg', '_352_8525027.jpg', '_357_2893291.jpg', 'Glaucoma_037.png', '1318_right.jpg', 'Glaucoma_042.png', '_96_982046.jpg', '1232_left.jpg', '_56_7014018.jpg', '_193_7700887.jpg', '583_left.jpg', '_188_1477185.jpg', '_178_2720223.jpg', '_124_7084348.jpg', '_79_266127.jpg', '1301_left.jpg', 'Glaucoma_068.png', '1291_left.jpg', '_286_579920.jpg', '1258_right.jpg', '1378_right.jpg', '_117_8186757.jpg', 'Glaucoma_019.png', '_227_2716085.jpg', '_360_4768102.jpg', '_175_9511671.jpg', '1344_left.jpg', 'Glaucoma_010.png', '_90_4845886.jpg', '1411_right.jpg', '1965_left.jpg', '1478_left.jpg', '1959_left.jpg', '1319_right.jpg', '1217_right.jpg', '_142_682945.jpg', '_48_3684538.jpg', '_1_4540560.jpg', '_160_6175019.jpg', '_213_2572866.jpg', '1256_left.jpg', '_241_994470.jpg', '_136_9296374.jpg', '_334_7538158.jpg', '_323_8497084.jpg', 'Glaucoma_059.png', '_257_1527283.jpg', '1327_left.jpg', '_371_5633932.jpg', '_330_6216079.jpg', '_288_5661981.jpg', '1507_right.jpg', '_302_4887010.jpg', '1239_left.jpg', '1290_left.jpg', '1289_right.jpg', '_122_7081164.jpg', '_244_2165755.jpg', '_196_3505519.jpg', '_86_1386374.jpg', '1234_right.jpg', '_125_8676573.jpg', '1287_right.jpg', '1443_left.jpg', 'Glaucoma_001.png', '1287_left.jpg', 'Glaucoma_093.png', '_73_2704407.jpg', '1263_right.jpg', '_106_1940079.jpg', '_158_2390292.jpg', '1417_right.jpg', '1246_left.jpg', '1415_right.jpg', '_197_9225516.jpg', '_149_7432879.jpg', '_170_2345909.jpg', '1267_left.jpg', '_388_7162342.jpg', '1306_right.jpg', '1441_left.jpg', '_168_211365.jpg', 'Glaucoma_064.png', '1270_right.jpg', '_237_8364169.jpg', '1266_right.jpg', '_311_6101039.jpg', '_0_4517448.jpg', '1428_left.jpg', '1261_right.jpg', '_279_2768381.jpg', '_46_8083273.jpg', '1434_left.jpg', '1231_right.jpg', '_15_1523968.jpg', '1426_left.jpg', '_325_4867292.jpg', '_399_8219023.jpg', '_199_1326301.jpg', '_8_4875579.jpg', '_329_1138512.jpg', '1493_left.jpg', '_383_1676788.jpg', '_57_1814825.jpg', '_299_8359089.jpg', '1270_left.jpg', '_366_3572426.jpg', '_20_5240419.jpg', 'Glaucoma_035.png', 'Glaucoma_057.png', '1371_right.jpg', '_380_4081438.jpg', '_295_3084570.jpg', '_133_9343456.jpg', '1297_left.jpg', '_401_4906161.jpg', '2030_right.jpg', '_244_9609209.jpg', '_290_5672201.jpg', '1334_left.jpg', '1514_left.jpg', '_269_7481383.jpg', '1303_left.jpg', '_155_4972319.jpg', '_333_5771277.jpg', '_249_6890690.jpg', '_22_8539479.jpg', '1259_left.jpg', '1281_left.jpg', '_401_6044320.jpg', 'Glaucoma_097.png', '_342_3907815.jpg', '1241_right.jpg', '_3_6499308.jpg', '_315_1059988.jpg', '_147_9123662.jpg', '_80_1430822.jpg', '1297_right.jpg', '1290_right.jpg', '_39_2936171.jpg', '_251_8769594.jpg', '_157_7971265.jpg', '1209_left.jpg', '_61_1340813.jpg', '_389_1548771.jpg', '_91_8145296.jpg', '_128_2241332.jpg', '_180_6449017.jpg', '1279_left.jpg', 'Glaucoma_084.png', '_261_6037248.jpg', '_152_3014051.jpg', '_30_5516177.jpg', 'Glaucoma_033.png', '_246_1688391.jpg', '1491_left.jpg', 'Glaucoma_040.png', '1222_right.jpg', '167_left.jpg', '_219_4035148.jpg', '_34_2817660.jpg', '1213_right.jpg', '_215_6808791.jpg', '_76_8587652.jpg', '_219_5715309.jpg', '_324_9547288.jpg', '_41_2520996.jpg', '1280_left.jpg', '_181_552191.jpg', '1964_left.jpg', '1260_right.jpg', '_281_5653321.jpg', '_280_1941804.jpg', '_205_8557164.jpg', '_51_5395739.jpg', '_318_5873639.jpg', '_298_2374039.jpg', '_140_1036922.jpg', '_111_1685203.jpg', '746_right.jpg', '_176_88942.jpg', 'Glaucoma_015.png', 'Glaucoma_063.png', '_283_6275047.jpg', '_321_9678485.jpg', '_158_8802624.jpg', '247_right.jpg', '1436_left.jpg', '_60_3287251.jpg', 'Glaucoma_026.png', '_284_1723608.jpg', '_370_7370377.jpg', '1212_right.jpg', '_94_8906983.jpg', '1990_right.jpg', '_87_9110812.jpg', '_52_3379279.jpg', '_315_4482636.jpg', '_364_7596223.jpg', '_106_4788402.jpg', '_160_3285565.jpg', '_126_6964713.jpg', '_201_387458.jpg', '_98_4213035.jpg', '_18_2435759.jpg', '1371_left.jpg', '1284_left.jpg', '1473_right.jpg', '_377_2444638.jpg', 'Glaucoma_029.png', '_145_9843041.jpg', '1294_right.jpg', '1369_left.jpg', '_29_2615629.jpg', '_150_5894989.jpg', '_317_2537690.jpg', 'Glaucoma_080.png', '1497_left.jpg', '_154_6297009.jpg', '1386_right.jpg', 'Glaucoma_076.png', '_310_6988275.jpg', '_337_28720.jpg', '_305_769962.jpg', '_38_3483571.jpg', '1487_right.jpg', '_236_6447023.jpg', '_262_3994169.jpg', '_361_9282542.jpg', '_6_2143075.jpg', '_102_5502806.jpg', '583_right.jpg', '1225_left.jpg', '1443_right.jpg', '_143_7549980.jpg', '_196_9338682.jpg', '1959_right.jpg', '_403_4411201.jpg', '_290_306861.jpg', '_22_1469685.jpg', '1453_right.jpg', 'Glaucoma_096.png', '95_left.jpg', '1424_left.jpg', '_345_7680672.jpg', '_255_7511159.jpg', '_233_3404764.jpg', '_131_7117664.jpg', '1218_left.jpg', '_187_9314717.jpg', '_382_9740496.jpg', '1487_left.jpg', '_242_9104523.jpg', '_348_2941106.jpg', '1229_right.jpg', '_195_1040294.jpg', '1255_left.jpg', '_11_7116915.jpg', '1327_right.jpg', '_358_8144492.jpg', '1434_right.jpg', '1241_left.jpg', '1427_right.jpg', '1503_right.jpg', '1967_left.jpg', '1225_right.jpg', 'Glaucoma_055.png', '_365_7365403.jpg', '1237_right.jpg', 'Glaucoma_034.png', '1210_right.jpg', '_78_1065003.jpg', '_402_8604384.jpg', '_172_4383599.jpg', '_42_6738302.jpg', 'Glaucoma_036.png', '1985_left.jpg', '1881_right.jpg', '1254_right.jpg', '_390_5579051.jpg', '_228_775182.jpg', 'Glaucoma_024.png', '_101_9321817.jpg', '_211_3554467.jpg', '_9_9966988.jpg', '_326_7155812.jpg', 'Glaucoma_075.png', 'Glaucoma_074.png', '1281_right.jpg', '1309_right.jpg', '1330_right.jpg', '_184_4892495.jpg', '_194_8950727.jpg', '_386_7977995.jpg', '_135_2706541.jpg', '1353_right.jpg', '_375_3812551.jpg', '_386_8829500.jpg', '_276_4038569.jpg', '_331_8594715.jpg', '_306_2695664.jpg', '_33_7463078.jpg', 'Glaucoma_054.png', '_322_2070844.jpg', '1267_right.jpg', '_26_8418608.jpg', '_319_532632.jpg', '_300_7639707.jpg', '1230_left.jpg', '_64_4692255.jpg', 'Glaucoma_053.png', '_104_4154423.jpg', '_240_968094.jpg', '_113_3440509.jpg', '_191_4454313.jpg', '43_right.jpg', '1362_left.jpg', 'Glaucoma_082.png', '1239_right.jpg', '_266_8920656.jpg', '_265_1562215.jpg', '_322_4870398.jpg', '1314_left.jpg', 'Glaucoma_002.png', '_114_4182799.jpg', '_356_7024951.jpg', '_261_1504984.jpg', '1977_left.jpg', '_75_5691617.jpg', '1309_left.jpg', '_402_3641116.jpg', '_162_6327245.jpg', '_97_3920460.jpg', '_123_2897373.jpg', '1476_right.jpg', '_293_1537842.jpg', '_284_1958940.jpg', '1433_left.jpg', '1318_left.jpg', '1256_right.jpg', '1498_left.jpg', 'Glaucoma_013.png', '1269_right.jpg', '1442_left.jpg', '_10_1472170.jpg', '_275_5075268.jpg', '_297_2792482.jpg', '1405_left.jpg', '_276_1824789.jpg', '_70_4843073.jpg', '1351_left.jpg', '_205_310538.jpg', '_166_5592889.jpg', '_308_7087674.jpg', 'Glaucoma_006.png', '_109_7080739.jpg', '_90_7427306.jpg', '_141_1074732.jpg', '_138_2633578.jpg', '_216_1547406.jpg', '1439_left.jpg', '_153_9723315.jpg', '_148_3847249.jpg', '1269_left.jpg', '_88_3707930.jpg', '_13_697490.jpg', '_182_6536787.jpg', '2063_right.jpg', '_195_8472436.jpg', 'Glaucoma_020.png', '_289_8793154.jpg', '1243_right.jpg', '153_left.jpg', '_55_1027321.jpg', '1365_right.jpg', '_39_2691222.jpg', '_277_4980424.jpg', '_247_651494.jpg', '_361_5450086.jpg', '_105_9159338.jpg', '_52_3659415.jpg', '1488_right.jpg', '1345_right.jpg', '_271_8149720.jpg', '_120_7704110.jpg', 'Glaucoma_048.png', '_349_5604621.jpg', '_367_403099.jpg', '_293_8683971.jpg', '_2_5194189.jpg', '_63_5036155.jpg', '_40_4972458.jpg', '_362_9619377.jpg', '_98_763638.jpg', '1282_left.jpg', '_357_7848484.jpg', '_41_7018471.jpg', '_226_4398457.jpg', '_203_5167688.jpg', '_292_3819069.jpg', '_201_9193232.jpg', '_379_852244.jpg', '_167_1325871.jpg', '1977_right.jpg', '1440_left.jpg', '1389_left.jpg', '247_left.jpg', '_23_8081299.jpg', '_248_1971812.jpg', '_47_6549840.jpg', '_59_9153525.jpg', 'Glaucoma_003.png', '1352_left.jpg', '1211_right.jpg', '_335_5326545.jpg', '_59_1911492.jpg', 'Glaucoma_071.png', '_156_1243799.jpg', '_24_3870780.jpg', '_198_4839828.jpg', '_355_9019995.jpg', 'Glaucoma_066.png', '_253_8425650.jpg', '_282_8545700.jpg', '1495_left.jpg', '_116_5760701.jpg', '1276_right.jpg', 'Glaucoma_100.png', '1222_left.jpg', 'Glaucoma_078.png', '1272_left.jpg', '_54_4840369.jpg', '_118_6838709.jpg', 'Glaucoma_101.png', '_121_2837450.jpg', 'Glaucoma_099.png', '_157_6473114.jpg', 'Glaucoma_087.png', '1215_right.jpg', '_391_1332495.jpg', '_204_6942835.jpg', '_220_1375140.jpg', '1492_right.jpg', 'Glaucoma_012.png', '_377_8059232.jpg', '_179_3204648.jpg', '1307_right.jpg', 'Glaucoma_005.png', 'Glaucoma_061.png', '_241_1530591.jpg', '_89_751322.jpg', '_325_5401809.jpg', '178_left.jpg', '_199_7083786.jpg', '1271_left.jpg', '1416_right.jpg', '1975_left.jpg', '1477_right.jpg', '_390_458377.jpg', '_270_6223143.jpg', '1276_left.jpg', '_305_3318957.jpg', '1510_right.jpg', '_16_8305794.jpg', '_190_7463607.jpg', '_100_965860.jpg', '_146_6435949.jpg', '_208_7827214.jpg', '_171_8366749.jpg', '1227_right.jpg', '1425_right.jpg', '1228_left.jpg', '_380_3524868.jpg', 'Glaucoma_011.png', '_338_7660594.jpg', '_145_2135273.jpg', '_88_3424776.jpg', 'Glaucoma_072.png', '_164_2916527.jpg', '_130_3806382.jpg', '1515_left.jpg', '_288_1071282.jpg', '_58_8721967.jpg', '_356_2280553.jpg', '_259_7069358.jpg', '_327_1055218.jpg', '_394_81313.jpg', '_257_3895456.jpg', 'Glaucoma_017.png', '_37_8813329.jpg', 'Glaucoma_095.png', '1265_right.jpg', 'Glaucoma_069.png', '_339_938566.jpg', '2020_left.jpg', '1386_left.jpg', '_147_9725919.jpg', 'Glaucoma_089.png', '_393_2129148.jpg', '_193_8669043.jpg', '_245_5517087.jpg', '1227_left.jpg', '_230_7804467.jpg', '1221_right.jpg', '1383_left.jpg', '_371_9609603.jpg', '_235_7683512.jpg', '1209_right.jpg', '_234_5883794.jpg', '_109_6854077.jpg', '_166_613935.jpg', '_50_8908104.jpg', '1286_right.jpg', '_387_8614768.jpg', 'Glaucoma_031.png', '_210_840898.jpg', '_43_5688154.jpg', 'Glaucoma_098.png', '_218_8917311.jpg', '_11_6435526.jpg', '_197_5727246.jpg', 'Glaucoma_043.png', '_12_5295071.jpg', '_206_1459040.jpg', 'Glaucoma_083.png', '_7_5314686.jpg', '1307_left.jpg', 'Glaucoma_039.png', '_191_6264437.jpg', '1301_right.jpg', '2063_left.jpg', '_376_7730949.jpg', '_47_787901.jpg', '_67_5997765.jpg', '_48_5270520.jpg', '1216_left.jpg', '_243_5417546.jpg', '_95_6242980.jpg', 'Glaucoma_073.png', '_298_4611384.jpg', '_73_1527609.jpg', '_19_6182574.jpg', '_13_8126689.jpg', '_112_6810179.jpg', '_74_2774709.jpg', '_60_6481590.jpg', '_287_8369950.jpg', '1325_left.jpg', '_134_8496063.jpg', '_296_6754407.jpg', 'Glaucoma_051.png', '1289_left.jpg', 'Glaucoma_027.png', '1433_right.jpg', '_139_2849264.jpg', '238_right.jpg', '1330_left.jpg', '931_right.jpg', '_188_6021497.jpg', '_392_9636183.jpg', '_144_611038.jpg', '_64_3530889.jpg', '1273_right.jpg', '1967_right.jpg', '1388_right.jpg', '2041_left.jpg', '_353_6531128.jpg', '_367_7784563.jpg', '_211_3409683.jpg', '_329_3845498.jpg', '_66_8732996.jpg', '_332_7068969.jpg', '1421_left.jpg', '1431_left.jpg', '_267_8024092.jpg', 'Glaucoma_062.png', '_369_874276.jpg', '_169_5017005.jpg', '_223_380742.jpg', '_267_2376228.jpg', '_36_9662569.jpg', '_309_4110303.jpg', '1294_left.jpg', '_137_1824460.jpg', '_27_8607848.jpg', '_206_5637335.jpg', '_307_4576620.jpg', '1963_right.jpg', '_182_8751077.jpg', 'Glaucoma_050.png', '1271_right.jpg', '1260_left.jpg', '_16_2996330.jpg', '_259_9254323.jpg', '_227_1784248.jpg', '1473_left.jpg', '2074_left.jpg', '_200_8005975.jpg', '1469_right.jpg', '1345_left.jpg', '_336_783196.jpg', '1251_left.jpg', '_254_8727190.jpg', '2010_left.jpg', '_99_5348098.jpg', '1020_left.jpg', '1291_right.jpg', '_110_299285.jpg', '_242_5062809.jpg', '1226_left.jpg', '1226_right.jpg', '_75_820784.jpg', '1265_left.jpg', '_198_8291898.jpg', '_404_5918559.jpg', '1971_left.jpg', 'Glaucoma_028.png', '_385_2935625.jpg', '_20_7421444.jpg', '_332_3900734.jpg', '1485_right.jpg', '_358_2954052.jpg', '_249_5342875.jpg', '_387_7675254.jpg', '_274_7999199.jpg', '1474_left.jpg', '1255_right.jpg', '_209_6790686.jpg', '_375_1575212.jpg', '_366_5412727.jpg', '_222_8813596.jpg', '_172_2814012.jpg', '_273_4238500.jpg', '_35_369215.jpg', '1447_left.jpg', '_203_5093586.jpg', '1393_right.jpg', '_272_1072395.jpg', '_105_3766522.jpg', '_320_4614619.jpg', '_373_2349363.jpg', '_27_4220822.jpg', '_311_7054330.jpg', '_49_249201.jpg', '_5_5487582.jpg', 'Glaucoma_032.png', '_43_2637980.jpg', '_65_9130585.jpg', 'Glaucoma_065.png', '_202_7508135.jpg', 'Glaucoma_088.png', '_164_5685997.jpg', '_393_7224423.jpg', '_313_8583918.jpg', '_4_5317326.jpg', '1238_right.jpg', '_120_7137220.jpg', '_81_2700389.jpg', '_45_7744209.jpg', '1268_right.jpg', '1268_left.jpg', '1477_left.jpg', 'Glaucoma_058.png', '1392_right.jpg', '_399_7128170.jpg', '1220_left.jpg', '_354_1214126.jpg', '_17_7347013.jpg', '1480_right.jpg', '1246_right.jpg', '_163_4618487.jpg', '_336_4442986.jpg', '_217_6214632.jpg', '_212_5947972.jpg', '_192_8262976.jpg', '1999_right.jpg', '_396_2615481.jpg', '_406_3482388.jpg', '_121_1901719.jpg', '1279_right.jpg', '1440_right.jpg', '_163_6292807.jpg', '_268_5781265.jpg', '_260_4814230.jpg', '1288_right.jpg', '931_left.jpg', 'Glaucoma_046.png', '_263_9514192.jpg', '_328_7261567.jpg', '_58_180622.jpg', '_177_4666662.jpg', '1374_right.jpg', '_340_1400434.jpg', '1288_left.jpg', 'Glaucoma_070.png', '_341_3030606.jpg', 'Glaucoma_009.png', '1462_left.jpg', '_15_5946153.jpg', '_54_1709440.jpg', 'Glaucoma_079.png']\n",
            "['10695_right.jpeg', '11314_right.jpeg', '11443_left.jpeg', '10226_right.jpeg', '10748_right.jpeg', '1277_right.jpeg', '11594_left.jpeg', '11023_left.jpeg', '10969_right.jpeg', '10515_left.jpeg', '10810_right.jpeg', '11550_left.jpeg', '10343_right.jpeg', '11439_right.jpeg', '11127_right.jpeg', '1058_left.jpeg', '10743_left.jpeg', '1259_left.jpeg', '10915_left.jpeg', '10873_right.jpeg', '11298_left.jpeg', '10124_left.jpeg', '1011_right.jpeg', '10069_left.jpeg', '11122_right.jpeg', '11120_right.jpeg', '10983_right.jpeg', '11026_right.jpeg', '11550_right.jpeg', '10403_right.jpeg', '11388_left.jpeg', '1146_left.jpeg', '11164_left.jpeg', '10851_left.jpeg', '10626_left.jpeg', '1277_left.jpeg', '1077_right.jpeg', '11023_right.jpeg', '10475_right.jpeg', '10839_right.jpeg', '119_left.jpeg', '1123_left.jpeg', '1197_left.jpeg', '11234_right.jpeg', '1034_right.jpeg', '10897_left.jpeg', '1100_left.jpeg', '10100_left.jpeg', '10260_left.jpeg', '100_left.jpeg', '10983_left.jpeg', '11228_left.jpeg', '10397_right.jpeg', '10266_left.jpeg', '11164_right.jpeg', '11293_left.jpeg', '10368_left.jpeg', '10015_right.jpeg', '10645_left.jpeg', '11098_right.jpeg', '10100_right.jpeg', '10761_right.jpeg', '1057_right.jpeg', '10120_left.jpeg', '11156_left.jpeg', '10295_right.jpeg', '10657_left.jpeg', '10326_left.jpeg', '10781_right.jpeg', '10853_right.jpeg', '11364_left.jpeg', '11136_right.jpeg', '1289_left.jpeg', '1165_right.jpeg', '11378_left.jpeg', '11007_right.jpeg', '10883_right.jpeg', '10688_right.jpeg', '10916_left.jpeg', '10029_right.jpeg', '10994_right.jpeg', '10251_left.jpeg', '10241_right.jpeg', '10032_left.jpeg', '11147_left.jpeg', '10135_right.jpeg', '11446_right.jpeg', '1211_right.jpeg', '10104_right.jpeg', '10511_right.jpeg', '1131_left.jpeg', '1305_right.jpeg', '1084_right.jpeg', '11584_left.jpeg', '10137_right.jpeg', '10612_left.jpeg', '10184_left.jpeg', '10792_left.jpeg', '10250_left.jpeg', '11299_right.jpeg', '11541_right.jpeg', '1285_right.jpeg', '11123_left.jpeg', '10568_right.jpeg', '11216_left.jpeg', '11113_right.jpeg', '11181_left.jpeg', '11261_right.jpeg', '11241_left.jpeg', '10415_left.jpeg', '10945_left.jpeg', '1197_right.jpeg', '10521_right.jpeg', '1138_left.jpeg', '11432_left.jpeg', '10930_right.jpeg', '11091_right.jpeg', '10310_right.jpeg', '10303_right.jpeg', '1145_left.jpeg', '10242_right.jpeg', '10278_left.jpeg', '11504_left.jpeg', '11067_left.jpeg', '10426_left.jpeg', '10293_left.jpeg', '11534_left.jpeg', '10115_right.jpeg', '11159_left.jpeg', '11155_left.jpeg', '10952_left.jpeg', '10988_left.jpeg', '10232_right.jpeg', '1292_left.jpeg', '10306_right.jpeg', '122_right.jpeg', '10252_right.jpeg', '11534_right.jpeg', '10781_left.jpeg', '1269_left.jpeg', '10053_left.jpeg', '11471_right.jpeg', '1011_left.jpeg', '10762_left.jpeg', '10109_left.jpeg', '1260_right.jpeg', '11127_left.jpeg', '125_right.jpeg', '1049_right.jpeg', '11471_left.jpeg', '11391_left.jpeg', '10319_right.jpeg', '1161_left.jpeg', '10233_left.jpeg', '11249_left.jpeg', '11432_right.jpeg', '10934_right.jpeg', '11388_right.jpeg', '10141_left.jpeg', '11579_right.jpeg', '10303_left.jpeg', '10779_left.jpeg', '11292_right.jpeg', '10782_right.jpeg', '11187_left.jpeg', '10170_left.jpeg', '10510_right.jpeg', '11575_right.jpeg', '1267_left.jpeg', '10606_left.jpeg', '10210_left.jpeg', '10218_left.jpeg', '11058_right.jpeg', '1020_left.jpeg', '10503_left.jpeg', '10920_left.jpeg', '10053_right.jpeg', '10069_right.jpeg', '1188_left.jpeg', '10729_left.jpeg', '11231_right.jpeg', '10977_left.jpeg', '10646_left.jpeg', '10548_right.jpeg', '1037_right.jpeg', '10389_left.jpeg', '10333_right.jpeg', '1285_left.jpeg', '1113_right.jpeg', '11289_left.jpeg', '11273_left.jpeg', '11542_right.jpeg', '10842_right.jpeg', '10116_left.jpeg', '11169_left.jpeg', '1073_left.jpeg', '1093_right.jpeg', '10431_left.jpeg', '10962_right.jpeg', '10305_right.jpeg', '10409_left.jpeg', '10156_left.jpeg', '11593_left.jpeg', '10035_right.jpeg', '11371_left.jpeg', '10854_right.jpeg', '11579_left.jpeg', '11546_left.jpeg', '10975_left.jpeg', '1027_left.jpeg', '10851_right.jpeg', '11007_left.jpeg', '10915_right.jpeg', '11341_right.jpeg', '10966_left.jpeg', '11123_right.jpeg', '1012_right.jpeg', '10907_left.jpeg', '10337_right.jpeg', '10489_left.jpeg', '1206_left.jpeg', '1084_left.jpeg', '10732_left.jpeg', '11551_right.jpeg', '10919_right.jpeg', '11573_left.jpeg', '10085_right.jpeg', '10210_right.jpeg', '11232_right.jpeg', '10833_left.jpeg', '10487_left.jpeg', '11120_left.jpeg', '10814_right.jpeg', '10569_right.jpeg', '10961_right.jpeg', '11053_right.jpeg', '11417_left.jpeg', '10265_right.jpeg', '10732_right.jpeg', '10154_right.jpeg', '10047_left.jpeg', '10779_right.jpeg', '10726_right.jpeg', '11321_right.jpeg', '11271_left.jpeg', '102_right.jpeg', '11319_left.jpeg', '100_right.jpeg', '11546_right.jpeg', '11222_left.jpeg', '10160_left.jpeg', '11575_left.jpeg', '11203_right.jpeg', '11574_right.jpeg', '1272_left.jpeg', '10515_right.jpeg', '10603_right.jpeg', '11247_left.jpeg', '10439_left.jpeg', '10624_left.jpeg', '10409_right.jpeg', '11003_left.jpeg', '11340_left.jpeg', '10606_right.jpeg', '11243_right.jpeg', '10823_left.jpeg', '10975_right.jpeg', '11136_left.jpeg', '10644_right.jpeg', '11527_right.jpeg', '10954_right.jpeg', '10879_right.jpeg', '1297_right.jpeg', '10792_right.jpeg', '1123_right.jpeg', '11421_left.jpeg', '10386_right.jpeg', '10752_right.jpeg', '10032_right.jpeg', '11590_left.jpeg', '10651_left.jpeg', '117_left.jpeg', '1266_right.jpeg', '11271_right.jpeg', '10646_right.jpeg', '10680_left.jpeg', '1100_right.jpeg', '10924_left.jpeg', '10458_right.jpeg', '10484_right.jpeg', '10903_left.jpeg', '10243_left.jpeg', '10940_left.jpeg', '10752_left.jpeg', '10569_left.jpeg', '10337_left.jpeg', '10745_right.jpeg', '11370_right.jpeg', '10126_right.jpeg', '1075_right.jpeg', '10864_right.jpeg', '10007_right.jpeg', '10907_right.jpeg', '10976_left.jpeg', '1196_left.jpeg', '10099_right.jpeg', '1294_right.jpeg', '11438_left.jpeg', '11091_left.jpeg', '10513_right.jpeg', '10492_right.jpeg', '11292_left.jpeg', '1075_left.jpeg', '11142_left.jpeg', '10651_right.jpeg', '1199_left.jpeg', '11229_right.jpeg', '10786_right.jpeg', '10879_left.jpeg', '10095_left.jpeg', '1102_right.jpeg', '11221_left.jpeg', '10343_left.jpeg', '10550_right.jpeg', '10874_left.jpeg', '10936_left.jpeg', '10782_left.jpeg', '11087_left.jpeg', '11417_right.jpeg', '10936_right.jpeg', '10636_left.jpeg', '1182_right.jpeg', '10078_left.jpeg', '10081_right.jpeg', '10333_left.jpeg', '10255_left.jpeg', '1275_left.jpeg', '10710_left.jpeg', '10177_right.jpeg', '10312_left.jpeg', '10444_right.jpeg', '1167_left.jpeg', '10367_right.jpeg', '11114_right.jpeg', '10262_left.jpeg', '11234_left.jpeg', '10363_right.jpeg', '10653_left.jpeg', '11155_right.jpeg', '11516_left.jpeg', '10438_left.jpeg', '11142_right.jpeg', '11157_right.jpeg', '10989_left.jpeg', '10448_left.jpeg', '1030_right.jpeg', '11301_left.jpeg', '1269_right.jpeg', '11181_right.jpeg', '11313_left.jpeg', '10262_right.jpeg', '10777_right.jpeg', '11183_right.jpeg', '10619_right.jpeg', '1133_left.jpeg', '10452_left.jpeg', '10503_right.jpeg', '1070_left.jpeg', '10368_right.jpeg', '11187_right.jpeg', '10823_right.jpeg', '11156_right.jpeg', '1055_left.jpeg', '10030_left.jpeg', '1199_right.jpeg', '11321_left.jpeg', '10183_right.jpeg', '1000_left.jpeg', '11310_right.jpeg', '10116_right.jpeg', '11032_right.jpeg', '10989_right.jpeg', '10592_left.jpeg', '10674_left.jpeg', '1180_right.jpeg', '10605_right.jpeg', '1049_left.jpeg', '10160_right.jpeg', '1008_right.jpeg', '10029_left.jpeg', '10487_right.jpeg', '11378_right.jpeg', '1161_right.jpeg', '10050_left.jpeg', '10257_left.jpeg', '10785_left.jpeg', '10563_left.jpeg', '10755_right.jpeg', '10340_right.jpeg', '10772_left.jpeg', '11371_right.jpeg', '10169_left.jpeg', '11315_left.jpeg', '11244_left.jpeg', '11326_left.jpeg', '11496_right.jpeg', '11590_right.jpeg', '11425_left.jpeg', '10861_left.jpeg', '1266_left.jpeg', '1260_left.jpeg', '10623_right.jpeg', '11196_left.jpeg', '1204_right.jpeg', '1211_left.jpeg', '11221_right.jpeg', '10727_left.jpeg', '1030_left.jpeg', '10550_left.jpeg', '10672_right.jpeg', '11495_left.jpeg', '1056_left.jpeg', '10511_left.jpeg', '10644_left.jpeg', '10722_right.jpeg', '10212_left.jpeg', '10137_left.jpeg', '10832_right.jpeg', '10310_left.jpeg', '11446_left.jpeg', '10078_right.jpeg', '11407_left.jpeg', '11115_left.jpeg', '10130_right.jpeg', '11527_left.jpeg', '10244_left.jpeg', '1165_left.jpeg', '11050_left.jpeg', '11087_right.jpeg', '11153_right.jpeg', '10009_right.jpeg', '11305_left.jpeg', '10234_right.jpeg', '10153_right.jpeg', '10419_right.jpeg', '10141_right.jpeg', '11124_left.jpeg', '11464_left.jpeg', '10772_right.jpeg', '10359_left.jpeg', '1178_right.jpeg', '10873_left.jpeg', '10017_right.jpeg', '11121_right.jpeg', '11219_right.jpeg', '11319_right.jpeg', '10031_right.jpeg', '11098_left.jpeg', '10970_left.jpeg', '10163_right.jpeg', '10534_left.jpeg', '11183_left.jpeg', '10610_right.jpeg', '11301_right.jpeg', '10061_right.jpeg', '10377_left.jpeg', '11519_right.jpeg', '1240_right.jpeg', '10221_left.jpeg', '11067_right.jpeg', '10475_left.jpeg', '11365_right.jpeg', '11444_right.jpeg', '129_right.jpeg', '11261_left.jpeg', '11385_right.jpeg', '10941_left.jpeg', '1113_left.jpeg', '10657_right.jpeg', '10153_left.jpeg', '10003_right.jpeg', '10305_left.jpeg', '10891_right.jpeg', '11005_right.jpeg', '11273_right.jpeg', '10272_left.jpeg', '10723_left.jpeg', '11516_right.jpeg', '1294_left.jpeg', '11340_right.jpeg', '11182_left.jpeg', '11428_right.jpeg', '11270_right.jpeg', '10622_right.jpeg', '1275_right.jpeg', '10942_left.jpeg', '11448_right.jpeg', '11428_left.jpeg', '10777_left.jpeg', '10230_left.jpeg', '1034_left.jpeg', '10960_left.jpeg', '10583_right.jpeg', '10126_left.jpeg', '10013_right.jpeg', '10218_right.jpeg', '11345_left.jpeg', '10510_left.jpeg', '10722_left.jpeg', '11455_left.jpeg', '1240_left.jpeg', '10150_left.jpeg', '11553_right.jpeg', '10814_left.jpeg', '11222_right.jpeg', '11541_left.jpeg', '10827_left.jpeg', '11392_left.jpeg', '1296_left.jpeg', '11313_right.jpeg', '11407_right.jpeg', '10479_right.jpeg', '10321_left.jpeg', '10694_left.jpeg', '10865_right.jpeg', '10403_left.jpeg', '10013_left.jpeg', '10966_right.jpeg', '11420_left.jpeg', '10007_left.jpeg', '10987_left.jpeg', '1172_left.jpeg', '11314_left.jpeg', '11122_left.jpeg', '11542_left.jpeg', '10916_right.jpeg', '10115_left.jpeg', '10629_left.jpeg', '10003_left.jpeg', '1076_left.jpeg', '10257_right.jpeg', '10977_right.jpeg', '11117_right.jpeg', '1057_left.jpeg', '129_left.jpeg', '10523_right.jpeg', '11219_left.jpeg', '10672_left.jpeg', '11496_left.jpeg', '10891_left.jpeg', '10920_right.jpeg', '10603_left.jpeg', '10650_right.jpeg', '10610_left.jpeg', '10947_left.jpeg', '10865_left.jpeg', '10095_right.jpeg', '10734_left.jpeg', '10212_right.jpeg', '10568_left.jpeg', '10194_right.jpeg', '10758_right.jpeg', '1102_left.jpeg', '11397_right.jpeg', '10650_left.jpeg', '1272_right.jpeg', '10439_right.jpeg', '10230_right.jpeg', '11198_left.jpeg', '11241_right.jpeg', '10328_right.jpeg', '10135_left.jpeg', '10326_right.jpeg', '11420_right.jpeg', '11504_right.jpeg', '1020_right.jpeg', '11216_right.jpeg', '10727_right.jpeg', '1204_left.jpeg', '108_left.jpeg', '10263_left.jpeg', '11265_left.jpeg', '10325_right.jpeg', '11317_left.jpeg', '10748_left.jpeg', '10947_right.jpeg', '10431_right.jpeg', '11119_right.jpeg', '10081_left.jpeg', '10183_left.jpeg', '11115_right.jpeg', '10886_right.jpeg', '11161_right.jpeg', '10242_left.jpeg', '10147_right.jpeg', '11121_left.jpeg', '11057_right.jpeg', '10059_left.jpeg', '10755_left.jpeg', '119_right.jpeg', '10974_left.jpeg', '10794_left.jpeg', '10626_right.jpeg', '10563_right.jpeg', '11293_right.jpeg', '10404_left.jpeg', '11476_left.jpeg', '1259_right.jpeg', '11387_left.jpeg', '10919_left.jpeg', '11246_left.jpeg', '10265_left.jpeg', '1136_right.jpeg', '111_left.jpeg', '1267_right.jpeg', '1136_left.jpeg', '10170_right.jpeg', '1056_right.jpeg', '10046_left.jpeg', '10844_right.jpeg', '1017_right.jpeg', '1170_left.jpeg', '10794_right.jpeg', '10943_left.jpeg', '11117_left.jpeg', '10570_left.jpeg', '11448_left.jpeg', '10129_right.jpeg', '1024_left.jpeg', '111_right.jpeg', '102_left.jpeg', '10050_right.jpeg', '11169_right.jpeg', '11032_left.jpeg', '10243_right.jpeg', '1289_right.jpeg', '10407_right.jpeg', '11316_right.jpeg', '1196_right.jpeg', '10623_left.jpeg', '1021_right.jpeg', '10542_left.jpeg', '10640_left.jpeg', '11228_right.jpeg', '10317_left.jpeg', '1292_right.jpeg', '1167_right.jpeg', '10720_right.jpeg', '11267_left.jpeg', '10149_right.jpeg', '11040_right.jpeg', '1180_left.jpeg', '10675_right.jpeg', '10226_left.jpeg', '10786_left.jpeg', '11113_left.jpeg', '10726_left.jpeg', '10035_left.jpeg', '10521_left.jpeg', '10844_left.jpeg', '10278_right.jpeg', '1206_right.jpeg', '11176_right.jpeg', '10489_right.jpeg', '1096_right.jpeg', '11394_right.jpeg', '11444_left.jpeg', '1302_left.jpeg', '11387_right.jpeg', '11437_left.jpeg', '10263_right.jpeg', '10386_left.jpeg', '10608_right.jpeg', '10701_left.jpeg', '10284_right.jpeg', '1035_right.jpeg', '10363_left.jpeg', '11455_right.jpeg', '11425_right.jpeg', '117_right.jpeg', '11153_left.jpeg', '11270_left.jpeg', '10815_left.jpeg', '10562_right.jpeg', '10758_left.jpeg', '10987_right.jpeg', '11197_right.jpeg', '10182_right.jpeg', '10321_right.jpeg', '11049_left.jpeg', '11003_right.jpeg', '10908_right.jpeg', '1059_left.jpeg', '10389_right.jpeg', '10551_right.jpeg', '1058_right.jpeg', '11114_left.jpeg', '11445_right.jpeg', '1182_left.jpeg', '10660_left.jpeg', '11305_right.jpeg', '11288_left.jpeg', '1145_right.jpeg', '11283_right.jpeg', '10674_right.jpeg', '11345_right.jpeg', '10585_left.jpeg', '10464_left.jpeg', '11008_left.jpeg', '10622_left.jpeg', '10884_right.jpeg', '10943_right.jpeg', '10166_left.jpeg', '10255_right.jpeg', '11421_right.jpeg', '10416_right.jpeg', '10129_left.jpeg', '11265_right.jpeg', '10407_left.jpeg', '10293_right.jpeg', '10566_right.jpeg', '10194_left.jpeg', '10272_right.jpeg', '10175_left.jpeg', '10429_left.jpeg', '11520_right.jpeg', '10787_left.jpeg', '1111_right.jpeg', '11203_left.jpeg', '10279_right.jpeg', '10839_left.jpeg', '10325_left.jpeg', '1192_right.jpeg', '11249_right.jpeg', '11393_left.jpeg', '10061_left.jpeg', '10207_left.jpeg', '122_left.jpeg', '11130_right.jpeg', '10542_right.jpeg', '10252_left.jpeg', '1052_left.jpeg', '10761_left.jpeg', '10790_left.jpeg', '1139_right.jpeg', '11304_left.jpeg', '11438_right.jpeg', '10884_left.jpeg', '10636_right.jpeg', '10319_left.jpeg', '11165_right.jpeg', '10232_left.jpeg', '10042_left.jpeg', '1111_left.jpeg', '11598_left.jpeg', '10221_right.jpeg', '11315_right.jpeg', '10705_left.jpeg', '10785_right.jpeg', '11176_left.jpeg', '10808_right.jpeg', '10391_right.jpeg', '1098_right.jpeg', '11147_right.jpeg', '10464_right.jpeg', '10438_right.jpeg', '10513_left.jpeg', '10369_right.jpeg', '10941_right.jpeg', '10241_left.jpeg', '10653_right.jpeg', '10175_right.jpeg', '10974_right.jpeg', '11130_left.jpeg', '1059_right.jpeg', '11364_right.jpeg', '11439_left.jpeg', '10010_right.jpeg', '11370_left.jpeg', '1042_left.jpeg', '10548_left.jpeg', '10969_left.jpeg', '10294_right.jpeg', '10163_left.jpeg', '10398_left.jpeg', '1302_right.jpeg', '10260_right.jpeg', '10763_right.jpeg', '10743_right.jpeg', '10099_left.jpeg', '10251_right.jpeg', '1172_right.jpeg', '10790_right.jpeg', '108_right.jpeg', '10908_left.jpeg', '11593_right.jpeg', '11080_left.jpeg', '11476_right.jpeg', '10551_left.jpeg', '11482_left.jpeg', '10149_left.jpeg', '10583_left.jpeg', '10014_left.jpeg', '10266_right.jpeg', '10854_left.jpeg', '10130_left.jpeg', '10367_left.jpeg', '1092_left.jpeg', '11341_left.jpeg', '10579_left.jpeg', '10616_left.jpeg', '10710_right.jpeg', '1147_left.jpeg', '10340_left.jpeg', '1092_right.jpeg', '11382_right.jpeg', '11581_left.jpeg', '10104_left.jpeg', '1188_right.jpeg', '10645_right.jpeg', '1098_left.jpeg', '10419_left.jpeg', '1131_right.jpeg', '10751_right.jpeg', '11519_left.jpeg', '10244_right.jpeg', '10934_left.jpeg', '1002_right.jpeg', '10009_left.jpeg', '10616_right.jpeg', '10587_right.jpeg', '10886_left.jpeg', '1138_right.jpeg', '11152_left.jpeg', '1077_left.jpeg', '10688_left.jpeg', '10913_right.jpeg', '1170_right.jpeg', '10954_left.jpeg', '11049_right.jpeg', '11008_right.jpeg', '11005_left.jpeg', '10339_left.jpeg', '10945_right.jpeg', '10815_right.jpeg', '10182_left.jpeg', '11474_left.jpeg', '10629_right.jpeg', '10058_right.jpeg', '10751_left.jpeg', '11316_left.jpeg', '10458_left.jpeg', '10720_left.jpeg', '11408_right.jpeg', '11196_right.jpeg', '10587_left.jpeg', '11435_right.jpeg', '11053_left.jpeg', '10605_left.jpeg', '10339_right.jpeg', '11289_right.jpeg', '10570_right.jpeg', '10206_right.jpeg', '10306_left.jpeg', '10047_right.jpeg', '10612_right.jpeg', '1017_left.jpeg', '10675_left.jpeg', '11490_right.jpeg', '10169_right.jpeg', '10976_right.jpeg', '1076_right.jpeg', '1024_right.jpeg', '1192_left.jpeg', '10297_right.jpeg', '10279_left.jpeg', '11385_left.jpeg', '11474_right.jpeg', '10015_left.jpeg', '11349_right.jpeg', '10504_left.jpeg', '10705_right.jpeg', '11584_right.jpeg', '10838_left.jpeg', '11119_left.jpeg', '10207_right.jpeg', '10109_right.jpeg', '11026_left.jpeg', '10619_left.jpeg', '11482_right.jpeg', '1012_left.jpeg', '10695_left.jpeg', '10787_right.jpeg', '11229_left.jpeg', '10481_left.jpeg', '10770_right.jpeg', '10723_right.jpeg', '1296_right.jpeg', '10031_left.jpeg', '11165_left.jpeg', '1055_right.jpeg', '11397_left.jpeg', '10808_left.jpeg', '10294_left.jpeg', '11124_right.jpeg', '10312_right.jpeg', '11349_left.jpeg', '11551_left.jpeg', '10284_left.jpeg', '11553_left.jpeg', '10585_right.jpeg', '11573_right.jpeg', '10444_left.jpeg', '10960_right.jpeg', '10810_left.jpeg', '11392_right.jpeg', '10952_right.jpeg', '10930_left.jpeg', '10534_right.jpeg', '11159_right.jpeg', '10874_right.jpeg', '10014_right.jpeg', '10734_right.jpeg', '10391_left.jpeg', '10317_right.jpeg', '11545_right.jpeg', '10913_left.jpeg', '11574_left.jpeg', '11335_right.jpeg', '10250_right.jpeg', '1147_right.jpeg', '11443_right.jpeg', '11594_right.jpeg', '1305_left.jpeg', '10046_right.jpeg', '1002_left.jpeg', '11437_right.jpeg', '10763_left.jpeg', '10762_right.jpeg', '10942_right.jpeg', '11283_left.jpeg', '11037_left.jpeg', '10184_right.jpeg', '1297_left.jpeg', '1093_left.jpeg', '10994_left.jpeg', '10058_left.jpeg', '1133_right.jpeg', '10030_right.jpeg', '11500_right.jpeg', '11080_right.jpeg', '11435_left.jpeg', '10562_left.jpeg', '10523_left.jpeg', '10924_right.jpeg', '10624_right.jpeg', '11581_right.jpeg', '11335_left.jpeg', '10177_left.jpeg', '125_left.jpeg', '11050_right.jpeg', '11291_right.jpeg', '11013_left.jpeg', '10166_right.jpeg', '11246_right.jpeg', '1021_left.jpeg', '11409_right.jpeg', '1070_right.jpeg', '11598_right.jpeg', '10397_left.jpeg', '10295_left.jpeg', '11317_right.jpeg', '1242_right.jpeg', '11182_right.jpeg', '10897_right.jpeg', '10426_right.jpeg', '10457_right.jpeg', '1000_right.jpeg', '10608_left.jpeg', '11490_left.jpeg', '11487_right.jpeg', '10010_left.jpeg', '11326_right.jpeg', '10377_right.jpeg', '11393_right.jpeg', '10970_right.jpeg', '11267_right.jpeg', '11299_left.jpeg', '10398_right.jpeg', '10492_left.jpeg', '10988_right.jpeg', '10827_right.jpeg', '10085_left.jpeg', '11197_left.jpeg', '10745_left.jpeg', '10592_right.jpeg', '10903_right.jpeg', '10479_left.jpeg', '10154_left.jpeg', '10579_right.jpeg', '11057_left.jpeg', '11408_left.jpeg', '10276_right.jpeg', '10701_right.jpeg', '10481_right.jpeg', '1008_left.jpeg', '11298_right.jpeg', '10156_right.jpeg', '11394_left.jpeg', '11500_left.jpeg', '11310_left.jpeg', '11206_left.jpeg', '10206_left.jpeg', '11243_left.jpeg', '10328_left.jpeg', '10861_right.jpeg', '11152_right.jpeg', '11157_left.jpeg', '11365_left.jpeg', '11206_right.jpeg', '11232_left.jpeg', '1042_right.jpeg', '10124_right.jpeg', '11040_left.jpeg', '10416_left.jpeg', '1139_left.jpeg', '1179_right.jpeg', '1242_left.jpeg', '10359_right.jpeg', '10448_right.jpeg', '1178_left.jpeg', '10415_right.jpeg', '10369_left.jpeg', '10059_right.jpeg', '10961_left.jpeg', '11037_right.jpeg', '10660_right.jpeg', '10042_right.jpeg', '11058_left.jpeg', '10017_left.jpeg', '10457_left.jpeg', '11520_left.jpeg', '10147_left.jpeg', '11161_left.jpeg', '1035_left.jpeg', '10842_left.jpeg', '10297_left.jpeg', '10883_left.jpeg', '10770_left.jpeg', '11382_left.jpeg', '10150_right.jpeg', '10566_left.jpeg', '10452_right.jpeg', '10408_right.jpeg', '11529_right.jpeg', '10853_left.jpeg', '1027_right.jpeg', '1037_left.jpeg', '1096_left.jpeg', '11445_left.jpeg', '10120_right.jpeg', '10962_left.jpeg', '10729_right.jpeg', '1052_right.jpeg', '10404_right.jpeg', '11487_left.jpeg', '10408_left.jpeg', '10694_right.jpeg', '11529_left.jpeg', '10484_left.jpeg', '11304_right.jpeg', '11464_right.jpeg', '10234_left.jpeg', '10504_right.jpeg', '11247_right.jpeg', '1146_right.jpeg', '11013_right.jpeg', '1073_right.jpeg', '1179_left.jpeg', '11231_left.jpeg', '11198_right.jpeg', '10832_left.jpeg', '11545_left.jpeg', '11409_left.jpeg', '10833_right.jpeg', '10276_left.jpeg', '10838_right.jpeg', '10233_right.jpeg', '11244_right.jpeg', '11288_right.jpeg', '10640_right.jpeg', '10680_right.jpeg', '11291_left.jpeg', '10864_left.jpeg', '11391_right.jpeg', '11495_right.jpeg', '10429_right.jpeg', '10940_right.jpeg']\n",
            "['2608_left.jpg', '3222_right.jpg', '3434_right.jpg', '2366_left.jpg', '2524_left.jpg', '2771_right.jpg', '3216_left.jpg', '2880_right.jpg', '3084_left.jpg', '3411_right.jpg', '2435_left.jpg', '2469_left.jpg', '3300_right.jpg', '2864_left.jpg', '3259_left.jpg', '2992_right.jpg', '3113_right.jpg', '3007_left.jpg', '3393_left.jpg', '2510_left.jpg', '2610_right.jpg', '3011_right.jpg', '2975_left.jpg', '2946_right.jpg', '3150_left.jpg', '2353_left.jpg', '3262_right.jpg', '2647_right.jpg', '2523_right.jpg', '2483_left.jpg', '3202_right.jpg', '3248_left.jpg', '2813_right.jpg', '3362_left.jpg', '3298_right.jpg', '2980_left.jpg', '2535_left.jpg', '2837_right.jpg', '2567_left.jpg', '3170_right.jpg', '3342_left.jpg', '2895_right.jpg', '3217_right.jpg', '8_left.jpg', '3159_right.jpg', '3386_left.jpg', '3354_right.jpg', '2667_left.jpg', '2672_right.jpg', '3075_left.jpg', '3202_left.jpg', '2985_left.jpg', '2533_left.jpg', '3057_right.jpg', '3009_right.jpg', '2850_left.jpg', '2547_right.jpg', '2660_left.jpg', '2931_right.jpg', '2704_right.jpg', '2585_left.jpg', '3293_left.jpg', '3077_left.jpg', '2523_left.jpg', '2849_right.jpg', '3427_left.jpg', '2736_right.jpg', '3163_left.jpg', '3388_right.jpg', '2932_right.jpg', '3057_left.jpg', '2489_left.jpg', '3389_left.jpg', '3341_left.jpg', '2422_left.jpg', '3394_right.jpg', '2702_left.jpg', '2465_left.jpg', '2742_right.jpg', '2718_right.jpg', '3085_left.jpg', '2811_left.jpg', '2389_left.jpg', '2797_left.jpg', '3242_right.jpg', '3058_left.jpg', '2676_right.jpg', '2984_left.jpg', '3297_right.jpg', '2895_left.jpg', '3090_right.jpg', '3187_left.jpg', '3011_left.jpg', '2423_left.jpg', '2371_right.jpg', '2860_left.jpg', '2443_right.jpg', '3431_left.jpg', '3026_right.jpg', '2609_right.jpg', '3069_right.jpg', '3075_right.jpg', '2940_right.jpg', '2884_right.jpg', '2574_right.jpg', '3306_right.jpg', '1253_left.jpg', '3223_left.jpg', '3441_left.jpg', '3354_left.jpg', '2838_left.jpg', '2794_right.jpg', '2881_right.jpg', '2773_left.jpg', '3183_left.jpg', '2475_left.jpg', '2770_right.jpg', '2743_right.jpg', '2576_right.jpg', '3373_right.jpg', '3062_left.jpg', '2386_left.jpg', '3380_right.jpg', '3424_right.jpg', '3399_right.jpg', '2637_right.jpg', '3203_right.jpg', '4290_right.jpg', '2984_right.jpg', '3051_right.jpg', '2640_right.jpg', '2782_right.jpg', '3177_right.jpg', '2515_left.jpg', '2991_right.jpg', '2427_right.jpg', '2932_left.jpg', '2637_left.jpg', '2892_right.jpg', '2946_left.jpg', '2908_left.jpg', '2524_right.jpg', '2362_left.jpg', '2952_left.jpg', '3318_left.jpg', '2651_right.jpg', '2685_right.jpg', '2971_right.jpg', '3442_right.jpg', '2919_right.jpg', '3114_right.jpg', '2749_left.jpg', '3042_right.jpg', '2446_right.jpg', '3308_left.jpg', '2351_left.jpg', '2777_left.jpg', '3079_right.jpg', '3131_left.jpg', '3253_right.jpg', '2645_left.jpg', '3418_left.jpg', '2967_left.jpg', '3282_right.jpg', '2329_left.jpg', '2331_left.jpg', '3206_left.jpg', '2858_left.jpg', '2657_left.jpg', '2798_left.jpg', '2349_left.jpg', '2838_right.jpg', '2844_right.jpg', '2821_left.jpg', '3179_left.jpg', '2353_right.jpg', '3379_right.jpg', '3304_left.jpg', '2924_right.jpg', '3298_left.jpg', '2510_right.jpg', '2880_left.jpg', '3412_right.jpg', '3444_right.jpg', '2730_left.jpg', '3018_right.jpg', '3264_left.jpg', '2594_left.jpg', '3108_left.jpg', '3306_left.jpg', '2732_right.jpg', '3201_left.jpg', '2881_left.jpg', '2996_right.jpg', '2421_right.jpg', '2653_right.jpg', '2794_left.jpg', '2396_left.jpg', '2587_right.jpg', '2465_right.jpg', '2737_right.jpg', '2780_left.jpg', '3175_left.jpg', '3377_left.jpg', '3181_right.jpg', '2575_right.jpg', '2616_left.jpg', '2533_right.jpg', '2335_right.jpg', '3117_left.jpg', '3108_right.jpg', '2853_right.jpg', '2872_right.jpg', '3238_right.jpg', '3433_right.jpg', '3365_left.jpg', '3058_right.jpg', '2371_left.jpg', '2603_right.jpg', '2680_left.jpg', '2887_left.jpg', '2576_left.jpg', '2826_right.jpg', '2519_right.jpg', '2817_left.jpg', '2507_right.jpg', '3437_left.jpg', '2438_left.jpg', '2349_right.jpg', '939_left.jpg', '2477_left.jpg', '3344_right.jpg', '2334_left.jpg', '3172_right.jpg', '3176_left.jpg', '3124_left.jpg', '2848_left.jpg', '2957_right.jpg', '3169_right.jpg', '3260_left.jpg', '2444_left.jpg', '2798_right.jpg', '3390_left.jpg', '2403_left.jpg', '3169_left.jpg', '2627_right.jpg', '2915_right.jpg', '2883_left.jpg', '2673_right.jpg', '2971_left.jpg', '2907_right.jpg', '3375_left.jpg', '2410_right.jpg', '2542_left.jpg', '2470_left.jpg', '3017_right.jpg', '3004_left.jpg', '2696_left.jpg', '530_right.jpg', '3272_left.jpg', '2334_right.jpg', '3186_right.jpg', '2919_left.jpg', '3311_right.jpg', '2673_left.jpg', '2942_right.jpg', '2609_left.jpg', '3246_left.jpg', '2332_left.jpg', '3414_left.jpg', '2649_right.jpg', '2890_left.jpg', '2570_left.jpg', '3308_right.jpg', '2389_right.jpg', '3172_left.jpg', '2988_left.jpg', '3227_left.jpg', '3304_right.jpg', '2908_right.jpg', '2750_right.jpg', '2942_left.jpg', '3198_left.jpg', '3273_left.jpg', '3059_left.jpg', '3378_right.jpg', '3062_right.jpg', '3407_right.jpg', '3433_left.jpg', '3040_right.jpg', '2432_left.jpg', '2641_right.jpg', '3070_right.jpg', '2586_left.jpg', '3332_right.jpg', '3100_right.jpg', '2518_right.jpg', '3068_left.jpg', '3029_left.jpg', '3243_right.jpg', '3144_left.jpg', '2944_left.jpg', '2586_right.jpg', '2355_left.jpg', '3016_right.jpg', '3295_left.jpg', '3237_left.jpg', '2558_right.jpg', '2650_left.jpg', '3416_right.jpg', '2787_right.jpg', '2517_left.jpg', '2681_right.jpg', '2658_left.jpg', '3207_left.jpg', '3285_right.jpg', '2948_left.jpg', '3446_left.jpg', '2504_right.jpg', '2740_right.jpg', '3198_right.jpg', '1060_left.jpg', '2531_left.jpg', '2335_left.jpg', '2397_right.jpg', '2331_right.jpg', '3008_right.jpg', '3275_right.jpg', '3415_right.jpg', '2695_left.jpg', '951_right.jpg', '2697_right.jpg', '3289_left.jpg', '2915_left.jpg', '3127_right.jpg', '2408_right.jpg', '3387_left.jpg', '2382_right.jpg', '3194_left.jpg', '2862_right.jpg', '3186_left.jpg', '3392_left.jpg', '3037_right.jpg', '2634_right.jpg', '2889_left.jpg', '2878_left.jpg', '3208_left.jpg', '2775_right.jpg', '4637_right.jpg', '3154_left.jpg', '3122_left.jpg', '3300_left.jpg', '2980_right.jpg', '2761_left.jpg', '2974_right.jpg', '3223_right.jpg', '2743_left.jpg', '2712_right.jpg', '2689_right.jpg', '3059_right.jpg', '3044_right.jpg', '3241_left.jpg', '2380_right.jpg', '2512_right.jpg', '3222_left.jpg', '2811_right.jpg', '3445_left.jpg', '2525_right.jpg', '2967_right.jpg', '2886_left.jpg', '3294_right.jpg', '3139_left.jpg', '3203_left.jpg', '2383_right.jpg', '3295_right.jpg', '2508_left.jpg', '3138_left.jpg', '3208_right.jpg', '2633_left.jpg', '3406_right.jpg', '2763_left.jpg', '2399_left.jpg', '3010_right.jpg', '2771_left.jpg', '3420_right.jpg', '3114_left.jpg', '2378_left.jpg', '3153_left.jpg', '3013_left.jpg', '2961_left.jpg', '3124_right.jpg', '3251_left.jpg', '3051_left.jpg', '2512_left.jpg', '2839_left.jpg', '2499_left.jpg', '3029_right.jpg', '2802_left.jpg', '2779_right.jpg', '2768_right.jpg', '3217_left.jpg', '2667_right.jpg', '2657_right.jpg', '2962_right.jpg', '2966_left.jpg', '2556_right.jpg', '2740_left.jpg', '3348_right.jpg', '2363_left.jpg', '3309_right.jpg', '1034_left.jpg', '2638_right.jpg', '3275_left.jpg', '2403_right.jpg', '2710_right.jpg', '2384_right.jpg', '2864_right.jpg', '3291_left.jpg', '695_left.jpg', '2729_left.jpg', '2643_right.jpg', '2950_left.jpg', '2519_left.jpg', '3102_left.jpg', '8_right.jpg', '2610_left.jpg', '2948_right.jpg', '3138_right.jpg', '2773_right.jpg', '3040_left.jpg', '2486_left.jpg', '3419_right.jpg', '2393_left.jpg', '2640_left.jpg', '2750_left.jpg', '3168_left.jpg', '2835_left.jpg', '3050_right.jpg', '3018_left.jpg', '2463_left.jpg', '3145_left.jpg', '2489_right.jpg', '2506_right.jpg', '2633_right.jpg', '2843_right.jpg', '2985_right.jpg', '3109_left.jpg', '3100_left.jpg', '2367_left.jpg', '3245_right.jpg', '2806_right.jpg', '2752_right.jpg', '2764_left.jpg', '2878_right.jpg', '2710_left.jpg', '3131_right.jpg', '2567_right.jpg', '3084_right.jpg', '2820_right.jpg', '3255_left.jpg', '2499_right.jpg', '2849_left.jpg', '3102_right.jpg', '2600_left.jpg', '3097_left.jpg', '2608_right.jpg', '2952_right.jpg', '3063_right.jpg', '3395_left.jpg', '2730_right.jpg', '2846_right.jpg', '2953_right.jpg', '3077_right.jpg', '2483_right.jpg', '3218_right.jpg', '2808_left.jpg', '2408_left.jpg', '2756_right.jpg', '2655_left.jpg', '3164_right.jpg', '3000_left.jpg', '2346_right.jpg', '3204_left.jpg', '2504_left.jpg', '2642_right.jpg', '2587_left.jpg', '2427_left.jpg', '2603_left.jpg', '2841_right.jpg', '2962_left.jpg', '3226_left.jpg', '2527_right.jpg', '2827_right.jpg', '2910_left.jpg', '3123_left.jpg', '2346_left.jpg', '2642_left.jpg', '2708_left.jpg', '3227_right.jpg', '2632_right.jpg', '2677_right.jpg', '2634_left.jpg', '2554_left.jpg', '2415_left.jpg', '2594_right.jpg', '84_left.jpg', '2869_left.jpg', '2797_right.jpg', '2488_right.jpg', '3377_right.jpg', '2645_right.jpg', '2736_left.jpg', '3034_right.jpg', '2690_right.jpg', '3357_right.jpg', '2506_left.jpg', '2834_right.jpg', '2786_right.jpg', '2366_right.jpg', '2556_left.jpg', '2966_right.jpg', '3320_right.jpg', '2675_right.jpg', '3411_left.jpg', '3054_right.jpg', '2470_right.jpg', '2850_right.jpg', '3193_left.jpg', '1253_right.jpg', '3123_right.jpg', '2748_right.jpg', '2726_right.jpg', '2935_left.jpg', '3255_right.jpg', '3013_right.jpg', '3423_left.jpg', '3000_right.jpg', '2372_right.jpg', '2842_left.jpg', '2844_left.jpg', '2369_right.jpg', '2500_left.jpg', '2448_left.jpg', '3110_right.jpg', '2705_right.jpg', '2540_right.jpg', '2892_left.jpg', '2944_right.jpg', '2399_right.jpg', '3044_left.jpg', '2622_left.jpg', '3052_left.jpg', '2911_left.jpg', '3248_right.jpg', '2690_left.jpg', '2602_right.jpg', '2588_left.jpg', '3438_right.jpg', '3237_right.jpg', '2807_left.jpg', '3252_right.jpg', '3221_right.jpg', '2372_left.jpg', '3196_right.jpg', '2812_right.jpg', '2484_right.jpg', '3142_right.jpg', '2897_right.jpg', '2521_right.jpg', '2886_right.jpg', '3321_left.jpg', '3234_left.jpg', '3434_left.jpg', '3359_right.jpg', '2356_right.jpg', '3214_right.jpg', '2540_left.jpg', '3296_left.jpg', '2789_right.jpg', '2329_right.jpg', '3267_left.jpg', '3085_right.jpg', '3094_right.jpg', '2833_left.jpg', '2367_right.jpg', '2535_right.jpg', '2795_right.jpg', '2469_right.jpg', '2699_right.jpg', '3273_right.jpg', '2890_right.jpg', '2517_right.jpg', '2696_right.jpg', '2388_right.jpg', '3352_left.jpg', '2815_right.jpg', '2565_right.jpg', '2826_left.jpg', '3232_right.jpg', '2572_right.jpg', '2708_right.jpg', '3001_left.jpg', '3144_right.jpg', '2662_right.jpg', '2813_left.jpg', '3004_right.jpg', '2496_right.jpg', '2829_left.jpg', '2428_left.jpg', '3117_right.jpg', '2356_left.jpg', '3069_left.jpg', '2996_left.jpg', '3153_right.jpg', '2482_right.jpg', '3009_left.jpg', '2775_left.jpg', '3369_left.jpg', '2833_right.jpg', '939_right.jpg', '3389_right.jpg', '3436_right.jpg', '3020_left.jpg', '2418_right.jpg', '3171_left.jpg', '2481_right.jpg', '2680_right.jpg', '3083_left.jpg', '2354_left.jpg', '3056_right.jpg', '4637_left.jpg', '2991_left.jpg', '3095_right.jpg', '2659_left.jpg', '2777_right.jpg', '2761_right.jpg', '3340_right.jpg', '2383_left.jpg', '3141_right.jpg', '2563_left.jpg', '3017_left.jpg', '3146_right.jpg', '2368_left.jpg', '2456_right.jpg', '2812_left.jpg', '2782_left.jpg', '2577_left.jpg', '2726_left.jpg', '2484_left.jpg', '3343_right.jpg', '3408_right.jpg', '2981_right.jpg', '2707_right.jpg', '2575_left.jpg', '2647_left.jpg', '2853_left.jpg', '1034_right.jpg', '2957_left.jpg', '2542_right.jpg', '3283_left.jpg', '3305_left.jpg', '2486_right.jpg', '2341_right.jpg', '2791_right.jpg', '2410_left.jpg', '3080_left.jpg', '2485_left.jpg', '3066_left.jpg', '2748_left.jpg', '3350_left.jpg', '2837_left.jpg', '2481_left.jpg', '3042_left.jpg', '2599_left.jpg', '3432_left.jpg', '2529_left.jpg', '3442_left.jpg', '2979_right.jpg', '3260_right.jpg', '3098_right.jpg', '3360_right.jpg', '2386_right.jpg', '2456_left.jpg', '3425_right.jpg', '2604_left.jpg', '2531_right.jpg', '2806_left.jpg', '2662_left.jpg', '2652_left.jpg', '3325_left.jpg', '2735_right.jpg', '2677_left.jpg', '3007_right.jpg', '3425_left.jpg', '3341_right.jpg', '2538_left.jpg', '2732_left.jpg', '3309_left.jpg', '2950_right.jpg', '2435_right.jpg', '2598_left.jpg', '2507_left.jpg', '2787_left.jpg', '3187_right.jpg', '2911_right.jpg', '3364_right.jpg', '3355_right.jpg', '2501_left.jpg', '2789_left.jpg', '2572_left.jpg', '2363_right.jpg', '3150_right.jpg', '2910_right.jpg', '3191_right.jpg', '3094_left.jpg', '2728_right.jpg', '3080_right.jpg', '2547_left.jpg', '2702_right.jpg', '2585_right.jpg', '3305_right.jpg', '2478_left.jpg', '2697_left.jpg', '3428_right.jpg', '2565_left.jpg', '3063_left.jpg', '2661_left.jpg', '3090_left.jpg', '2441_left.jpg', '3403_left.jpg', '2933_left.jpg', '2641_left.jpg', '2564_left.jpg', '3355_left.jpg', '2672_left.jpg', '2377_left.jpg', '3414_right.jpg', '3209_right.jpg', '2488_left.jpg', '2688_right.jpg', '2362_right.jpg', '3054_left.jpg', '3417_left.jpg', '3064_left.jpg', '3266_right.jpg', '3184_right.jpg', '2933_right.jpg', '2527_left.jpg', '2852_left.jpg', '2419_left.jpg', '2755_left.jpg', '3109_right.jpg', '2768_left.jpg', '3391_right.jpg', '3207_right.jpg', '2718_left.jpg', '2704_left.jpg', '3448_right.jpg', '3072_right.jpg', '2688_left.jpg', '2780_right.jpg', '3139_right.jpg', '2709_right.jpg', '2415_right.jpg', '3383_right.jpg', '2728_left.jpg', '3188_left.jpg', '3271_right.jpg', '2508_right.jpg', '2659_right.jpg', '2649_left.jpg', '2397_left.jpg', '3259_right.jpg', '3358_left.jpg', '2438_right.jpg', '2591_right.jpg', '2857_right.jpg', '3408_left.jpg', '3397_left.jpg', '2443_left.jpg', '2394_left.jpg', '2807_right.jpg', '3056_left.jpg', '2872_left.jpg', '3141_left.jpg', '3194_right.jpg', '2767_left.jpg', '3008_left.jpg', '2548_right.jpg', '2525_left.jpg', '2975_right.jpg', '2332_right.jpg', '2821_right.jpg', '2851_right.jpg', '3175_right.jpg', '3052_right.jpg', '2827_left.jpg', '2624_right.jpg', '2974_left.jpg', '2857_left.jpg', '2580_right.jpg', '3173_right.jpg', '2598_right.jpg', '2368_right.jpg', '2426_left.jpg', '2862_left.jpg', '2779_left.jpg', '3324_left.jpg', '2475_right.jpg', '3263_left.jpg', '3010_left.jpg', '3122_right.jpg', '3193_right.jpg', '3324_right.jpg', '3098_left.jpg', '3142_left.jpg', '3157_right.jpg', '2602_left.jpg', '3026_left.jpg', '2713_left.jpg', '3083_right.jpg', '2588_right.jpg', '2835_right.jpg', '2599_right.jpg', '3034_left.jpg', '2822_right.jpg', '2897_left.jpg', '2883_right.jpg', '2600_right.jpg', '2767_right.jpg', '2848_right.jpg', '2365_right.jpg', '2569_left.jpg', '2961_right.jpg', '3113_left.jpg', '3192_left.jpg', '2791_left.jpg', '2493_right.jpg', '3188_right.jpg', '2463_right.jpg', '695_right.jpg', '3363_right.jpg', '3242_left.jpg', '3392_right.jpg', '3432_right.jpg', '2382_left.jpg', '2685_left.jpg', '2988_right.jpg', '2808_right.jpg', '3038_right.jpg', '3240_right.jpg', '2548_left.jpg', '2355_right.jpg', '2882_right.jpg', '3404_left.jpg', '3244_right.jpg', '2858_right.jpg', '2839_right.jpg', '3016_left.jpg', '2650_right.jpg', '3359_left.jpg', '2624_left.jpg', '3363_left.jpg', '2597_right.jpg', '2354_right.jpg', '2583_right.jpg', '3390_right.jpg', '2841_left.jpg', '3330_left.jpg', '3426_right.jpg', '2699_left.jpg', '2432_right.jpg', '2815_left.jpg', '2653_left.jpg', '2795_left.jpg', '2418_left.jpg', '2597_left.jpg', '3405_right.jpg', '2617_left.jpg', '2419_right.jpg', '2689_left.jpg', '2755_right.jpg', '2713_right.jpg', '2359_right.jpg', '2817_right.jpg', '2400_right.jpg', '2378_right.jpg', '2564_right.jpg', '2846_left.jpg', '3382_left.jpg', '2616_right.jpg', '3357_left.jpg', '3289_right.jpg', '3072_left.jpg', '3020_right.jpg', '2907_left.jpg', '2574_left.jpg', '2591_left.jpg', '2345_right.jpg', '3358_right.jpg', '2485_right.jpg', '2935_right.jpg', '2365_left.jpg', '3376_left.jpg', '3417_right.jpg', '3038_left.jpg', '3064_right.jpg', '3312_left.jpg', '3367_right.jpg', '3356_left.jpg', '2543_right.jpg', '2380_left.jpg', '2437_left.jpg', '3291_right.jpg', '2834_left.jpg', '1060_right.jpg', '2992_left.jpg', '2384_left.jpg', '2446_left.jpg', '3356_right.jpg', '2518_left.jpg', '3095_left.jpg', '2441_right.jpg', '2820_left.jpg', '2622_right.jpg', '2655_right.jpg', '2558_left.jpg', '3243_left.jpg', '2651_left.jpg', '2842_right.jpg', '3155_left.jpg', '3381_left.jpg', '3352_right.jpg', '2940_left.jpg', '2388_left.jpg', '2852_right.jpg', '3252_left.jpg', '3221_left.jpg', '2764_right.jpg', '3317_left.jpg', '2869_right.jpg', '2521_left.jpg', '3367_left.jpg', '3422_right.jpg', '2658_right.jpg', '2617_right.jpg', '3127_left.jpg', '2554_right.jpg', '2749_right.jpg', '3025_left.jpg', '2763_right.jpg', '3079_left.jpg', '3420_left.jpg', '2493_left.jpg', '3415_left.jpg', '2790_right.jpg', '2437_right.jpg', '3119_left.jpg', '3422_left.jpg', '3068_right.jpg', '2393_right.jpg', '3066_right.jpg', '2351_right.jpg', '2538_right.jpg', '2577_right.jpg', '2790_left.jpg', '3257_right.jpg', '3446_right.jpg', '2931_left.jpg', '3215_right.jpg', '2573_right.jpg', '2423_right.jpg', '3424_left.jpg', '2395_right.jpg', '3398_left.jpg', '2589_right.jpg', '2341_left.jpg', '3315_right.jpg', '2500_right.jpg', '2570_right.jpg', '3212_left.jpg', '2953_left.jpg', '3001_right.jpg', '3050_left.jpg', '2822_left.jpg', '2466_right.jpg', '3274_left.jpg', '2501_right.jpg', '2632_left.jpg', '3249_right.jpg', '3330_right.jpg', '3025_right.jpg', '3234_right.jpg', '2482_left.jpg', '2661_right.jpg', '3412_left.jpg', '2709_left.jpg', '2735_left.jpg', '2583_left.jpg', '2426_right.jpg', '951_left.jpg', '2569_right.jpg', '3244_left.jpg', '3443_left.jpg', '3329_right.jpg', '2369_left.jpg', '2843_left.jpg', '2707_left.jpg', '2444_right.jpg', '3287_right.jpg', '2882_left.jpg', '2638_left.jpg', '2981_left.jpg', '2345_left.jpg', '2627_left.jpg', '3110_left.jpg', '2681_left.jpg', '2889_right.jpg', '3421_left.jpg', '3307_right.jpg', '2695_right.jpg', '2660_right.jpg', '3405_left.jpg', '2643_left.jpg', '2529_right.jpg', '2705_left.jpg', '3097_right.jpg', '2860_right.jpg', '2573_left.jpg', '3353_left.jpg', '2396_right.jpg', '530_left.jpg', '2395_left.jpg', '3410_left.jpg', '3319_right.jpg', '3431_right.jpg', '3184_left.jpg', '3196_left.jpg', '2359_left.jpg', '3157_left.jpg', '2979_left.jpg', '2675_left.jpg', '3430_left.jpg', '3399_left.jpg', '3214_left.jpg', '2421_left.jpg', '2884_left.jpg', '2924_left.jpg', '3256_right.jpg', '2802_right.jpg', '3485_left.jpg', '3388_left.jpg', '2422_right.jpg', '2742_left.jpg', '3232_left.jpg', '2887_right.jpg', '2770_left.jpg', '2829_right.jpg', '3155_right.jpg', '3176_right.jpg', '2652_right.jpg', '3070_left.jpg', '2563_right.jpg', '2543_left.jpg', '2394_right.jpg', '3166_right.jpg', '3290_right.jpg', '2466_left.jpg', '3200_left.jpg', '84_right.jpg', '2786_left.jpg', '2604_right.jpg', '3226_right.jpg', '2712_left.jpg']\n",
            "['_200_9649683.jpg', '_339_9106724.jpg', '_353_3624065.jpg', '_197_5321234.jpg', '_308_4657236.jpg', '2129_left.jpg', '2117_left.jpg', '2109_right.jpg', '2210_right.jpg', '_233_9763374.jpg', '_140_1534199.jpg', '_54_2420057.jpg', '2192_right.jpg', '_208_168871.jpg', '_236_9551809.jpg', '_292_4314144.jpg', '_214_5569507.jpg', '_218_687151.jpg', '_78_267330.jpg', '2198_right.jpg', '1968_left.jpg', '_45_6457682.jpg', '1144_left.jpg', 'cataract_036.png', '2157_right.jpg', '_310_7977481.jpg', '_6_4834075.jpg', '_26_1879474.jpg', '_391_3026815.jpg', '_378_7653956.jpg', '_221_6907746.jpg', '_78_8248707.jpg', '2096_right.jpg', '_37_8896673.jpg', '_65_5167591.jpg', '2192_left.jpg', '1126_right.jpg', '_370_5205357.jpg', '_226_4234312.jpg', '1444_left.jpg', '_243_5311552.jpg', '1415_left.jpg', '2129_right.jpg', 'cataract_071.png', '_105_5646774.jpg', 'cataract_096.png', '_326_1274700.jpg', '2174_right.jpg', '_394_1321417.jpg', '1083_left.jpg', 'cataract_030.png', '_245_498355.jpg', '_49_7277741.jpg', '_175_2515467.jpg', '2127_right.jpg', 'cataract_091.png', '_301_5387162.jpg', '_202_4720633.jpg', '2232_right.jpg', '_77_938150.jpg', '970_right.jpg', '2111_left.jpg', '_389_2605189.jpg', '_176_7840976.jpg', '2120_left.jpg', 'cataract_043.png', '_189_5910645.jpg', '1084_right.jpg', 'cataract_003.png', '_258_1685319.jpg', '_110_5076150.jpg', '625_right.jpg', '_323_2492245.jpg', '2163_right.jpg', '2207_left.jpg', '2220_right.jpg', '_326_3940502.jpg', '_268_8496846.jpg', '_217_6662129.jpg', 'cataract_045.png', 'cataract_016.png', '_287_8846352.jpg', '2169_right.jpg', '_184_5733369.jpg', '2108_right.jpg', '2218_right.jpg', '_187_1814280.jpg', '_275_3439882.jpg', '_183_2869065.jpg', 'cataract_029.png', '_336_8535989.jpg', '_141_3457945.jpg', '_352_2938767.jpg', '_31_8523261.jpg', '_298_9693365.jpg', '2157_left.jpg', 'cataract_052.png', '_244_5451565.jpg', '81_right.jpg', '_341_8692985.jpg', '2132_left.jpg', '2103_right.jpg', 'cataract_089.png', '_41_6704276.jpg', '2171_left.jpg', '2185_left.jpg', '2135_left.jpg', '_208_2337200.jpg', '2150_left.jpg', '_153_5085382.jpg', '2246_left.jpg', '2105_right.jpg', '_112_3727502.jpg', '2149_right.jpg', '_229_5185520.jpg', '_247_7009710.jpg', '_335_9176239.jpg', 'cataract_046.png', '_377_1993330.jpg', '_252_4692803.jpg', '_141_9740629.jpg', '_212_8423506.jpg', '2163_left.jpg', '_163_6585488.jpg', '2098_left.jpg', 'cataract_028.png', '_63_4246818.jpg', '2114_right.jpg', '_143_1247400.jpg', '_294_2444042.jpg', '_390_1354382.jpg', '_138_1949117.jpg', '_387_449073.jpg', '2198_left.jpg', '_211_3296609.jpg', '553_right.jpg', '_144_4907178.jpg', '_241_7236668.jpg', '_190_3033991.jpg', '_261_1001819.jpg', '_207_6945490.jpg', 'cataract_086.png', 'cataract_070.png', '_72_8796984.jpg', '_314_8935717.jpg', '_160_9986895.jpg', '2262_left.jpg', '_380_7004130.jpg', '_163_2414975.jpg', '_84_9231607.jpg', '_388_2242538.jpg', 'cataract_015.png', '_324_9920354.jpg', '_71_7808711.jpg', '2099_left.jpg', 'cataract_053.png', 'cataract_094.png', '_267_6890587.jpg', '_172_4553386.jpg', '_399_6667595.jpg', 'cataract_044.png', '_313_6548836.jpg', '2104_left.jpg', '_295_558295.jpg', '_228_2229739.jpg', '_342_2775386.jpg', '_221_9234991.jpg', '_375_9227285.jpg', '_13_3987009.jpg', '_32_9062172.jpg', '_335_2109396.jpg', 'cataract_064.png', '_385_4113427.jpg', '_207_8213037.jpg', '_356_8261086.jpg', '_252_5300307.jpg', '_36_1799809.jpg', '_305_9499345.jpg', 'cataract_038.png', 'cataract_054.png', '_212_7340392.jpg', '_330_5478095.jpg', '2221_right.jpg', '2144_left.jpg', '_379_8385603.jpg', '2122_left.jpg', '_345_8957256.jpg', '_195_1750450.jpg', '_306_8888195.jpg', '_340_3239094.jpg', 'cataract_042.png', '_57_8463167.jpg', '_190_7244239.jpg', '2237_right.jpg', '_154_6316287.jpg', '_99_746342.jpg', '_312_2776118.jpg', '_228_4231065.jpg', '_1_5346540.jpg', '_297_3925010.jpg', '_173_9178799.jpg', '_204_5979635.jpg', '2100_right.jpg', '_227_498752.jpg', '_381_6039460.jpg', '2212_left.jpg', '_104_4607170.jpg', '_270_651748.jpg', '2135_right.jpg', '_50_1920746.jpg', '_274_6913203.jpg', '_159_1399279.jpg', '_168_4661031.jpg', '2234_left.jpg', '_328_3269333.jpg', '2130_left.jpg', '_277_9501088.jpg', 'cataract_076.png', '2142_right.jpg', '_316_2112344.jpg', '_373_4029422.jpg', '2182_right.jpg', '2173_right.jpg', 'cataract_050.png', '_172_1350351.jpg', 'cataract_057.png', '2187_right.jpg', '1490_right.jpg', '_224_4837152.jpg', '_307_2047689.jpg', '2170_right.jpg', '2113_left.jpg', '_315_1312896.jpg', '_295_8218216.jpg', '2137_left.jpg', '2180_left.jpg', '_168_2726147.jpg', '2126_left.jpg', '2195_right.jpg', '2205_right.jpg', 'cataract_012.png', '_198_3243264.jpg', '_69_4758198.jpg', '294_left.jpg', '_56_3359017.jpg', '_304_4376168.jpg', 'cataract_095.png', '_125_6571967.jpg', '_253_1359558.jpg', '2097_right.jpg', '_386_4269538.jpg', '809_left.jpg', 'cataract_058.png', '_68_132563.jpg', '2128_right.jpg', '2247_right.jpg', '2227_left.jpg', '_108_750835.jpg', '_46_4314985.jpg', '_350_1666948.jpg', '_24_8522038.jpg', 'cataract_031.png', '_347_7413999.jpg', '_71_5079718.jpg', '_289_7475172.jpg', '2127_left.jpg', '2147_left.jpg', '2159_left.jpg', '_174_1289707.jpg', '_176_2398738.jpg', '_150_2517277.jpg', '2227_right.jpg', '_250_4727436.jpg', 'cataract_013.png', '_366_983964.jpg', '_146_4268935.jpg', '_356_7744260.jpg', '_380_8765246.jpg', '2152_left.jpg', 'cataract_065.png', '_170_4585047.jpg', '_108_8917257.jpg', 'cataract_018.png', '2231_right.jpg', '_346_6209704.jpg', '_60_2561089.jpg', '_57_3959793.jpg', '2140_left.jpg', '625_left.jpg', '_95_592187.jpg', '24_right.jpg', '_295_4841360.jpg', '_157_8093661.jpg', '_58_7683562.jpg', '_185_7271854.jpg', '_47_4608506.jpg', '_68_6182618.jpg', 'cataract_068.png', '970_left.jpg', '_282_3503490.jpg', '_144_7061237.jpg', '_269_2821321.jpg', '_129_5296959.jpg', '2154_left.jpg', '_79_1123955.jpg', '_17_6538881.jpg', '_148_6795884.jpg', '_206_4468888.jpg', '611_left.jpg', '_290_9207731.jpg', '2138_left.jpg', '_61_3633947.jpg', '_179_3417628.jpg', '2240_left.jpg', '_288_8210584.jpg', 'cataract_021.png', '2184_left.jpg', '_102_1024926.jpg', '_241_6604562.jpg', '_227_1163752.jpg', '_239_3022913.jpg', '2221_left.jpg', '999_right.jpg', '_101_5139882.jpg', '_44_8713938.jpg', '_31_5635423.jpg', '_98_9687825.jpg', 'cataract_014.png', '2140_right.jpg', 'cataract_008.png', '_81_5591649.jpg', '2219_right.jpg', '2160_right.jpg', 'cataract_007.png', '1102_right.jpg', 'cataract_006.png', '_358_2608507.jpg', 'cataract_060.png', '2126_right.jpg', '_371_8717830.jpg', '_7_2330751.jpg', '_201_2875079.jpg', '_113_1734230.jpg', '2164_right.jpg', '2124_left.jpg', '_353_8002933.jpg', '_118_6296686.jpg', '_264_4584815.jpg', '_366_1717014.jpg', '_368_3722136.jpg', 'cataract_026.png', '_281_5275221.jpg', '_293_1732996.jpg', '_193_6483689.jpg', '_283_6068531.jpg', '_24_6096407.jpg', '_362_9739218.jpg', '_378_2183024.jpg', '_62_4386293.jpg', '2197_right.jpg', '_18_952924.jpg', '2208_right.jpg', '2196_right.jpg', '2052_left.jpg', '1164_left.jpg', '2153_left.jpg', 'cataract_047.png', 'cataract_082.png', '2235_left.jpg', '2130_right.jpg', '_164_4857097.jpg', '_319_3184825.jpg', '2223_right.jpg', '_272_7270483.jpg', '254_left.jpg', '_121_5210506.jpg', '_93_7584804.jpg', 'cataract_079.png', '_114_3613830.jpg', '949_right.jpg', '_390_5561281.jpg', '_170_5458800.jpg', '_285_4325184.jpg', '_135_7789155.jpg', '_2_5883027.jpg', '1415_right.jpg', '_213_1709362.jpg', '_8_7059542.jpg', 'cataract_041.png', '_289_683957.jpg', '_72_6009084.jpg', '_20_6629557.jpg', '_127_2102071.jpg', '2229_left.jpg', 'cataract_078.png', '_372_5630593.jpg', '_158_2964657.jpg', '_251_1089143.jpg', '_332_7698256.jpg', '_182_9646286.jpg', '_325_168910.jpg', '1102_left.jpg', '_23_4636959.jpg', '2095_right.jpg', '_89_2075481.jpg', '_370_1424453.jpg', '_32_9153320.jpg', '_392_3084035.jpg', '_232_6943070.jpg', '594_left.jpg', 'cataract_033.png', '_265_7470675.jpg', '2225_left.jpg', '_330_7361630.jpg', '_237_9130201.jpg', '2242_right.jpg', '_248_8765348.jpg', 'cataract_039.png', '_126_4964568.jpg', '_360_3983039.jpg', '2206_left.jpg', '_398_8365643.jpg', 'cataract_023.png', '_61_2475173.jpg', '_243_1070648.jpg', '_322_2685252.jpg', '_216_7774590.jpg', '_143_9392801.jpg', '2121_left.jpg', '_334_1360238.jpg', '820_left.jpg', '_171_5903297.jpg', '2138_right.jpg', '_116_4683353.jpg', '1285_left.jpg', '_222_7343969.jpg', '_398_329081.jpg', '_66_625523.jpg', '_364_9397731.jpg', '2161_right.jpg', '_135_5639464.jpg', '_29_5190417.jpg', '2189_left.jpg', '_214_267241.jpg', '_362_4801225.jpg', '2219_left.jpg', '_17_1497593.jpg', '_55_8463221.jpg', '_39_9762209.jpg', '_157_2679833.jpg', '218_right.jpg', '2106_right.jpg', '_151_4262050.jpg', 'cataract_051.png', 'cataract_005.png', '_133_1300923.jpg', '_91_7118539.jpg', '2217_right.jpg', '_81_6384668.jpg', '2211_left.jpg', '_284_7380745.jpg', '_343_2631213.jpg', '_90_4763455.jpg', '_267_7559168.jpg', '2101_left.jpg', '_109_2655056.jpg', '_23_9533792.jpg', '2194_right.jpg', '2236_left.jpg', '_382_1061054.jpg', '_191_9356535.jpg', '_73_1828688.jpg', '2204_left.jpg', '_280_7714585.jpg', '_19_9976222.jpg', '560_left.jpg', '_292_8455118.jpg', '_264_422425.jpg', '_22_9724179.jpg', '_257_9976187.jpg', '_329_5467190.jpg', '560_right.jpg', '_358_1004212.jpg', '2233_right.jpg', 'cataract_059.png', '_375_8898265.jpg', '_77_2197698.jpg', '_344_5181730.jpg', '2156_left.jpg', '_318_4106741.jpg', '2134_left.jpg', '_187_5549549.jpg', '_319_3822227.jpg', '_400_7969437.jpg', '2143_right.jpg', '_260_4628277.jpg', '2183_right.jpg', 'cataract_040.png', '2122_right.jpg', '_337_6800255.jpg', '_96_5515894.jpg', '_245_5686342.jpg', '_67_2701502.jpg', '874_left.jpg', '2233_left.jpg', '_176_4641501.jpg', '_263_7022799.jpg', '2206_right.jpg', '_321_6270889.jpg', '_175_4238344.jpg', '_63_7923836.jpg', '0_left.jpg', '_101_709333.jpg', '_242_7073642.jpg', '2162_right.jpg', '_4_7491150.jpg', '_130_3561448.jpg', '1987_left.jpg', '1484_left.jpg', '_85_5757077.jpg', '_86_8666413.jpg', '_352_5217565.jpg', '_184_5953446.jpg', '_283_4908640.jpg', '_307_7425412.jpg', '_338_6734383.jpg', '1167_right.jpg', '2146_left.jpg', '2181_left.jpg', '_38_5463921.jpg', '2125_left.jpg', '_74_5402652.jpg', '_159_5245707.jpg', '_180_5849178.jpg', '2216_left.jpg', 'cataract_049.png', '2145_left.jpg', '2158_left.jpg', '_163_6979961.jpg', '_14_7805520.jpg', '_97_761368.jpg', '_124_496149.jpg', '345_right.jpg', '_262_7895370.jpg', '2184_right.jpg', '2115_right.jpg', '_156_6418009.jpg', '_16_8423210.jpg', '2199_left.jpg', '2209_left.jpg', '_315_3140714.jpg', '_44_6970984.jpg', '_54_6540326.jpg', '_142_7918627.jpg', 'cataract_017.png', '2155_right.jpg', '_321_2144914.jpg', '_259_2170334.jpg', '_245_789720.jpg', '_203_6969732.jpg', '_76_3327192.jpg', '_332_5964742.jpg', '_82_1805923.jpg', '_155_2004552.jpg', '_6_6261868.jpg', '_150_8876899.jpg', '2217_left.jpg', '2180_right.jpg', '_397_8948757.jpg', '_183_2695432.jpg', 'cataract_037.png', '_273_9043733.jpg', 'cataract_077.png', '_299_8679417.jpg', '_255_7810419.jpg', '2203_left.jpg', '_331_2978484.jpg', '2107_left.jpg', '_230_9762004.jpg', '_25_4707227.jpg', '_30_8983681.jpg', '_332_9730811.jpg', '_159_8564797.jpg', '_22_2368616.jpg', 'cataract_092.png', 'cataract_085.png', '1483_right.jpg', '_365_8356754.jpg', '2128_left.jpg', '_257_8575584.jpg', '_234_579953.jpg', '_149_9419457.jpg', '2169_left.jpg', '2052_right.jpg', 'cataract_098.png', '2193_right.jpg', '_298_5577948.jpg', 'cataract_088.png', '_350_7541734.jpg', '2234_right.jpg', '_100_334408.jpg', '_355_6490108.jpg', '2247_left.jpg', '_162_3770706.jpg', '_381_5407671.jpg', '_117_6521529.jpg', 'cataract_055.png', '_178_8645920.jpg', '_247_9509040.jpg', '465_left.jpg', '2210_left.jpg', '_18_3816222.jpg', '2209_right.jpg', '_64_2615880.jpg', '2109_left.jpg', '2178_right.jpg', '_279_4656331.jpg', 'cataract_069.png', '_368_8153741.jpg', '_365_6266228.jpg', '2104_right.jpg', '2226_left.jpg', '_209_4208693.jpg', 'cataract_020.png', '_21_8755311.jpg', '_64_5229674.jpg', '2153_right.jpg', 'cataract_061.png', '2120_right.jpg', 'cataract_100.png', '_107_5060742.jpg', '_137_7856304.jpg', '1994_left.jpg', '_147_3796034.jpg', 'cataract_022.png', '_21_4533748.jpg', '2225_right.jpg', '_10_3215668.jpg', '_34_2026427.jpg', '2110_left.jpg', '2113_right.jpg', '_273_7267841.jpg', '_258_9144081.jpg', '2139_right.jpg', 'cataract_062.png', '_46_7308563.jpg', '2226_right.jpg', '_323_1448180.jpg', '_130_7837321.jpg', '2215_left.jpg', '_145_6931784.jpg', '2108_left.jpg', '_271_8355519.jpg', '_1_7703314.jpg', '_162_3096677.jpg', '_270_9344899.jpg', '2146_right.jpg', '2242_left.jpg', '2134_right.jpg', 'cataract_009.png', '_158_6990173.jpg', '2239_left.jpg', '_204_6939524.jpg', '2223_left.jpg', '_396_6097231.jpg', '2133_right.jpg', '_256_5928804.jpg', '_367_9940827.jpg', 'cataract_063.png', '_80_2744347.jpg', '2110_right.jpg', '_211_9288352.jpg', '2239_right.jpg', '_219_4968838.jpg', '_392_7918570.jpg', '_312_2543225.jpg', '2282_right.jpg', '_146_5945090.jpg', '2222_left.jpg', '_400_7591244.jpg', '_119_6929742.jpg', '2189_right.jpg', '_27_6695157.jpg', '_300_1946959.jpg', '2155_left.jpg', '2166_left.jpg', '_359_6265965.jpg', '_359_2555267.jpg', '2213_left.jpg', '_35_3480407.jpg', '_292_2084855.jpg', '2172_left.jpg', '_12_5233869.jpg', '_115_1763401.jpg', '_122_7237312.jpg', '_374_8613138.jpg', 'cataract_032.png', '_131_7587386.jpg', '_238_5389628.jpg', '_66_9729796.jpg', 'cataract_072.png', '477_left.jpg', '_268_113112.jpg', '_70_3464173.jpg', '_294_4497450.jpg', '_149_3115900.jpg', '_333_4052700.jpg', '_90_3742626.jpg', '2167_right.jpg', '_144_6424765.jpg', '2116_right.jpg', '_203_3825515.jpg', '_363_2736933.jpg', '_132_7102134.jpg', '_28_8675632.jpg', '2164_left.jpg', '726_left.jpg', '_185_1841552.jpg', '_11_7158929.jpg', '_89_6878178.jpg', '_172_5595526.jpg', '_263_9418780.jpg', '_314_8133392.jpg', '_89_450120.jpg', '_305_58584.jpg', '_3_4674992.jpg', '2190_right.jpg', '_62_4939088.jpg', 'cataract_027.png', '1456_left.jpg', '726_right.jpg', '999_left.jpg', '_37_7526265.jpg', '1144_right.jpg', '_347_6987666.jpg', '112_right.jpg', '1468_left.jpg', '_114_5711178.jpg', '2176_left.jpg', '2251_right.jpg', '_134_4903477.jpg', '_128_4502689.jpg', '2211_right.jpg', '_254_1206508.jpg', '2194_left.jpg', '_121_3847336.jpg', '1435_left.jpg', '_384_4668888.jpg', '2244_right.jpg', '_5_9005506.jpg', '_23_5187079.jpg', '_52_7569766.jpg', '2103_left.jpg', '_120_3067914.jpg', '_189_1773149.jpg', '_186_7038738.jpg', 'cataract_099.png', '_376_9321900.jpg', '2170_left.jpg', '_238_358899.jpg', '_369_7001529.jpg', 'cataract_019.png', '_92_5284437.jpg', '2178_left.jpg', '_161_3798587.jpg', '_105_5956883.jpg', '2074_right.jpg', '_218_2512305.jpg', '_80_8675414.jpg', '_230_7976367.jpg', '1454_right.jpg', '2101_right.jpg', '_197_2029104.jpg', '_131_863673.jpg', '_317_4205093.jpg', '_195_3247880.jpg', '_249_4807123.jpg', '_217_8865645.jpg', '553_left.jpg', '_326_3620282.jpg', '_302_3915909.jpg', '_395_8303850.jpg', '_86_4443360.jpg', '_210_8722439.jpg', '_39_9936846.jpg', '_70_6811978.jpg', '_209_2468249.jpg', '_88_7869628.jpg', '_49_2405371.jpg', '_4_1244424.jpg', '2182_left.jpg', 'cataract_083.png', '1460_right.jpg', '2133_left.jpg', '_41_7645755.jpg', '_2_8900343.jpg', '_182_8895927.jpg', '_205_1775772.jpg', '_111_9826667.jpg', '_173_6477739.jpg', 'cataract_073.png', '_266_5676850.jpg', '_7_1388234.jpg', '_235_2122461.jpg', '_287_401023.jpg', '188_right.jpg', '_120_2375814.jpg', '2116_left.jpg', '955_right.jpg', '1484_right.jpg', '_154_1054490.jpg', '_363_7332544.jpg', '_276_1796806.jpg', '_16_1907643.jpg', '_309_9754398.jpg', '2200_left.jpg', '_51_7561724.jpg', '_383_4165819.jpg', '_114_9773152.jpg', '2176_right.jpg', '_237_8444315.jpg', '_166_7102152.jpg', '_251_6299381.jpg', '2177_right.jpg', '_36_5599796.jpg', '_181_5482893.jpg', '907_left.jpg', '_160_9941636.jpg', '_262_2214906.jpg', '_240_4981563.jpg', '2168_right.jpg', '_126_1745653.jpg', '_302_822867.jpg', 'cataract_093.png', '81_left.jpg', '2151_right.jpg', '477_right.jpg', '_279_2310498.jpg', '_180_8003252.jpg', '_231_3245768.jpg', '_391_2115124.jpg', '_248_3607543.jpg', '_354_5293531.jpg', '_109_2006348.jpg', '_42_7486921.jpg', '2195_left.jpg', '_49_1539697.jpg', '_88_1858467.jpg', '_201_841062.jpg', '_167_2873590.jpg', '_52_3704655.jpg', 'cataract_025.png', '_351_5778657.jpg', '2141_right.jpg', '_345_2495680.jpg', '_333_2805221.jpg', '_259_9554919.jpg', '_286_6140741.jpg', '2191_right.jpg', '_379_3919297.jpg', '_59_8958387.jpg', '_320_6448598.jpg', '_147_3710804.jpg', '_34_2290989.jpg', '_278_8657701.jpg', '_62_9491665.jpg', '_90_4479779.jpg', '2232_left.jpg', '_97_6398110.jpg', '2241_left.jpg', '_206_6210252.jpg', '_277_8311217.jpg', '_177_2299576.jpg', '_15_7471583.jpg', '824_left.jpg', '_115_6901151.jpg', 'cataract_084.png', 'cataract_035.png', '2150_right.jpg', '_361_2261122.jpg', '_102_3990401.jpg', '_112_9621689.jpg', '_59_2574195.jpg', 'cataract_056.png', '_199_2279189.jpg', '_348_8120738.jpg', '_246_8777337.jpg', '750_left.jpg', '_50_3163122.jpg', '_270_58393.jpg', '2212_right.jpg', '_194_6438145.jpg', '_48_1110786.jpg', 'cataract_090.png', '2179_right.jpg', '_188_5482423.jpg', 'cataract_002.png', '_196_4818116.jpg', '_223_4290439.jpg', 'cataract_001.png', '_53_8912600.jpg', '_220_2113285.jpg', '2175_left.jpg', '2183_left.jpg', '_367_2864412.jpg', '_87_635890.jpg', '_48_7953833.jpg', '_334_6427863.jpg', '_361_423366.jpg', '_42_9949990.jpg', '_329_4545620.jpg', '_291_9986876.jpg', '2123_left.jpg', '_193_4841605.jpg', '2158_right.jpg', '1452_left.jpg', '_69_3198217.jpg', '_396_4783302.jpg', '_33_692344.jpg', 'cataract_075.png', '_254_9630074.jpg', '_75_6801378.jpg', '2181_right.jpg', '_0_4015166.jpg', '103_left.jpg', '691_left.jpg', '_103_5897328.jpg', '2165_right.jpg', '_253_643151.jpg', '_225_8520.jpg', '_171_4298450.jpg', '2240_right.jpg', '_60_7070159.jpg', '_311_4402042.jpg', '_192_7851600.jpg', 'cataract_066.png', '_40_3866061.jpg', '_113_2699140.jpg', 'cataract_097.png', '2203_right.jpg', '_174_2373322.jpg', '2243_right.jpg', '_233_8101340.jpg', '_170_1001041.jpg', '_238_9445598.jpg', '_30_4231084.jpg', '2228_right.jpg', 'cataract_011.png', '_152_9176638.jpg', '_26_2782553.jpg', 'cataract_080.png', '2136_left.jpg', '_215_3764172.jpg', '_119_9887385.jpg', '2142_left.jpg', '_327_3715152.jpg', '_351_7651498.jpg', '_394_4972049.jpg', '_374_3493833.jpg', '_296_3277370.jpg', '_129_3024383.jpg', 'cataract_087.png', '2114_left.jpg', '_139_583821.jpg', '330_left.jpg', '_152_8894820.jpg', '_40_4103987.jpg', '2236_right.jpg', '_106_5284713.jpg', '2246_right.jpg', 'cataract_081.png', 'cataract_074.png', '2098_right.jpg', 'cataract_034.png', '_288_9182789.jpg', '119_left.jpg', '2168_left.jpg', 'cataract_010.png', '448_left.jpg', 'cataract_067.png', '2167_left.jpg', '2144_right.jpg', '_169_5886938.jpg', '2118_right.jpg', '_272_4578328.jpg', '_357_8304812.jpg', '_269_5232883.jpg', '_2_1600849.jpg', '_198_3804403.jpg', '_165_8028203.jpg', '_224_4070697.jpg', '2179_left.jpg', 'cataract_024.png', '_314_3594023.jpg', '_136_4030185.jpg', '_43_5838123.jpg', '_196_6946219.jpg', '_166_6232447.jpg', '2248_left.jpg', 'cataract_004.png', '2216_right.jpg', '_393_746807.jpg', '769_right.jpg', '_94_5517058.jpg', '1115_left.jpg', '2213_right.jpg', '2137_right.jpg', '_349_4292233.jpg', '_123_8135331.jpg', '_67_7544085.jpg', '629_left.jpg', '_280_4533213.jpg', '_227_9889754.jpg', '_151_5293593.jpg', '2151_left.jpg', '_9_1244013.jpg', '_282_3209093.jpg', '2201_right.jpg', '_349_2751142.jpg', '_274_8144937.jpg', '_303_1474676.jpg', '_198_6027510.jpg', '354_right.jpg', '_242_3038184.jpg', '_244_3481752.jpg', '_311_3993772.jpg', '2248_right.jpg', '_85_2405112.jpg', '_278_248700.jpg', '2207_right.jpg', 'cataract_048.png', '2119_right.jpg', '2243_left.jpg', '2105_left.jpg', '_96_6290965.jpg', '_83_8570399.jpg', '_181_2009794.jpg', '1062_right.jpg']\n"
          ]
        }
      ]
    },
    {
      "cell_type": "code",
      "source": [
        "#Creating DataFrame\n",
        "\n",
        "df = pd.DataFrame(address,columns = ['address', 'group'])\n",
        "df.head()"
      ],
      "metadata": {
        "colab": {
          "base_uri": "https://localhost:8080/",
          "height": 206
        },
        "id": "bxdO6ioyASxF",
        "outputId": "7750f981-4810-4b5b-90e5-7c0cc224182f"
      },
      "execution_count": null,
      "outputs": [
        {
          "output_type": "execute_result",
          "data": {
            "text/plain": [
              "                                      address     group\n",
              "0    /content/dataset/glaucoma/1412_right.jpg  glaucoma\n",
              "1     /content/dataset/glaucoma/1414_left.jpg  glaucoma\n",
              "2     /content/dataset/glaucoma/1217_left.jpg  glaucoma\n",
              "3  /content/dataset/glaucoma/_123_6574789.jpg  glaucoma\n",
              "4  /content/dataset/glaucoma/_184_7806010.jpg  glaucoma"
            ],
            "text/html": [
              "\n",
              "  <div id=\"df-f5decade-27a5-4853-ab14-92c6304e4a0a\">\n",
              "    <div class=\"colab-df-container\">\n",
              "      <div>\n",
              "<style scoped>\n",
              "    .dataframe tbody tr th:only-of-type {\n",
              "        vertical-align: middle;\n",
              "    }\n",
              "\n",
              "    .dataframe tbody tr th {\n",
              "        vertical-align: top;\n",
              "    }\n",
              "\n",
              "    .dataframe thead th {\n",
              "        text-align: right;\n",
              "    }\n",
              "</style>\n",
              "<table border=\"1\" class=\"dataframe\">\n",
              "  <thead>\n",
              "    <tr style=\"text-align: right;\">\n",
              "      <th></th>\n",
              "      <th>address</th>\n",
              "      <th>group</th>\n",
              "    </tr>\n",
              "  </thead>\n",
              "  <tbody>\n",
              "    <tr>\n",
              "      <th>0</th>\n",
              "      <td>/content/dataset/glaucoma/1412_right.jpg</td>\n",
              "      <td>glaucoma</td>\n",
              "    </tr>\n",
              "    <tr>\n",
              "      <th>1</th>\n",
              "      <td>/content/dataset/glaucoma/1414_left.jpg</td>\n",
              "      <td>glaucoma</td>\n",
              "    </tr>\n",
              "    <tr>\n",
              "      <th>2</th>\n",
              "      <td>/content/dataset/glaucoma/1217_left.jpg</td>\n",
              "      <td>glaucoma</td>\n",
              "    </tr>\n",
              "    <tr>\n",
              "      <th>3</th>\n",
              "      <td>/content/dataset/glaucoma/_123_6574789.jpg</td>\n",
              "      <td>glaucoma</td>\n",
              "    </tr>\n",
              "    <tr>\n",
              "      <th>4</th>\n",
              "      <td>/content/dataset/glaucoma/_184_7806010.jpg</td>\n",
              "      <td>glaucoma</td>\n",
              "    </tr>\n",
              "  </tbody>\n",
              "</table>\n",
              "</div>\n",
              "      <button class=\"colab-df-convert\" onclick=\"convertToInteractive('df-f5decade-27a5-4853-ab14-92c6304e4a0a')\"\n",
              "              title=\"Convert this dataframe to an interactive table.\"\n",
              "              style=\"display:none;\">\n",
              "        \n",
              "  <svg xmlns=\"http://www.w3.org/2000/svg\" height=\"24px\"viewBox=\"0 0 24 24\"\n",
              "       width=\"24px\">\n",
              "    <path d=\"M0 0h24v24H0V0z\" fill=\"none\"/>\n",
              "    <path d=\"M18.56 5.44l.94 2.06.94-2.06 2.06-.94-2.06-.94-.94-2.06-.94 2.06-2.06.94zm-11 1L8.5 8.5l.94-2.06 2.06-.94-2.06-.94L8.5 2.5l-.94 2.06-2.06.94zm10 10l.94 2.06.94-2.06 2.06-.94-2.06-.94-.94-2.06-.94 2.06-2.06.94z\"/><path d=\"M17.41 7.96l-1.37-1.37c-.4-.4-.92-.59-1.43-.59-.52 0-1.04.2-1.43.59L10.3 9.45l-7.72 7.72c-.78.78-.78 2.05 0 2.83L4 21.41c.39.39.9.59 1.41.59.51 0 1.02-.2 1.41-.59l7.78-7.78 2.81-2.81c.8-.78.8-2.07 0-2.86zM5.41 20L4 18.59l7.72-7.72 1.47 1.35L5.41 20z\"/>\n",
              "  </svg>\n",
              "      </button>\n",
              "      \n",
              "  <style>\n",
              "    .colab-df-container {\n",
              "      display:flex;\n",
              "      flex-wrap:wrap;\n",
              "      gap: 12px;\n",
              "    }\n",
              "\n",
              "    .colab-df-convert {\n",
              "      background-color: #E8F0FE;\n",
              "      border: none;\n",
              "      border-radius: 50%;\n",
              "      cursor: pointer;\n",
              "      display: none;\n",
              "      fill: #1967D2;\n",
              "      height: 32px;\n",
              "      padding: 0 0 0 0;\n",
              "      width: 32px;\n",
              "    }\n",
              "\n",
              "    .colab-df-convert:hover {\n",
              "      background-color: #E2EBFA;\n",
              "      box-shadow: 0px 1px 2px rgba(60, 64, 67, 0.3), 0px 1px 3px 1px rgba(60, 64, 67, 0.15);\n",
              "      fill: #174EA6;\n",
              "    }\n",
              "\n",
              "    [theme=dark] .colab-df-convert {\n",
              "      background-color: #3B4455;\n",
              "      fill: #D2E3FC;\n",
              "    }\n",
              "\n",
              "    [theme=dark] .colab-df-convert:hover {\n",
              "      background-color: #434B5C;\n",
              "      box-shadow: 0px 1px 3px 1px rgba(0, 0, 0, 0.15);\n",
              "      filter: drop-shadow(0px 1px 2px rgba(0, 0, 0, 0.3));\n",
              "      fill: #FFFFFF;\n",
              "    }\n",
              "  </style>\n",
              "\n",
              "      <script>\n",
              "        const buttonEl =\n",
              "          document.querySelector('#df-f5decade-27a5-4853-ab14-92c6304e4a0a button.colab-df-convert');\n",
              "        buttonEl.style.display =\n",
              "          google.colab.kernel.accessAllowed ? 'block' : 'none';\n",
              "\n",
              "        async function convertToInteractive(key) {\n",
              "          const element = document.querySelector('#df-f5decade-27a5-4853-ab14-92c6304e4a0a');\n",
              "          const dataTable =\n",
              "            await google.colab.kernel.invokeFunction('convertToInteractive',\n",
              "                                                     [key], {});\n",
              "          if (!dataTable) return;\n",
              "\n",
              "          const docLinkHtml = 'Like what you see? Visit the ' +\n",
              "            '<a target=\"_blank\" href=https://colab.research.google.com/notebooks/data_table.ipynb>data table notebook</a>'\n",
              "            + ' to learn more about interactive tables.';\n",
              "          element.innerHTML = '';\n",
              "          dataTable['output_type'] = 'display_data';\n",
              "          await google.colab.output.renderOutput(dataTable, element);\n",
              "          const docLink = document.createElement('div');\n",
              "          docLink.innerHTML = docLinkHtml;\n",
              "          element.appendChild(docLink);\n",
              "        }\n",
              "      </script>\n",
              "    </div>\n",
              "  </div>\n",
              "  "
            ]
          },
          "metadata": {},
          "execution_count": 12
        }
      ]
    },
    {
      "cell_type": "code",
      "source": [
        "df['group'].value_counts()"
      ],
      "metadata": {
        "colab": {
          "base_uri": "https://localhost:8080/"
        },
        "id": "nT7bpoBXAS0H",
        "outputId": "1d095efd-6662-4c15-a011-d8db52341d99"
      },
      "execution_count": null,
      "outputs": [
        {
          "output_type": "execute_result",
          "data": {
            "text/plain": [
              "diabetic_retinopathy    1098\n",
              "normal                  1074\n",
              "cataract                1038\n",
              "glaucoma                1007\n",
              "Name: group, dtype: int64"
            ]
          },
          "metadata": {},
          "execution_count": 13
        }
      ]
    },
    {
      "cell_type": "code",
      "source": [],
      "metadata": {
        "id": "cU1UVBy5AS4B"
      },
      "execution_count": null,
      "outputs": []
    },
    {
      "cell_type": "code",
      "source": [
        "#To display the first image in the dataset\n",
        "\n",
        "img = plt.imread(df['address'][0])\n",
        "plt.title(df['group'][0])\n",
        "plt.imshow(img)"
      ],
      "metadata": {
        "colab": {
          "base_uri": "https://localhost:8080/",
          "height": 298
        },
        "id": "GXgp8MmiAS7V",
        "outputId": "316164cd-9043-46b0-ede1-3686f18090ca"
      },
      "execution_count": null,
      "outputs": [
        {
          "output_type": "execute_result",
          "data": {
            "text/plain": [
              "<matplotlib.image.AxesImage at 0x7fd6eea94550>"
            ]
          },
          "metadata": {},
          "execution_count": 14
        },
        {
          "output_type": "display_data",
          "data": {
            "text/plain": [
              "<Figure size 432x288 with 1 Axes>"
            ],
            "image/png": "[encoded data removed]"
          },
          "metadata": {
            "needs_background": "light"
          }
        }
      ]
    },
    {
      "cell_type": "code",
      "source": [
        "img.shape"
      ],
      "metadata": {
        "colab": {
          "base_uri": "https://localhost:8080/"
        },
        "id": "zSV-1kYyAS-Y",
        "outputId": "828d25ef-65a3-4776-91a5-ff23b90c819e"
      },
      "execution_count": null,
      "outputs": [
        {
          "output_type": "execute_result",
          "data": {
            "text/plain": [
              "(512, 512, 3)"
            ]
          },
          "metadata": {},
          "execution_count": 15
        }
      ]
    },
    {
      "cell_type": "code",
      "source": [
        "df['label'] = df['group'].map({'cataract': 1,  'normal' : 0 , 'diabetic_retinopathy' : 2,'glaucoma': 3})"
      ],
      "metadata": {
        "id": "vzv0CTIdATBl"
      },
      "execution_count": null,
      "outputs": []
    },
    {
      "cell_type": "code",
      "source": [
        "len(df)"
      ],
      "metadata": {
        "colab": {
          "base_uri": "https://localhost:8080/"
        },
        "id": "MzX7cAtdATE2",
        "outputId": "d2107b88-bfc4-43d9-9d3a-a903b77bf8c4"
      },
      "execution_count": null,
      "outputs": [
        {
          "output_type": "execute_result",
          "data": {
            "text/plain": [
              "4217"
            ]
          },
          "metadata": {},
          "execution_count": 17
        }
      ]
    },
    {
      "cell_type": "code",
      "source": [
        "df.head()"
      ],
      "metadata": {
        "colab": {
          "base_uri": "https://localhost:8080/",
          "height": 206
        },
        "id": "OZWJa-z5ATID",
        "outputId": "4433874f-a591-4852-9621-36ed472ad0ea"
      },
      "execution_count": null,
      "outputs": [
        {
          "output_type": "execute_result",
          "data": {
            "text/plain": [
              "                                      address     group  label\n",
              "0    /content/dataset/glaucoma/1412_right.jpg  glaucoma      3\n",
              "1     /content/dataset/glaucoma/1414_left.jpg  glaucoma      3\n",
              "2     /content/dataset/glaucoma/1217_left.jpg  glaucoma      3\n",
              "3  /content/dataset/glaucoma/_123_6574789.jpg  glaucoma      3\n",
              "4  /content/dataset/glaucoma/_184_7806010.jpg  glaucoma      3"
            ],
            "text/html": [
              "\n",
              "  <div id=\"df-c2fca649-9422-4541-9247-46dee4360b09\">\n",
              "    <div class=\"colab-df-container\">\n",
              "      <div>\n",
              "<style scoped>\n",
              "    .dataframe tbody tr th:only-of-type {\n",
              "        vertical-align: middle;\n",
              "    }\n",
              "\n",
              "    .dataframe tbody tr th {\n",
              "        vertical-align: top;\n",
              "    }\n",
              "\n",
              "    .dataframe thead th {\n",
              "        text-align: right;\n",
              "    }\n",
              "</style>\n",
              "<table border=\"1\" class=\"dataframe\">\n",
              "  <thead>\n",
              "    <tr style=\"text-align: right;\">\n",
              "      <th></th>\n",
              "      <th>address</th>\n",
              "      <th>group</th>\n",
              "      <th>label</th>\n",
              "    </tr>\n",
              "  </thead>\n",
              "  <tbody>\n",
              "    <tr>\n",
              "      <th>0</th>\n",
              "      <td>/content/dataset/glaucoma/1412_right.jpg</td>\n",
              "      <td>glaucoma</td>\n",
              "      <td>3</td>\n",
              "    </tr>\n",
              "    <tr>\n",
              "      <th>1</th>\n",
              "      <td>/content/dataset/glaucoma/1414_left.jpg</td>\n",
              "      <td>glaucoma</td>\n",
              "      <td>3</td>\n",
              "    </tr>\n",
              "    <tr>\n",
              "      <th>2</th>\n",
              "      <td>/content/dataset/glaucoma/1217_left.jpg</td>\n",
              "      <td>glaucoma</td>\n",
              "      <td>3</td>\n",
              "    </tr>\n",
              "    <tr>\n",
              "      <th>3</th>\n",
              "      <td>/content/dataset/glaucoma/_123_6574789.jpg</td>\n",
              "      <td>glaucoma</td>\n",
              "      <td>3</td>\n",
              "    </tr>\n",
              "    <tr>\n",
              "      <th>4</th>\n",
              "      <td>/content/dataset/glaucoma/_184_7806010.jpg</td>\n",
              "      <td>glaucoma</td>\n",
              "      <td>3</td>\n",
              "    </tr>\n",
              "  </tbody>\n",
              "</table>\n",
              "</div>\n",
              "      <button class=\"colab-df-convert\" onclick=\"convertToInteractive('df-c2fca649-9422-4541-9247-46dee4360b09')\"\n",
              "              title=\"Convert this dataframe to an interactive table.\"\n",
              "              style=\"display:none;\">\n",
              "        \n",
              "  <svg xmlns=\"http://www.w3.org/2000/svg\" height=\"24px\"viewBox=\"0 0 24 24\"\n",
              "       width=\"24px\">\n",
              "    <path d=\"M0 0h24v24H0V0z\" fill=\"none\"/>\n",
              "    <path d=\"M18.56 5.44l.94 2.06.94-2.06 2.06-.94-2.06-.94-.94-2.06-.94 2.06-2.06.94zm-11 1L8.5 8.5l.94-2.06 2.06-.94-2.06-.94L8.5 2.5l-.94 2.06-2.06.94zm10 10l.94 2.06.94-2.06 2.06-.94-2.06-.94-.94-2.06-.94 2.06-2.06.94z\"/><path d=\"M17.41 7.96l-1.37-1.37c-.4-.4-.92-.59-1.43-.59-.52 0-1.04.2-1.43.59L10.3 9.45l-7.72 7.72c-.78.78-.78 2.05 0 2.83L4 21.41c.39.39.9.59 1.41.59.51 0 1.02-.2 1.41-.59l7.78-7.78 2.81-2.81c.8-.78.8-2.07 0-2.86zM5.41 20L4 18.59l7.72-7.72 1.47 1.35L5.41 20z\"/>\n",
              "  </svg>\n",
              "      </button>\n",
              "      \n",
              "  <style>\n",
              "    .colab-df-container {\n",
              "      display:flex;\n",
              "      flex-wrap:wrap;\n",
              "      gap: 12px;\n",
              "    }\n",
              "\n",
              "    .colab-df-convert {\n",
              "      background-color: #E8F0FE;\n",
              "      border: none;\n",
              "      border-radius: 50%;\n",
              "      cursor: pointer;\n",
              "      display: none;\n",
              "      fill: #1967D2;\n",
              "      height: 32px;\n",
              "      padding: 0 0 0 0;\n",
              "      width: 32px;\n",
              "    }\n",
              "\n",
              "    .colab-df-convert:hover {\n",
              "      background-color: #E2EBFA;\n",
              "      box-shadow: 0px 1px 2px rgba(60, 64, 67, 0.3), 0px 1px 3px 1px rgba(60, 64, 67, 0.15);\n",
              "      fill: #174EA6;\n",
              "    }\n",
              "\n",
              "    [theme=dark] .colab-df-convert {\n",
              "      background-color: #3B4455;\n",
              "      fill: #D2E3FC;\n",
              "    }\n",
              "\n",
              "    [theme=dark] .colab-df-convert:hover {\n",
              "      background-color: #434B5C;\n",
              "      box-shadow: 0px 1px 3px 1px rgba(0, 0, 0, 0.15);\n",
              "      filter: drop-shadow(0px 1px 2px rgba(0, 0, 0, 0.3));\n",
              "      fill: #FFFFFF;\n",
              "    }\n",
              "  </style>\n",
              "\n",
              "      <script>\n",
              "        const buttonEl =\n",
              "          document.querySelector('#df-c2fca649-9422-4541-9247-46dee4360b09 button.colab-df-convert');\n",
              "        buttonEl.style.display =\n",
              "          google.colab.kernel.accessAllowed ? 'block' : 'none';\n",
              "\n",
              "        async function convertToInteractive(key) {\n",
              "          const element = document.querySelector('#df-c2fca649-9422-4541-9247-46dee4360b09');\n",
              "          const dataTable =\n",
              "            await google.colab.kernel.invokeFunction('convertToInteractive',\n",
              "                                                     [key], {});\n",
              "          if (!dataTable) return;\n",
              "\n",
              "          const docLinkHtml = 'Like what you see? Visit the ' +\n",
              "            '<a target=\"_blank\" href=https://colab.research.google.com/notebooks/data_table.ipynb>data table notebook</a>'\n",
              "            + ' to learn more about interactive tables.';\n",
              "          element.innerHTML = '';\n",
              "          dataTable['output_type'] = 'display_data';\n",
              "          await google.colab.output.renderOutput(dataTable, element);\n",
              "          const docLink = document.createElement('div');\n",
              "          docLink.innerHTML = docLinkHtml;\n",
              "          element.appendChild(docLink);\n",
              "        }\n",
              "      </script>\n",
              "    </div>\n",
              "  </div>\n",
              "  "
            ]
          },
          "metadata": {},
          "execution_count": 18
        }
      ]
    },
    {
      "cell_type": "code",
      "source": [],
      "metadata": {
        "id": "F1iWTxBJATLV"
      },
      "execution_count": null,
      "outputs": []
    },
    {
      "cell_type": "code",
      "source": [
        "# To create a list of boolean labels for each eye disease class in the dataset.\n",
        "\n",
        "unique = np.unique(df['label'])\n",
        "print(unique)\n",
        "boolean_labels = [label == unique for label in df['label']]\n",
        "boolean_labels[:2]"
      ],
      "metadata": {
        "colab": {
          "base_uri": "https://localhost:8080/"
        },
        "id": "sR616hIBATO8",
        "outputId": "c93072f8-5a20-424a-d5c6-e8a6e510bb8e"
      },
      "execution_count": null,
      "outputs": [
        {
          "output_type": "stream",
          "name": "stdout",
          "text": [
            "[0 1 2 3]\n"
          ]
        },
        {
          "output_type": "execute_result",
          "data": {
            "text/plain": [
              "[array([False, False, False,  True]), array([False, False, False,  True])]"
            ]
          },
          "metadata": {},
          "execution_count": 19
        }
      ]
    },
    {
      "cell_type": "code",
      "source": [],
      "metadata": {
        "id": "QBFEudZUATSa"
      },
      "execution_count": null,
      "outputs": []
    },
    {
      "cell_type": "code",
      "source": [
        "X = df['address']\n",
        "y = boolean_labels"
      ],
      "metadata": {
        "id": "nu9Z5ZhGATWD"
      },
      "execution_count": null,
      "outputs": []
    },
    {
      "cell_type": "code",
      "source": [
        "NUM_IMAGES = len(df)\n"
      ],
      "metadata": {
        "id": "wVML8c0oATZQ"
      },
      "execution_count": null,
      "outputs": []
    },
    {
      "cell_type": "code",
      "source": [
        "from sklearn.model_selection import train_test_split\n",
        "\n",
        "X_train,X_test,y_train,y_test = train_test_split(X[:NUM_IMAGES],\n",
        "                                                 y[:NUM_IMAGES],\n",
        "                                                 test_size = 0.20,\n",
        "                                                 random_state =42,\n",
        "                                                 shuffle =True,\n",
        "                                                 stratify = y[:NUM_IMAGES])"
      ],
      "metadata": {
        "id": "Sef4HL30ATcr"
      },
      "execution_count": null,
      "outputs": []
    },
    {
      "cell_type": "code",
      "source": [
        "X_train,X_val,y_train,y_val = train_test_split(X_train,y_train,test_size = 0.20,random_state = 42)"
      ],
      "metadata": {
        "id": "13nGAOTTATf7"
      },
      "execution_count": null,
      "outputs": []
    },
    {
      "cell_type": "code",
      "source": [
        "\n",
        "len(X_train), len(X_val), len(X_test)"
      ],
      "metadata": {
        "colab": {
          "base_uri": "https://localhost:8080/"
        },
        "id": "2B65i1EwATjX",
        "outputId": "27992a7e-4a4c-499e-8170-986d28b7ff4c"
      },
      "execution_count": null,
      "outputs": [
        {
          "output_type": "execute_result",
          "data": {
            "text/plain": [
              "(2698, 675, 844)"
            ]
          },
          "metadata": {},
          "execution_count": 24
        }
      ]
    },
    {
      "cell_type": "code",
      "source": [
        "#To preprocess images in the eye diseases dataset.\n",
        "\n",
        "img_size = 224\n",
        "def process_images(image_path, img_size = img_size):\n",
        "\n",
        "  img = tf.io.read_file(image_path)\n",
        "  img = tf.image.decode_jpeg(img, channels = 3)\n",
        "  img = tf.image.convert_image_dtype(img,tf.float32)\n",
        "  img = tf.image.resize(img, size = [img_size,img_size])\n",
        "\n",
        "  return img"
      ],
      "metadata": {
        "id": "ARq8Ta9LATna"
      },
      "execution_count": null,
      "outputs": []
    },
    {
      "cell_type": "code",
      "source": [
        "# To preprocess an image and its corresponding label in the eye diseases dataset.\n",
        "\n",
        "def get_image_label(image_path, label):\n",
        "  image = process_images(image_path)\n",
        "\n",
        "  return image,label"
      ],
      "metadata": {
        "id": "8iIer0akATqy"
      },
      "execution_count": null,
      "outputs": []
    },
    {
      "cell_type": "code",
      "source": [
        "# To creates a TensorFlow dataset from a tensor of image paths X_test.\n",
        "\n",
        "tf.data.Dataset.from_tensor_slices(tf.constant(X_test))"
      ],
      "metadata": {
        "colab": {
          "base_uri": "https://localhost:8080/"
        },
        "id": "HrTxWe9BATuW",
        "outputId": "188015ac-0248-4041-ecda-806ce168a544"
      },
      "execution_count": null,
      "outputs": [
        {
          "output_type": "execute_result",
          "data": {
            "text/plain": [
              "<TensorSliceDataset element_spec=TensorSpec(shape=(), dtype=tf.string, name=None)>"
            ]
          },
          "metadata": {},
          "execution_count": 27
        }
      ]
    },
    {
      "cell_type": "code",
      "source": [
        "#To create batches\n",
        "\n",
        "batch_size = 32\n",
        "\n",
        "def create_data_batches(X,y=None,batch_size=batch_size,valid_data=False,test_data=False):\n",
        "  if test_data:\n",
        "    print('Creating test data batches....')\n",
        "    data = tf.data.Dataset.from_tensor_slices((tf.constant(X)))\n",
        "    data_batch = data.map(process_images).batch(batch_size)\n",
        "    return data_batch\n",
        "\n",
        "  elif valid_data:\n",
        "    print('Creating valiation data batches....')\n",
        "    data = tf.data.Dataset.from_tensor_slices((tf.constant(X),tf.constant(y)))\n",
        "    data_batch = data.map(get_image_label).batch(batch_size)\n",
        "    return data_batch\n",
        "\n",
        "  else:\n",
        "    print(\"Creating training data batches....\")\n",
        "    data = tf.data.Dataset.from_tensor_slices((tf.constant(X),tf.constant(y)))\n",
        "    data = data.shuffle(buffer_size = len(X))\n",
        "    data = data.map(get_image_label)\n",
        "    data_batch = data.batch(batch_size)\n",
        "  return data_batch"
      ],
      "metadata": {
        "id": "mBDdIkQ2ATyP"
      },
      "execution_count": null,
      "outputs": []
    },
    {
      "cell_type": "code",
      "source": [
        "train_data = create_data_batches(X_train,y_train)\n",
        "val_data = create_data_batches(X_val,y_val,valid_data = True)"
      ],
      "metadata": {
        "colab": {
          "base_uri": "https://localhost:8080/"
        },
        "id": "wSYqZNEpAT4S",
        "outputId": "d44b1e8c-1d56-40e4-f568-977329af4b81"
      },
      "execution_count": null,
      "outputs": [
        {
          "output_type": "stream",
          "name": "stdout",
          "text": [
            "Creating training data batches....\n",
            "Creating valiation data batches....\n"
          ]
        }
      ]
    },
    {
      "cell_type": "code",
      "source": [
        "test_data = create_data_batches(X_test,test_data = True)"
      ],
      "metadata": {
        "colab": {
          "base_uri": "https://localhost:8080/"
        },
        "id": "SXd3oBSUAT-V",
        "outputId": "bd1a24f1-d685-4391-fd98-40dbc7015e88"
      },
      "execution_count": null,
      "outputs": [
        {
          "output_type": "stream",
          "name": "stdout",
          "text": [
            "Creating test data batches....\n"
          ]
        }
      ]
    },
    {
      "cell_type": "code",
      "source": [
        "train_data.element_spec,val_data.element_spec,test_data.element_spec"
      ],
      "metadata": {
        "colab": {
          "base_uri": "https://localhost:8080/"
        },
        "id": "ZGaIsPD3AUB6",
        "outputId": "236f38f0-1274-4efb-9948-57521a256db0"
      },
      "execution_count": null,
      "outputs": [
        {
          "output_type": "execute_result",
          "data": {
            "text/plain": [
              "((TensorSpec(shape=(None, 224, 224, 3), dtype=tf.float32, name=None),\n",
              "  TensorSpec(shape=(None, 4), dtype=tf.bool, name=None)),\n",
              " (TensorSpec(shape=(None, 224, 224, 3), dtype=tf.float32, name=None),\n",
              "  TensorSpec(shape=(None, 4), dtype=tf.bool, name=None)),\n",
              " TensorSpec(shape=(None, 224, 224, 3), dtype=tf.float32, name=None))"
            ]
          },
          "metadata": {},
          "execution_count": 31
        }
      ]
    },
    {
      "cell_type": "code",
      "source": [
        "train_data"
      ],
      "metadata": {
        "colab": {
          "base_uri": "https://localhost:8080/"
        },
        "id": "Kof91J8BAUFx",
        "outputId": "be8082b9-5516-43f3-e7ff-a961d5845830"
      },
      "execution_count": null,
      "outputs": [
        {
          "output_type": "execute_result",
          "data": {
            "text/plain": [
              "<BatchDataset element_spec=(TensorSpec(shape=(None, 224, 224, 3), dtype=tf.float32, name=None), TensorSpec(shape=(None, 4), dtype=tf.bool, name=None))>"
            ]
          },
          "metadata": {},
          "execution_count": 32
        }
      ]
    },
    {
      "cell_type": "code",
      "source": [],
      "metadata": {
        "id": "yesr2P2wAUJt"
      },
      "execution_count": null,
      "outputs": []
    },
    {
      "cell_type": "code",
      "source": [
        "#Importing libraries\n",
        "\n",
        "import numpy as np\n",
        "import pandas as pd\n",
        "from keras.layers import Dense, Flatten, Conv2D\n",
        "from keras.layers import BatchNormalization, MaxPool2D, Dropout\n",
        "from keras import Sequential"
      ],
      "metadata": {
        "id": "m3QFSjLDAUNV"
      },
      "execution_count": null,
      "outputs": []
    },
    {
      "cell_type": "code",
      "source": [
        "import keras\n",
        "from keras.preprocessing import image\n",
        "from keras.preprocessing.image import ImageDataGenerator\n",
        "from keras.models import load_model\n",
        "from keras.models import Model"
      ],
      "metadata": {
        "id": "6LJ61TgwAUQ0"
      },
      "execution_count": null,
      "outputs": []
    },
    {
      "cell_type": "code",
      "source": [
        "#The \"img_size\" variable specifies the target size (height and width) of the preprocessed images.\n",
        "\n",
        "img_size = 224\n",
        "\n",
        "input_size = [None,img_size,img_size,3]\n",
        "\n",
        "output_size = len(unique)\n",
        "\n",
        "model_url = 'https://tfhub.dev/google/efficientnet/b0/classification/1'\n",
        "#Efficientnet_b0"
      ],
      "metadata": {
        "id": "xS7gpLA-AUUU"
      },
      "execution_count": null,
      "outputs": []
    },
    {
      "cell_type": "code",
      "source": [
        "#The function create_model takes the input_size, output_size, and model_url as input arguments, and returns a compiled Keras model. The input_size defines the shape of the input tensor\n",
        "\n",
        "def create_model(input_size = input_size, output_size = output_size, model_url = model_url):\n",
        "  model = tf.keras.Sequential([#data_augmentation,\n",
        "                              hub.KerasLayer(model_url),\n",
        "                              tf.keras.layers.Flatten(),\n",
        "                              tf.keras.layers.Dense(units = 256,activation ='relu'),\n",
        "                              tf.keras.layers.Dense(units = 256,activation ='relu'),\n",
        "                              tf.keras.layers.Dense(units = output_size, activation ='softmax')])\n",
        "  model.compile(loss=tf.keras.losses.CategoricalCrossentropy(),\n",
        "                optimizer = tf.keras.optimizers.Adam(),\n",
        "                metrics=['accuracy'])\n",
        "  model.build(input_size)\n",
        "\n",
        "  return model"
      ],
      "metadata": {
        "id": "Fl34Y5VnAUbz"
      },
      "execution_count": null,
      "outputs": []
    },
    {
      "cell_type": "code",
      "source": [
        "model = create_model()\n",
        "model.summary()"
      ],
      "metadata": {
        "colab": {
          "base_uri": "https://localhost:8080/"
        },
        "id": "L9TBD2iDAUfk",
        "outputId": "a1375095-f366-47ad-a8b9-0d526bb2cd57"
      },
      "execution_count": null,
      "outputs": [
        {
          "output_type": "stream",
          "name": "stderr",
          "text": [
            "WARNING:tensorflow:Please fix your imports. Module tensorflow.python.training.tracking.data_structures has been moved to tensorflow.python.trackable.data_structures. The old module will be deleted in version 2.11.\n",
            "WARNING:tensorflow:From /usr/local/lib/python3.9/dist-packages/tensorflow/python/autograph/pyct/static_analysis/liveness.py:83: Analyzer.lamba_check (from tensorflow.python.autograph.pyct.static_analysis.liveness) is deprecated and will be removed after 2023-09-23.\n",
            "Instructions for updating:\n",
            "Lambda fuctions will be no more assumed to be used in the statement where they are used, or at least in the same block. https://github.com/tensorflow/tensorflow/issues/56089\n"
          ]
        },
        {
          "output_type": "stream",
          "name": "stdout",
          "text": [
            "Model: \"sequential\"\n",
            "_________________________________________________________________\n",
            " Layer (type)                Output Shape              Param #   \n",
            "=================================================================\n",
            " keras_layer (KerasLayer)    (None, 1000)              5330564   \n",
            "                                                                 \n",
            " flatten (Flatten)           (None, 1000)              0         \n",
            "                                                                 \n",
            " dense (Dense)               (None, 256)               256256    \n",
            "                                                                 \n",
            " dense_1 (Dense)             (None, 256)               65792     \n",
            "                                                                 \n",
            " dense_2 (Dense)             (None, 4)                 1028      \n",
            "                                                                 \n",
            "=================================================================\n",
            "Total params: 5,653,640\n",
            "Trainable params: 323,076\n",
            "Non-trainable params: 5,330,564\n",
            "_________________________________________________________________\n"
          ]
        }
      ]
    },
    {
      "cell_type": "code",
      "source": [
        "%load_ext tensorboard"
      ],
      "metadata": {
        "id": "p3sTVSLlAUjF"
      },
      "execution_count": null,
      "outputs": []
    },
    {
      "cell_type": "code",
      "source": [
        "#Tensorflow callback\n",
        "\n",
        "import datetime\n",
        "\n",
        "def create_tensorboard_callback():\n",
        "\n",
        "  logdir = os.path.join('/content/logs', datetime.datetime.now().strftime(\"%Y%m%d-%H%M%S\"))\n",
        "\n",
        "  return tf.keras.callbacks.TensorBoard(logdir)"
      ],
      "metadata": {
        "id": "pZcl6dEbAUnF"
      },
      "execution_count": null,
      "outputs": []
    },
    {
      "cell_type": "code",
      "source": [
        "early_stopping = tf.keras.callbacks.EarlyStopping(monitor = 'val_accuracy',\n",
        "                                                  patience = 3)"
      ],
      "metadata": {
        "id": "9cn23XR_AUqp"
      },
      "execution_count": null,
      "outputs": []
    },
    {
      "cell_type": "code",
      "source": [
        "epoc =20 #@param {type:\"slider\", min:20,max:1000}"
      ],
      "metadata": {
        "id": "9vgrw7fTAUub"
      },
      "execution_count": null,
      "outputs": []
    },
    {
      "cell_type": "code",
      "source": [
        "tensorboard = create_tensorboard_callback()\n",
        "\n",
        "history = model.fit(x=train_data,\n",
        "            epochs = epoc,\n",
        "            validation_data = val_data,\n",
        "            validation_freq = 1,\n",
        "            callbacks = [tensorboard,early_stopping])"
      ],
      "metadata": {
        "colab": {
          "base_uri": "https://localhost:8080/"
        },
        "id": "Ow6gP3Z0AUyD",
        "outputId": "f754844c-75f2-4f53-fc7c-0ef87d95da9f"
      },
      "execution_count": null,
      "outputs": [
        {
          "output_type": "stream",
          "name": "stdout",
          "text": [
            "Epoch 1/20\n",
            "85/85 [==============================] - 285s 3s/step - loss: 0.5731 - accuracy: 0.7809 - val_loss: 0.4048 - val_accuracy: 0.8370\n",
            "Epoch 2/20\n",
            "85/85 [==============================] - 286s 3s/step - loss: 0.3431 - accuracy: 0.8688 - val_loss: 0.4281 - val_accuracy: 0.8459\n",
            "Epoch 3/20\n",
            "85/85 [==============================] - 283s 3s/step - loss: 0.2815 - accuracy: 0.8947 - val_loss: 0.3063 - val_accuracy: 0.8770\n",
            "Epoch 4/20\n",
            "85/85 [==============================] - 288s 3s/step - loss: 0.2475 - accuracy: 0.9003 - val_loss: 0.2687 - val_accuracy: 0.8933\n",
            "Epoch 5/20\n",
            "85/85 [==============================] - 276s 3s/step - loss: 0.2241 - accuracy: 0.9148 - val_loss: 0.3963 - val_accuracy: 0.8548\n",
            "Epoch 6/20\n",
            "85/85 [==============================] - 283s 3s/step - loss: 0.1798 - accuracy: 0.9318 - val_loss: 0.3103 - val_accuracy: 0.8830\n",
            "Epoch 7/20\n",
            "85/85 [==============================] - 276s 3s/step - loss: 0.2203 - accuracy: 0.9173 - val_loss: 0.2927 - val_accuracy: 0.8889\n"
          ]
        }
      ]
    },
    {
      "cell_type": "code",
      "source": [
        " tf.keras.models.save_model(model,'my_model2.hdfs')"
      ],
      "metadata": {
        "id": "7jwfFKT-jYim",
        "colab": {
          "base_uri": "https://localhost:8080/"
        },
        "outputId": "983b3d19-749f-43e5-8cee-039cb26e46a7"
      },
      "execution_count": null,
      "outputs": [
        {
          "output_type": "stream",
          "name": "stderr",
          "text": [
            "WARNING:absl:Found untraced functions such as _update_step_xla while saving (showing 1 of 1). These functions will not be directly callable after loading.\n"
          ]
        }
      ]
    },
    {
      "cell_type": "code",
      "source": [
        "model.save('/content/model/efficientnet.h5')"
      ],
      "metadata": {
        "id": "XaTxLsaiAU2B"
      },
      "execution_count": null,
      "outputs": []
    },
    {
      "cell_type": "code",
      "source": [
        "model = tf.keras.models.load_model('/content/model/efficientnet.h5',custom_objects={'KerasLayer': hub.KerasLayer})"
      ],
      "metadata": {
        "id": "lWlAvBTeAU6P"
      },
      "execution_count": null,
      "outputs": []
    },
    {
      "cell_type": "code",
      "source": [
        "y_preds = model.predict(test_data,verbose = 1)"
      ],
      "metadata": {
        "id": "efqZ5yaAAVDi",
        "colab": {
          "base_uri": "https://localhost:8080/"
        },
        "outputId": "8acd9f6a-4c1f-4ad8-df30-e6b37c2b1718"
      },
      "execution_count": null,
      "outputs": [
        {
          "output_type": "stream",
          "name": "stdout",
          "text": [
            "27/27 [==============================] - 74s 3s/step\n"
          ]
        }
      ]
    },
    {
      "cell_type": "code",
      "source": [
        "def get_pred_label(prediction_probabilities):\n",
        "  \"\"\"\n",
        "   Turns an array of prediction probabilities into a label.\n",
        "  \"\"\"\n",
        "  return unique[np.argmax(prediction_probabilities)]"
      ],
      "metadata": {
        "id": "P3dnCyQVAVII"
      },
      "execution_count": null,
      "outputs": []
    },
    {
      "cell_type": "code",
      "source": [
        "custom_pred_labels = [get_pred_label(y_preds[i]) for i in range(len(y_preds))]"
      ],
      "metadata": {
        "id": "ZqU7c9hLAVM1"
      },
      "execution_count": null,
      "outputs": []
    },
    {
      "cell_type": "code",
      "source": [
        "custom_test = [get_pred_label(y_test[i]) for i in range(len(y_test))]"
      ],
      "metadata": {
        "id": "MFaMZ6eoAVRu"
      },
      "execution_count": null,
      "outputs": []
    },
    {
      "cell_type": "code",
      "source": [
        "from sklearn.metrics import accuracy_score, precision_score, recall_score, confusion_matrix"
      ],
      "metadata": {
        "id": "yj9Mn8EYAVWl"
      },
      "execution_count": null,
      "outputs": []
    },
    {
      "cell_type": "code",
      "source": [
        "confusion_matrix(custom_test, custom_pred_labels)"
      ],
      "metadata": {
        "id": "EyjLSRq-AVa7",
        "colab": {
          "base_uri": "https://localhost:8080/"
        },
        "outputId": "818ba6bf-a34f-43d7-f48d-b9157862ce22"
      },
      "execution_count": null,
      "outputs": [
        {
          "output_type": "execute_result",
          "data": {
            "text/plain": [
              "array([[193,   4,   8,  10],\n",
              "       [  7, 195,   0,   6],\n",
              "       [  4,   1, 215,   0],\n",
              "       [ 36,   9,   1, 155]])"
            ]
          },
          "metadata": {},
          "execution_count": 51
        }
      ]
    },
    {
      "cell_type": "code",
      "source": [
        "import seaborn as sns\n",
        "cm = confusion_matrix(custom_test, custom_pred_labels)\n",
        "plt.figure(figsize=(8, 4))\n",
        "sns.heatmap(cm, annot=True, vmin=0, fmt='g', cmap='Blues', cbar=False)\n",
        "plt.xlabel(\"Predicted\")\n",
        "plt.ylabel(\"Actual\")\n",
        "plt.title(\"Confusion Matrix\")"
      ],
      "metadata": {
        "colab": {
          "base_uri": "https://localhost:8080/",
          "height": 312
        },
        "id": "QyNh1cOL8SYa",
        "outputId": "acee84fe-29ec-4fbf-f280-9b6699f8e8b9"
      },
      "execution_count": null,
      "outputs": [
        {
          "output_type": "execute_result",
          "data": {
            "text/plain": [
              "Text(0.5, 1.0, 'Confusion Matrix')"
            ]
          },
          "metadata": {},
          "execution_count": 55
        },
        {
          "output_type": "display_data",
          "data": {
            "text/plain": [
              "<Figure size 576x288 with 1 Axes>"
            ],
            "image/png": "[encoded data removed]"
          },
          "metadata": {
            "needs_background": "light"
          }
        }
      ]
    },
    {
      "cell_type": "code",
      "source": [
        "#Displaying the results\n",
        "\n",
        "\n",
        "print(accuracy_score(custom_test,custom_pred_labels))\n",
        "print(precision_score(custom_test,custom_pred_labels,average = None))\n",
        "print(recall_score(custom_test,custom_pred_labels, average = None))"
      ],
      "metadata": {
        "id": "JN0b5eJ9AViv",
        "colab": {
          "base_uri": "https://localhost:8080/"
        },
        "outputId": "5a7eedca-f5fa-4701-bd0f-a58deff3b9af"
      },
      "execution_count": null,
      "outputs": [
        {
          "output_type": "stream",
          "name": "stdout",
          "text": [
            "0.8886255924170616\n",
            "[0.89690722 0.91219512 0.96       0.78636364]\n",
            "[0.80930233 0.89903846 0.98181818 0.86069652]\n"
          ]
        }
      ]
    },
    {
      "cell_type": "code",
      "source": [],
      "metadata": {
        "id": "s8_fU2DLAVmf"
      },
      "execution_count": null,
      "outputs": []
    },
    {
      "cell_type": "code",
      "source": [
        "# Summarize history for accuracy:\n",
        "plt.plot(history.history['accuracy'])\n",
        "plt.plot(history.history['val_accuracy'])\n",
        "plt.title('Model Accuracy', fontsize = 20)\n",
        "plt.ylabel('Accuracy', fontsize = 15)\n",
        "plt.xlabel('Epoch', fontsize = 15)\n",
        "plt.legend(['train', 'test'], loc = 'upper left')\n",
        "plt.show()"
      ],
      "metadata": {
        "id": "6O7txO4EAVqL",
        "colab": {
          "base_uri": "https://localhost:8080/"
        },
        "outputId": "f727dac1-c6f4-4c26-ac64-0e97fdd385b4"
      },
      "execution_count": null,
      "outputs": [
        {
          "output_type": "display_data",
          "data": {
            "text/plain": [
              "<Figure size 432x288 with 1 Axes>"
            ],
            "image/png": "[encoded data removed]"
          },
          "metadata": {
            "needs_background": "light"
          }
        }
      ]
    },
    {
      "cell_type": "code",
      "source": [
        "# summarize history for loss:\n",
        "plt.plot(history.history['loss'])\n",
        "plt.plot(history.history['val_loss'])\n",
        "plt.title('Model Loss', fontsize = 20)\n",
        "plt.ylabel('Loss', fontsize = 15)\n",
        "plt.xlabel('Epoch', fontsize = 15)\n",
        "plt.legend(['train', 'test'], loc='upper right')\n",
        "plt.show()"
      ],
      "metadata": {
        "id": "bSOXGdeJAVt7",
        "colab": {
          "base_uri": "https://localhost:8080/",
          "height": 305
        },
        "outputId": "6c075eda-d54d-4753-f9ef-be8a17102eb4"
      },
      "execution_count": null,
      "outputs": [
        {
          "output_type": "display_data",
          "data": {
            "text/plain": [
              "<Figure size 432x288 with 1 Axes>"
            ],
            "image/png": "[encoded data removed]"
          },
          "metadata": {
            "needs_background": "light"
          }
        }
      ]
    },
    {
      "cell_type": "code",
      "source": [
        "Models=['efficientnet_B0','Inception_V3','Resnet50','mobilenet']\n",
        "accuracy_score=[90.87,78.19,80.23,87.55]"
      ],
      "metadata": {
        "id": "-muc-L7xAV9Y"
      },
      "execution_count": null,
      "outputs": []
    },
    {
      "cell_type": "code",
      "source": [
        "import seaborn as sns\n",
        "sns.barplot(x=Models,y=accuracy_score)"
      ],
      "metadata": {
        "id": "kizlZ1c0AWBQ",
        "colab": {
          "base_uri": "https://localhost:8080/",
          "height": 283
        },
        "outputId": "3c8e5a62-138d-4401-bb6a-da5cf494dd52"
      },
      "execution_count": null,
      "outputs": [
        {
          "output_type": "execute_result",
          "data": {
            "text/plain": [
              "<AxesSubplot:>"
            ]
          },
          "metadata": {},
          "execution_count": 66
        },
        {
          "output_type": "display_data",
          "data": {
            "text/plain": [
              "<Figure size 432x288 with 1 Axes>"
            ],
            "image/png": "[encoded data removed]"
          },
          "metadata": {
            "needs_background": "light"
          }
        }
      ]
    },
    {
      "cell_type": "code",
      "source": [],
      "metadata": {
        "id": "HtCN4T9k26Ek"
      },
      "execution_count": null,
      "outputs": []
    }
  ]
}